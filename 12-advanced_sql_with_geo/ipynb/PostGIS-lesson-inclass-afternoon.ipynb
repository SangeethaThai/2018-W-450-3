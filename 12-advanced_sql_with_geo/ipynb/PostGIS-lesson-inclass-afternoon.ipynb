{
 "cells": [
  {
   "cell_type": "markdown",
   "metadata": {},
   "source": [
    "# PostGIS\n",
    "\n",
    "The city of San Francisco wants to assess the quality of restaurants in the city. Their data is scattered across multiple sources and incomplete.\n",
    "\n",
    "They tasked you to help them assess it.\n",
    "\n",
    "They would like to know what the most common violations are where they happen most frequently.\n",
    "\n",
    "We will use a PostgreSQL database configured with the geo-spatial tool, PostGIS, to do this work."
   ]
  },
  {
   "cell_type": "markdown",
   "metadata": {},
   "source": [
    "# Three Database Concepts"
   ]
  },
  {
   "cell_type": "markdown",
   "metadata": {},
   "source": [
    "1. CRUD\n",
    "2. connection and cursor\n",
    "3. transactions"
   ]
  },
  {
   "cell_type": "markdown",
   "metadata": {},
   "source": [
    "## CRUD\n",
    "\n",
    "| | SQL | RESTful API |\n",
    "|:-:|:-:|:-:|\n",
    "| create | `INSERT` | `POST` |\n",
    "| read | `SELECT` | `GET` |\n",
    "| update | `UPDATE` | `PUT` |\n",
    "| delete | `DELETE` | `DELETE` |\n"
   ]
  },
  {
   "cell_type": "markdown",
   "metadata": {},
   "source": [
    "### Correspondence to Python Classes"
   ]
  },
  {
   "cell_type": "code",
   "execution_count": 1,
   "metadata": {
    "collapsed": true
   },
   "outputs": [],
   "source": [
    "class Foo():\n",
    "    def __init__(self, bar, baz):\n",
    "        self.bar = int(bar)\n",
    "        self.baz = int(baz)"
   ]
  },
  {
   "cell_type": "markdown",
   "metadata": {},
   "source": [
    "This class would correspond to a SQL table.\n",
    "\n",
    "           foo\n",
    "    +-------+-------+               \n",
    "    |  bar  |  baz  |\n",
    "    +-------+-------+\n",
    "    |  int  |  int  |\n",
    "    +-------+-------+    "
   ]
  },
  {
   "cell_type": "code",
   "execution_count": 2,
   "metadata": {
    "collapsed": true
   },
   "outputs": [],
   "source": [
    "foo_1 = Foo(4,3)\n",
    "foo_2 = Foo(-1,2)\n",
    "foo_3 = Foo(0,-1)"
   ]
  },
  {
   "cell_type": "markdown",
   "metadata": {},
   "source": [
    "## Connection and Cursor\n",
    "\n",
    "We will use a connection object to define our connection to our database over a network.\n",
    "\n",
    "We will use a cursor object to write to the database. The cursor is created by a class function of the connection object."
   ]
  },
  {
   "cell_type": "code",
   "execution_count": 3,
   "metadata": {
    "collapsed": true
   },
   "outputs": [],
   "source": [
    "import psycopg2 as pg2\n",
    "from psycopg2.extras import RealDictCursor\n",
    "\n",
    "connection = pg2.connect(host='postgis',\n",
    "                         user='postgres',\n",
    "                         database='postgres')\n",
    "cursor = connection.cursor(cursor_factory=RealDictCursor)"
   ]
  },
  {
   "cell_type": "markdown",
   "metadata": {},
   "source": [
    "The cursor can be used to execute queries and then to fetch the results of the query."
   ]
  },
  {
   "cell_type": "code",
   "execution_count": 4,
   "metadata": {
    "collapsed": true
   },
   "outputs": [],
   "source": [
    "cursor.execute(\"SELECT * FROM business LIMIT 2;\")"
   ]
  },
  {
   "cell_type": "code",
   "execution_count": 5,
   "metadata": {
    "collapsed": true
   },
   "outputs": [],
   "source": [
    "result = cursor.fetchall()"
   ]
  },
  {
   "cell_type": "code",
   "execution_count": 6,
   "metadata": {
    "collapsed": true
   },
   "outputs": [],
   "source": [
    "connection.close()"
   ]
  },
  {
   "cell_type": "markdown",
   "metadata": {},
   "source": [
    "Because we used the `cursor_factory=RealDictCursor` argument, the results return a list of dictionary objects from the database. \n",
    "\n",
    "The advantage of this is that we can display these results easily with a DataFrame.\n"
   ]
  },
  {
   "cell_type": "code",
   "execution_count": 7,
   "metadata": {},
   "outputs": [
    {
     "data": {
      "text/plain": [
       "[{'address': '1530 HAIGHT ST ',\n",
       "  'city': 'San Francisco',\n",
       "  'gpnt_location': '0101000020E6100000C32973F38DE242405FB87361A49C5EC0',\n",
       "  'id': 64660,\n",
       "  'latitude': 37.769957,\n",
       "  'longitude': -122.447533,\n",
       "  'name': 'HAIGHT STREET MARKET',\n",
       "  'phone_number': '+14152550643',\n",
       "  'postal_code': 94117,\n",
       "  'state': 'CA'},\n",
       " {'address': '24 WILLIE MAYS PLAZA 5.26.01  ',\n",
       "  'city': 'San Francisco',\n",
       "  'gpnt_location': '0101000020E6100000C5E57805A2E342400D33349E08995EC0',\n",
       "  'id': 5632,\n",
       "  'latitude': 37.778382,\n",
       "  'longitude': -122.391151,\n",
       "  'name': 'AT&T - DOGGIE DINNER - RM 5333/V [145162]',\n",
       "  'phone_number': '+14159721500',\n",
       "  'postal_code': 94107,\n",
       "  'state': 'CA'}]"
      ]
     },
     "execution_count": 7,
     "metadata": {},
     "output_type": "execute_result"
    }
   ],
   "source": [
    "result"
   ]
  },
  {
   "cell_type": "code",
   "execution_count": 8,
   "metadata": {
    "collapsed": true
   },
   "outputs": [],
   "source": [
    "import pandas as pd"
   ]
  },
  {
   "cell_type": "code",
   "execution_count": 9,
   "metadata": {},
   "outputs": [
    {
     "data": {
      "text/html": [
       "<div>\n",
       "<table border=\"1\" class=\"dataframe\">\n",
       "  <thead>\n",
       "    <tr style=\"text-align: right;\">\n",
       "      <th></th>\n",
       "      <th>address</th>\n",
       "      <th>city</th>\n",
       "      <th>gpnt_location</th>\n",
       "      <th>id</th>\n",
       "      <th>latitude</th>\n",
       "      <th>longitude</th>\n",
       "      <th>name</th>\n",
       "      <th>phone_number</th>\n",
       "      <th>postal_code</th>\n",
       "      <th>state</th>\n",
       "    </tr>\n",
       "  </thead>\n",
       "  <tbody>\n",
       "    <tr>\n",
       "      <th>0</th>\n",
       "      <td>1530 HAIGHT ST</td>\n",
       "      <td>San Francisco</td>\n",
       "      <td>0101000020E6100000C32973F38DE242405FB87361A49C...</td>\n",
       "      <td>64660</td>\n",
       "      <td>37.769957</td>\n",
       "      <td>-122.447533</td>\n",
       "      <td>HAIGHT STREET MARKET</td>\n",
       "      <td>+14152550643</td>\n",
       "      <td>94117</td>\n",
       "      <td>CA</td>\n",
       "    </tr>\n",
       "    <tr>\n",
       "      <th>1</th>\n",
       "      <td>24 WILLIE MAYS PLAZA 5.26.01</td>\n",
       "      <td>San Francisco</td>\n",
       "      <td>0101000020E6100000C5E57805A2E342400D33349E0899...</td>\n",
       "      <td>5632</td>\n",
       "      <td>37.778382</td>\n",
       "      <td>-122.391151</td>\n",
       "      <td>AT&amp;T - DOGGIE DINNER - RM 5333/V [145162]</td>\n",
       "      <td>+14159721500</td>\n",
       "      <td>94107</td>\n",
       "      <td>CA</td>\n",
       "    </tr>\n",
       "  </tbody>\n",
       "</table>\n",
       "</div>"
      ],
      "text/plain": [
       "                          address           city  \\\n",
       "0                 1530 HAIGHT ST   San Francisco   \n",
       "1  24 WILLIE MAYS PLAZA 5.26.01    San Francisco   \n",
       "\n",
       "                                       gpnt_location     id   latitude  \\\n",
       "0  0101000020E6100000C32973F38DE242405FB87361A49C...  64660  37.769957   \n",
       "1  0101000020E6100000C5E57805A2E342400D33349E0899...   5632  37.778382   \n",
       "\n",
       "    longitude                                       name  phone_number  \\\n",
       "0 -122.447533                       HAIGHT STREET MARKET  +14152550643   \n",
       "1 -122.391151  AT&T - DOGGIE DINNER - RM 5333/V [145162]  +14159721500   \n",
       "\n",
       "   postal_code state  \n",
       "0        94117    CA  \n",
       "1        94107    CA  "
      ]
     },
     "execution_count": 9,
     "metadata": {},
     "output_type": "execute_result"
    }
   ],
   "source": [
    "connection = pg2.connect(host='postgis',\n",
    "                         user='postgres',\n",
    "                         database='postgres')\n",
    "cursor = connection.cursor(cursor_factory=RealDictCursor)\n",
    "cursor.execute(\"SELECT * FROM business LIMIT 2;\")\n",
    "pd.DataFrame(cursor.fetchall())"
   ]
  },
  {
   "cell_type": "code",
   "execution_count": 10,
   "metadata": {
    "collapsed": true
   },
   "outputs": [],
   "source": [
    "connection.close()"
   ]
  },
  {
   "cell_type": "code",
   "execution_count": 11,
   "metadata": {},
   "outputs": [
    {
     "name": "stdout",
     "output_type": "stream",
     "text": [
      "/home/jovyan/ipynb\n"
     ]
    }
   ],
   "source": [
    "%%bash\n",
    "pwd"
   ]
  },
  {
   "cell_type": "markdown",
   "metadata": {},
   "source": [
    "## `lib.db_helper`"
   ]
  },
  {
   "cell_type": "markdown",
   "metadata": {},
   "source": [
    "Because we will keep using the connection-cursor pattern, we have written it into a sub-module."
   ]
  },
  {
   "cell_type": "code",
   "execution_count": 12,
   "metadata": {
    "collapsed": true
   },
   "outputs": [],
   "source": [
    "from os import chdir\n",
    "chdir('/home/jovyan')"
   ]
  },
  {
   "cell_type": "code",
   "execution_count": 13,
   "metadata": {
    "collapsed": true
   },
   "outputs": [],
   "source": [
    "import lib.db_helper as db"
   ]
  },
  {
   "cell_type": "markdown",
   "metadata": {},
   "source": [
    "#### `db.connect_to_db()`\n",
    "\n",
    "Contains our connection credentials and returns a connection and cursor. \n",
    "\n",
    "    def connect_to_db():\n",
    "        con = pg2.connect(host='postgis',\n",
    "                          dbname='postgres',\n",
    "                          user='postgres')\n",
    "        cur = con.cursor(cursor_factory=RealDictCursor)\n",
    "        return con, cur"
   ]
  },
  {
   "cell_type": "code",
   "execution_count": 14,
   "metadata": {},
   "outputs": [
    {
     "data": {
      "text/html": [
       "<div>\n",
       "<table border=\"1\" class=\"dataframe\">\n",
       "  <thead>\n",
       "    <tr style=\"text-align: right;\">\n",
       "      <th></th>\n",
       "      <th>address</th>\n",
       "      <th>city</th>\n",
       "      <th>gpnt_location</th>\n",
       "      <th>id</th>\n",
       "      <th>latitude</th>\n",
       "      <th>longitude</th>\n",
       "      <th>name</th>\n",
       "      <th>phone_number</th>\n",
       "      <th>postal_code</th>\n",
       "      <th>state</th>\n",
       "    </tr>\n",
       "  </thead>\n",
       "  <tbody>\n",
       "    <tr>\n",
       "      <th>0</th>\n",
       "      <td>1530 HAIGHT ST</td>\n",
       "      <td>San Francisco</td>\n",
       "      <td>0101000020E6100000C32973F38DE242405FB87361A49C...</td>\n",
       "      <td>64660</td>\n",
       "      <td>37.769957</td>\n",
       "      <td>-122.447533</td>\n",
       "      <td>HAIGHT STREET MARKET</td>\n",
       "      <td>+14152550643</td>\n",
       "      <td>94117</td>\n",
       "      <td>CA</td>\n",
       "    </tr>\n",
       "    <tr>\n",
       "      <th>1</th>\n",
       "      <td>24 WILLIE MAYS PLAZA 5.26.01</td>\n",
       "      <td>San Francisco</td>\n",
       "      <td>0101000020E6100000C5E57805A2E342400D33349E0899...</td>\n",
       "      <td>5632</td>\n",
       "      <td>37.778382</td>\n",
       "      <td>-122.391151</td>\n",
       "      <td>AT&amp;T - DOGGIE DINNER - RM 5333/V [145162]</td>\n",
       "      <td>+14159721500</td>\n",
       "      <td>94107</td>\n",
       "      <td>CA</td>\n",
       "    </tr>\n",
       "  </tbody>\n",
       "</table>\n",
       "</div>"
      ],
      "text/plain": [
       "                          address           city  \\\n",
       "0                 1530 HAIGHT ST   San Francisco   \n",
       "1  24 WILLIE MAYS PLAZA 5.26.01    San Francisco   \n",
       "\n",
       "                                       gpnt_location     id   latitude  \\\n",
       "0  0101000020E6100000C32973F38DE242405FB87361A49C...  64660  37.769957   \n",
       "1  0101000020E6100000C5E57805A2E342400D33349E0899...   5632  37.778382   \n",
       "\n",
       "    longitude                                       name  phone_number  \\\n",
       "0 -122.447533                       HAIGHT STREET MARKET  +14152550643   \n",
       "1 -122.391151  AT&T - DOGGIE DINNER - RM 5333/V [145162]  +14159721500   \n",
       "\n",
       "   postal_code state  \n",
       "0        94117    CA  \n",
       "1        94107    CA  "
      ]
     },
     "execution_count": 14,
     "metadata": {},
     "output_type": "execute_result"
    }
   ],
   "source": [
    "connection, cursor = db.connect_to_db()\n",
    "result = cursor.execute(\"SELECT * FROM business LIMIT 2;\")\n",
    "pd.DataFrame(cursor.fetchall())"
   ]
  },
  {
   "cell_type": "code",
   "execution_count": 15,
   "metadata": {
    "collapsed": true
   },
   "outputs": [],
   "source": [
    "connection.close()"
   ]
  },
  {
   "cell_type": "markdown",
   "metadata": {},
   "source": [
    "#### `db.query_to_dictionary()`\n",
    "\n",
    "1. creates a connection and a cursor\n",
    "1. uses the cursor to execute a query\n",
    "1. if `fetch_res` is `True` it fetches the results, otherwise results are `None`\n",
    "1. closes the connection and returns `results`\n",
    "\n",
    "\n",
    "    def query_to_dictionary(query, fetch_res=True):\n",
    "        con, cur = connect_to_db()\n",
    "        cur.execute(query)\n",
    "        if fetch_res:\n",
    "            results = cur.fetchall()\n",
    "        else:\n",
    "            results = None\n",
    "        con.close()\n",
    "        return results"
   ]
  },
  {
   "cell_type": "code",
   "execution_count": 16,
   "metadata": {},
   "outputs": [
    {
     "data": {
      "text/plain": [
       "[{'address': '1530 HAIGHT ST ',\n",
       "  'city': 'San Francisco',\n",
       "  'gpnt_location': '0101000020E6100000C32973F38DE242405FB87361A49C5EC0',\n",
       "  'id': 64660,\n",
       "  'latitude': 37.769957,\n",
       "  'longitude': -122.447533,\n",
       "  'name': 'HAIGHT STREET MARKET',\n",
       "  'phone_number': '+14152550643',\n",
       "  'postal_code': 94117,\n",
       "  'state': 'CA'},\n",
       " {'address': '24 WILLIE MAYS PLAZA 5.26.01  ',\n",
       "  'city': 'San Francisco',\n",
       "  'gpnt_location': '0101000020E6100000C5E57805A2E342400D33349E08995EC0',\n",
       "  'id': 5632,\n",
       "  'latitude': 37.778382,\n",
       "  'longitude': -122.391151,\n",
       "  'name': 'AT&T - DOGGIE DINNER - RM 5333/V [145162]',\n",
       "  'phone_number': '+14159721500',\n",
       "  'postal_code': 94107,\n",
       "  'state': 'CA'}]"
      ]
     },
     "execution_count": 16,
     "metadata": {},
     "output_type": "execute_result"
    }
   ],
   "source": [
    "db.query_to_dictionary(\"\"\"SELECT * FROM business LIMIT 2;\"\"\")"
   ]
  },
  {
   "cell_type": "code",
   "execution_count": 17,
   "metadata": {
    "collapsed": true
   },
   "outputs": [],
   "source": [
    "db.query_to_dictionary(\"\"\"SELECT * FROM business LIMIT 2;\"\"\", fetch_res=False)"
   ]
  },
  {
   "cell_type": "markdown",
   "metadata": {},
   "source": [
    "#### `db.query_to_dataframe()`\n",
    "\n",
    "Wraps `query_to_dictionary()` in a `pandas.DataFrame`.\n",
    "\n",
    "    def query_to_dataframe(query):\n",
    "        return DataFrame(query_to_dictionary(query))"
   ]
  },
  {
   "cell_type": "code",
   "execution_count": 18,
   "metadata": {},
   "outputs": [
    {
     "data": {
      "text/html": [
       "<div>\n",
       "<table border=\"1\" class=\"dataframe\">\n",
       "  <thead>\n",
       "    <tr style=\"text-align: right;\">\n",
       "      <th></th>\n",
       "      <th>address</th>\n",
       "      <th>city</th>\n",
       "      <th>gpnt_location</th>\n",
       "      <th>id</th>\n",
       "      <th>latitude</th>\n",
       "      <th>longitude</th>\n",
       "      <th>name</th>\n",
       "      <th>phone_number</th>\n",
       "      <th>postal_code</th>\n",
       "      <th>state</th>\n",
       "    </tr>\n",
       "  </thead>\n",
       "  <tbody>\n",
       "    <tr>\n",
       "      <th>0</th>\n",
       "      <td>1530 HAIGHT ST</td>\n",
       "      <td>San Francisco</td>\n",
       "      <td>0101000020E6100000C32973F38DE242405FB87361A49C...</td>\n",
       "      <td>64660</td>\n",
       "      <td>37.769957</td>\n",
       "      <td>-122.447533</td>\n",
       "      <td>HAIGHT STREET MARKET</td>\n",
       "      <td>+14152550643</td>\n",
       "      <td>94117</td>\n",
       "      <td>CA</td>\n",
       "    </tr>\n",
       "    <tr>\n",
       "      <th>1</th>\n",
       "      <td>24 WILLIE MAYS PLAZA 5.26.01</td>\n",
       "      <td>San Francisco</td>\n",
       "      <td>0101000020E6100000C5E57805A2E342400D33349E0899...</td>\n",
       "      <td>5632</td>\n",
       "      <td>37.778382</td>\n",
       "      <td>-122.391151</td>\n",
       "      <td>AT&amp;T - DOGGIE DINNER - RM 5333/V [145162]</td>\n",
       "      <td>+14159721500</td>\n",
       "      <td>94107</td>\n",
       "      <td>CA</td>\n",
       "    </tr>\n",
       "  </tbody>\n",
       "</table>\n",
       "</div>"
      ],
      "text/plain": [
       "                          address           city  \\\n",
       "0                 1530 HAIGHT ST   San Francisco   \n",
       "1  24 WILLIE MAYS PLAZA 5.26.01    San Francisco   \n",
       "\n",
       "                                       gpnt_location     id   latitude  \\\n",
       "0  0101000020E6100000C32973F38DE242405FB87361A49C...  64660  37.769957   \n",
       "1  0101000020E6100000C5E57805A2E342400D33349E0899...   5632  37.778382   \n",
       "\n",
       "    longitude                                       name  phone_number  \\\n",
       "0 -122.447533                       HAIGHT STREET MARKET  +14152550643   \n",
       "1 -122.391151  AT&T - DOGGIE DINNER - RM 5333/V [145162]  +14159721500   \n",
       "\n",
       "   postal_code state  \n",
       "0        94117    CA  \n",
       "1        94107    CA  "
      ]
     },
     "execution_count": 18,
     "metadata": {},
     "output_type": "execute_result"
    }
   ],
   "source": [
    "db.query_to_dataframe('SELECT * FROM business LIMIT 2;')"
   ]
  },
  {
   "cell_type": "markdown",
   "metadata": {},
   "source": [
    "## Transactions\n",
    "\n",
    "As we begin working on \"production\" databases, it becomes critical to maintain the integrity of the data. \n",
    "\n",
    "Imagine a website with a database using the following table:\n",
    "\n",
    "           page\n",
    "    +-----------+---------------+               \n",
    "    |  page_id  |  visit_count  |\n",
    "    +-----------+---------------+               \n",
    "    |    int    |      int      |\n",
    "    +-----------+---------------+               "
   ]
  },
  {
   "cell_type": "markdown",
   "metadata": {},
   "source": [
    "Suppose that a page with `page_id` `15` is visited nearly simultaneously. You could imagine the following sequence of events:\n",
    "\n",
    "1. The first page visit occurs. \n",
    "2. The website requests to increment the `visit_count`.\n",
    "3. The second page visit occurs.\n",
    "4. Using a separate proces, the website requests to increment the `visit_count`.\n",
    "5. The first increment is written to the database\n",
    "6. The second increment is written to the database\n",
    "\n",
    "How many visits have been recorded?\n",
    "\n",
    "In order to ensure that no data is lost, PostgreSQL uses transactions.\n",
    "\n",
    "- A transaction is begun with the keyword `BEGIN`.\n",
    "- Changes to the database are made in memory.\n",
    "- Changes to the database are validated. \n",
    "- If valid, the changes are made permanent with the keyword `COMMIT`\n",
    "- If invalid, the changes are discarded with the keyword `ROLLBACK`\n"
   ]
  },
  {
   "cell_type": "markdown",
   "metadata": {},
   "source": [
    "### Create new column in `business` table\n",
    "\n",
    "To demonstrate how transactions work, we will write a SQL query to create a new column in our database."
   ]
  },
  {
   "cell_type": "code",
   "execution_count": 19,
   "metadata": {},
   "outputs": [
    {
     "name": "stderr",
     "output_type": "stream",
     "text": [
      "ERROR:root:An unexpected error occurred while tokenizing input\n",
      "The following traceback may be corrupted or invalid\n",
      "The error message is: ('EOF in multi-line string', (1, 0))\n",
      "\n"
     ]
    },
    {
     "ename": "ProgrammingError",
     "evalue": "column \"gpnt_location\" of relation \"business\" already exists\n",
     "output_type": "error",
     "traceback": [
      "\u001b[0;31m---------------------------------------------------------------------------\u001b[0m",
      "\u001b[0;31mProgrammingError\u001b[0m                          Traceback (most recent call last)",
      "\u001b[0;32m<ipython-input-19-0db6239c62b0>\u001b[0m in \u001b[0;36m<module>\u001b[0;34m()\u001b[0m\n\u001b[1;32m      3\u001b[0m \u001b[0mALTER\u001b[0m \u001b[0mTABLE\u001b[0m \u001b[0mbusiness\u001b[0m \u001b[0mADD\u001b[0m \u001b[0mCOLUMN\u001b[0m \u001b[0mgpnt_location\u001b[0m \u001b[0mgeometry\u001b[0m\u001b[0;34m(\u001b[0m\u001b[0mPOINT\u001b[0m\u001b[0;34m,\u001b[0m\u001b[0;36m4326\u001b[0m\u001b[0;34m)\u001b[0m\u001b[0;34m;\u001b[0m\u001b[0;34m\u001b[0m\u001b[0m\n\u001b[1;32m      4\u001b[0m \u001b[0mCOMMIT\u001b[0m\u001b[0;34m;\u001b[0m\u001b[0;34m\u001b[0m\u001b[0m\n\u001b[0;32m----> 5\u001b[0;31m \"\"\", fetch_res=False)\n\u001b[0m",
      "\u001b[0;32m~/lib/db_helper.py\u001b[0m in \u001b[0;36mquery_to_dictionary\u001b[0;34m(query, fetch_res)\u001b[0m\n\u001b[1;32m     12\u001b[0m \u001b[0;32mdef\u001b[0m \u001b[0mquery_to_dictionary\u001b[0m\u001b[0;34m(\u001b[0m\u001b[0mquery\u001b[0m\u001b[0;34m,\u001b[0m \u001b[0mfetch_res\u001b[0m\u001b[0;34m=\u001b[0m\u001b[0;32mTrue\u001b[0m\u001b[0;34m)\u001b[0m\u001b[0;34m:\u001b[0m\u001b[0;34m\u001b[0m\u001b[0m\n\u001b[1;32m     13\u001b[0m     \u001b[0mcon\u001b[0m\u001b[0;34m,\u001b[0m \u001b[0mcur\u001b[0m \u001b[0;34m=\u001b[0m \u001b[0mconnect_to_db\u001b[0m\u001b[0;34m(\u001b[0m\u001b[0;34m)\u001b[0m\u001b[0;34m\u001b[0m\u001b[0m\n\u001b[0;32m---> 14\u001b[0;31m     \u001b[0mcur\u001b[0m\u001b[0;34m.\u001b[0m\u001b[0mexecute\u001b[0m\u001b[0;34m(\u001b[0m\u001b[0mquery\u001b[0m\u001b[0;34m)\u001b[0m\u001b[0;34m\u001b[0m\u001b[0m\n\u001b[0m\u001b[1;32m     15\u001b[0m     \u001b[0;32mif\u001b[0m \u001b[0mfetch_res\u001b[0m\u001b[0;34m:\u001b[0m\u001b[0;34m\u001b[0m\u001b[0m\n\u001b[1;32m     16\u001b[0m         \u001b[0mresults\u001b[0m \u001b[0;34m=\u001b[0m \u001b[0mcur\u001b[0m\u001b[0;34m.\u001b[0m\u001b[0mfetchall\u001b[0m\u001b[0;34m(\u001b[0m\u001b[0;34m)\u001b[0m\u001b[0;34m\u001b[0m\u001b[0m\n",
      "\u001b[0;32m/opt/conda/lib/python3.6/site-packages/psycopg2/extras.py\u001b[0m in \u001b[0;36mexecute\u001b[0;34m(self, query, vars)\u001b[0m\n\u001b[1;32m    247\u001b[0m         \u001b[0mself\u001b[0m\u001b[0;34m.\u001b[0m\u001b[0mcolumn_mapping\u001b[0m \u001b[0;34m=\u001b[0m \u001b[0;34m[\u001b[0m\u001b[0;34m]\u001b[0m\u001b[0;34m\u001b[0m\u001b[0m\n\u001b[1;32m    248\u001b[0m         \u001b[0mself\u001b[0m\u001b[0;34m.\u001b[0m\u001b[0m_query_executed\u001b[0m \u001b[0;34m=\u001b[0m \u001b[0;36m1\u001b[0m\u001b[0;34m\u001b[0m\u001b[0m\n\u001b[0;32m--> 249\u001b[0;31m         \u001b[0;32mreturn\u001b[0m \u001b[0msuper\u001b[0m\u001b[0;34m(\u001b[0m\u001b[0mRealDictCursor\u001b[0m\u001b[0;34m,\u001b[0m \u001b[0mself\u001b[0m\u001b[0;34m)\u001b[0m\u001b[0;34m.\u001b[0m\u001b[0mexecute\u001b[0m\u001b[0;34m(\u001b[0m\u001b[0mquery\u001b[0m\u001b[0;34m,\u001b[0m \u001b[0mvars\u001b[0m\u001b[0;34m)\u001b[0m\u001b[0;34m\u001b[0m\u001b[0m\n\u001b[0m\u001b[1;32m    250\u001b[0m \u001b[0;34m\u001b[0m\u001b[0m\n\u001b[1;32m    251\u001b[0m     \u001b[0;32mdef\u001b[0m \u001b[0mcallproc\u001b[0m\u001b[0;34m(\u001b[0m\u001b[0mself\u001b[0m\u001b[0;34m,\u001b[0m \u001b[0mprocname\u001b[0m\u001b[0;34m,\u001b[0m \u001b[0mvars\u001b[0m\u001b[0;34m=\u001b[0m\u001b[0;32mNone\u001b[0m\u001b[0;34m)\u001b[0m\u001b[0;34m:\u001b[0m\u001b[0;34m\u001b[0m\u001b[0m\n",
      "\u001b[0;31mProgrammingError\u001b[0m: column \"gpnt_location\" of relation \"business\" already exists\n"
     ]
    }
   ],
   "source": [
    "db.query_to_dictionary(\"\"\"\n",
    "BEGIN;\n",
    "ALTER TABLE business ADD COLUMN gpnt_location geometry(POINT,4326);\n",
    "COMMIT;\n",
    "\"\"\", fetch_res=False)"
   ]
  },
  {
   "cell_type": "code",
   "execution_count": 20,
   "metadata": {},
   "outputs": [
    {
     "data": {
      "text/html": [
       "<div>\n",
       "<table border=\"1\" class=\"dataframe\">\n",
       "  <thead>\n",
       "    <tr style=\"text-align: right;\">\n",
       "      <th></th>\n",
       "      <th>address</th>\n",
       "      <th>city</th>\n",
       "      <th>gpnt_location</th>\n",
       "      <th>id</th>\n",
       "      <th>latitude</th>\n",
       "      <th>longitude</th>\n",
       "      <th>name</th>\n",
       "      <th>phone_number</th>\n",
       "      <th>postal_code</th>\n",
       "      <th>state</th>\n",
       "    </tr>\n",
       "  </thead>\n",
       "  <tbody>\n",
       "    <tr>\n",
       "      <th>0</th>\n",
       "      <td>1530 HAIGHT ST</td>\n",
       "      <td>San Francisco</td>\n",
       "      <td>0101000020E6100000C32973F38DE242405FB87361A49C...</td>\n",
       "      <td>64660</td>\n",
       "      <td>37.769957</td>\n",
       "      <td>-122.447533</td>\n",
       "      <td>HAIGHT STREET MARKET</td>\n",
       "      <td>+14152550643</td>\n",
       "      <td>94117</td>\n",
       "      <td>CA</td>\n",
       "    </tr>\n",
       "    <tr>\n",
       "      <th>1</th>\n",
       "      <td>24 WILLIE MAYS PLAZA 5.26.01</td>\n",
       "      <td>San Francisco</td>\n",
       "      <td>0101000020E6100000C5E57805A2E342400D33349E0899...</td>\n",
       "      <td>5632</td>\n",
       "      <td>37.778382</td>\n",
       "      <td>-122.391151</td>\n",
       "      <td>AT&amp;T - DOGGIE DINNER - RM 5333/V [145162]</td>\n",
       "      <td>+14159721500</td>\n",
       "      <td>94107</td>\n",
       "      <td>CA</td>\n",
       "    </tr>\n",
       "  </tbody>\n",
       "</table>\n",
       "</div>"
      ],
      "text/plain": [
       "                          address           city  \\\n",
       "0                 1530 HAIGHT ST   San Francisco   \n",
       "1  24 WILLIE MAYS PLAZA 5.26.01    San Francisco   \n",
       "\n",
       "                                       gpnt_location     id   latitude  \\\n",
       "0  0101000020E6100000C32973F38DE242405FB87361A49C...  64660  37.769957   \n",
       "1  0101000020E6100000C5E57805A2E342400D33349E0899...   5632  37.778382   \n",
       "\n",
       "    longitude                                       name  phone_number  \\\n",
       "0 -122.447533                       HAIGHT STREET MARKET  +14152550643   \n",
       "1 -122.391151  AT&T - DOGGIE DINNER - RM 5333/V [145162]  +14159721500   \n",
       "\n",
       "   postal_code state  \n",
       "0        94117    CA  \n",
       "1        94107    CA  "
      ]
     },
     "execution_count": 20,
     "metadata": {},
     "output_type": "execute_result"
    }
   ],
   "source": [
    "db.query_to_dataframe('SELECT * FROM business LIMIT 2;')"
   ]
  },
  {
   "cell_type": "markdown",
   "metadata": {},
   "source": [
    "We will want to populate this column, but the data is a bit messy as we will see in a moment. "
   ]
  },
  {
   "cell_type": "markdown",
   "metadata": {},
   "source": [
    "# Postgres Aggregate Functions\n",
    "\n",
    "In this lesson, we will use [Postgres Aggregate](https://www.postgresql.org/docs/9.5/static/functions-aggregate.html) functions to explore data for businesses in San Francisco. \n",
    "\n",
    "Aggregate functions compute a single result from a set of input values.\n",
    "\n",
    "Some aggregate functions include:\n",
    "\n",
    "| Function | Description |\n",
    "|:-:|:-:|\n",
    "| `avg(expression)` | the average (arithmetic mean) of all input values |\n",
    "| `count(*)` | number of input rows |\n",
    "| `max(expression)` | maximum value of `expression` across all input values |\n",
    "| `min(expression)` | minimum value of `expression` across all input values |\n",
    "| `sum(expression)` | sum of `expression` across all input values |"
   ]
  },
  {
   "cell_type": "markdown",
   "metadata": {},
   "source": [
    "# Clean the Data"
   ]
  },
  {
   "cell_type": "markdown",
   "metadata": {},
   "source": [
    "We can use `COUNT` to count the number of rows in our `business` table. "
   ]
  },
  {
   "cell_type": "code",
   "execution_count": 21,
   "metadata": {
    "collapsed": true
   },
   "outputs": [],
   "source": [
    "select_count_business = \"\"\"\n",
    "SELECT COUNT(*) FROM business\n",
    "\"\"\""
   ]
  },
  {
   "cell_type": "code",
   "execution_count": 22,
   "metadata": {},
   "outputs": [
    {
     "name": "stdout",
     "output_type": "stream",
     "text": [
      "\n",
      "SELECT COUNT(*) FROM business\n",
      "\n"
     ]
    }
   ],
   "source": [
    "print(select_count_business)"
   ]
  },
  {
   "cell_type": "code",
   "execution_count": 23,
   "metadata": {},
   "outputs": [
    {
     "data": {
      "text/html": [
       "<div>\n",
       "<table border=\"1\" class=\"dataframe\">\n",
       "  <thead>\n",
       "    <tr style=\"text-align: right;\">\n",
       "      <th></th>\n",
       "      <th>count</th>\n",
       "    </tr>\n",
       "  </thead>\n",
       "  <tbody>\n",
       "    <tr>\n",
       "      <th>0</th>\n",
       "      <td>6138</td>\n",
       "    </tr>\n",
       "  </tbody>\n",
       "</table>\n",
       "</div>"
      ],
      "text/plain": [
       "   count\n",
       "0   6138"
      ]
     },
     "execution_count": 23,
     "metadata": {},
     "output_type": "execute_result"
    }
   ],
   "source": [
    "db.query_to_dataframe(select_count_business)"
   ]
  },
  {
   "cell_type": "markdown",
   "metadata": {},
   "source": [
    "We can use `COUNT` with a `GROUP BY` clause to count the number of rows for each zip code. "
   ]
  },
  {
   "cell_type": "code",
   "execution_count": 24,
   "metadata": {
    "collapsed": true
   },
   "outputs": [],
   "source": [
    "select_count_by_postal_code = \"\"\"\n",
    "SELECT postal_code, COUNT(*) FROM business\n",
    "GROUP BY postal_code\n",
    "ORDER BY postal_code\n",
    "\"\"\""
   ]
  },
  {
   "cell_type": "code",
   "execution_count": 25,
   "metadata": {},
   "outputs": [
    {
     "data": {
      "text/html": [
       "<div>\n",
       "<table border=\"1\" class=\"dataframe\">\n",
       "  <thead>\n",
       "    <tr style=\"text-align: right;\">\n",
       "      <th></th>\n",
       "      <th>count</th>\n",
       "      <th>postal_code</th>\n",
       "    </tr>\n",
       "  </thead>\n",
       "  <tbody>\n",
       "    <tr>\n",
       "      <th>0</th>\n",
       "      <td>1</td>\n",
       "      <td>0.0</td>\n",
       "    </tr>\n",
       "    <tr>\n",
       "      <th>1</th>\n",
       "      <td>2</td>\n",
       "      <td>94013.0</td>\n",
       "    </tr>\n",
       "    <tr>\n",
       "      <th>2</th>\n",
       "      <td>1</td>\n",
       "      <td>94101.0</td>\n",
       "    </tr>\n",
       "    <tr>\n",
       "      <th>3</th>\n",
       "      <td>447</td>\n",
       "      <td>94102.0</td>\n",
       "    </tr>\n",
       "    <tr>\n",
       "      <th>4</th>\n",
       "      <td>552</td>\n",
       "      <td>94103.0</td>\n",
       "    </tr>\n",
       "    <tr>\n",
       "      <th>5</th>\n",
       "      <td>132</td>\n",
       "      <td>94104.0</td>\n",
       "    </tr>\n",
       "    <tr>\n",
       "      <th>6</th>\n",
       "      <td>225</td>\n",
       "      <td>94105.0</td>\n",
       "    </tr>\n",
       "    <tr>\n",
       "      <th>7</th>\n",
       "      <td>429</td>\n",
       "      <td>94107.0</td>\n",
       "    </tr>\n",
       "    <tr>\n",
       "      <th>8</th>\n",
       "      <td>223</td>\n",
       "      <td>94108.0</td>\n",
       "    </tr>\n",
       "    <tr>\n",
       "      <th>9</th>\n",
       "      <td>373</td>\n",
       "      <td>94109.0</td>\n",
       "    </tr>\n",
       "    <tr>\n",
       "      <th>10</th>\n",
       "      <td>559</td>\n",
       "      <td>94110.0</td>\n",
       "    </tr>\n",
       "    <tr>\n",
       "      <th>11</th>\n",
       "      <td>280</td>\n",
       "      <td>94111.0</td>\n",
       "    </tr>\n",
       "    <tr>\n",
       "      <th>12</th>\n",
       "      <td>187</td>\n",
       "      <td>94112.0</td>\n",
       "    </tr>\n",
       "    <tr>\n",
       "      <th>13</th>\n",
       "      <td>219</td>\n",
       "      <td>94114.0</td>\n",
       "    </tr>\n",
       "    <tr>\n",
       "      <th>14</th>\n",
       "      <td>233</td>\n",
       "      <td>94115.0</td>\n",
       "    </tr>\n",
       "    <tr>\n",
       "      <th>15</th>\n",
       "      <td>94</td>\n",
       "      <td>94116.0</td>\n",
       "    </tr>\n",
       "    <tr>\n",
       "      <th>16</th>\n",
       "      <td>195</td>\n",
       "      <td>94117.0</td>\n",
       "    </tr>\n",
       "    <tr>\n",
       "      <th>17</th>\n",
       "      <td>244</td>\n",
       "      <td>94118.0</td>\n",
       "    </tr>\n",
       "    <tr>\n",
       "      <th>18</th>\n",
       "      <td>1</td>\n",
       "      <td>94120.0</td>\n",
       "    </tr>\n",
       "    <tr>\n",
       "      <th>19</th>\n",
       "      <td>161</td>\n",
       "      <td>94121.0</td>\n",
       "    </tr>\n",
       "    <tr>\n",
       "      <th>20</th>\n",
       "      <td>258</td>\n",
       "      <td>94122.0</td>\n",
       "    </tr>\n",
       "    <tr>\n",
       "      <th>21</th>\n",
       "      <td>173</td>\n",
       "      <td>94123.0</td>\n",
       "    </tr>\n",
       "    <tr>\n",
       "      <th>22</th>\n",
       "      <td>153</td>\n",
       "      <td>94124.0</td>\n",
       "    </tr>\n",
       "    <tr>\n",
       "      <th>23</th>\n",
       "      <td>67</td>\n",
       "      <td>94127.0</td>\n",
       "    </tr>\n",
       "    <tr>\n",
       "      <th>24</th>\n",
       "      <td>2</td>\n",
       "      <td>94130.0</td>\n",
       "    </tr>\n",
       "    <tr>\n",
       "      <th>25</th>\n",
       "      <td>45</td>\n",
       "      <td>94131.0</td>\n",
       "    </tr>\n",
       "    <tr>\n",
       "      <th>26</th>\n",
       "      <td>126</td>\n",
       "      <td>94132.0</td>\n",
       "    </tr>\n",
       "    <tr>\n",
       "      <th>27</th>\n",
       "      <td>425</td>\n",
       "      <td>94133.0</td>\n",
       "    </tr>\n",
       "    <tr>\n",
       "      <th>28</th>\n",
       "      <td>71</td>\n",
       "      <td>94134.0</td>\n",
       "    </tr>\n",
       "    <tr>\n",
       "      <th>29</th>\n",
       "      <td>1</td>\n",
       "      <td>94140.0</td>\n",
       "    </tr>\n",
       "    <tr>\n",
       "      <th>30</th>\n",
       "      <td>2</td>\n",
       "      <td>94143.0</td>\n",
       "    </tr>\n",
       "    <tr>\n",
       "      <th>31</th>\n",
       "      <td>11</td>\n",
       "      <td>94158.0</td>\n",
       "    </tr>\n",
       "    <tr>\n",
       "      <th>32</th>\n",
       "      <td>1</td>\n",
       "      <td>94513.0</td>\n",
       "    </tr>\n",
       "    <tr>\n",
       "      <th>33</th>\n",
       "      <td>1</td>\n",
       "      <td>94609.0</td>\n",
       "    </tr>\n",
       "    <tr>\n",
       "      <th>34</th>\n",
       "      <td>1</td>\n",
       "      <td>95105.0</td>\n",
       "    </tr>\n",
       "    <tr>\n",
       "      <th>35</th>\n",
       "      <td>243</td>\n",
       "      <td>NaN</td>\n",
       "    </tr>\n",
       "  </tbody>\n",
       "</table>\n",
       "</div>"
      ],
      "text/plain": [
       "    count  postal_code\n",
       "0       1          0.0\n",
       "1       2      94013.0\n",
       "2       1      94101.0\n",
       "3     447      94102.0\n",
       "4     552      94103.0\n",
       "5     132      94104.0\n",
       "6     225      94105.0\n",
       "7     429      94107.0\n",
       "8     223      94108.0\n",
       "9     373      94109.0\n",
       "10    559      94110.0\n",
       "11    280      94111.0\n",
       "12    187      94112.0\n",
       "13    219      94114.0\n",
       "14    233      94115.0\n",
       "15     94      94116.0\n",
       "16    195      94117.0\n",
       "17    244      94118.0\n",
       "18      1      94120.0\n",
       "19    161      94121.0\n",
       "20    258      94122.0\n",
       "21    173      94123.0\n",
       "22    153      94124.0\n",
       "23     67      94127.0\n",
       "24      2      94130.0\n",
       "25     45      94131.0\n",
       "26    126      94132.0\n",
       "27    425      94133.0\n",
       "28     71      94134.0\n",
       "29      1      94140.0\n",
       "30      2      94143.0\n",
       "31     11      94158.0\n",
       "32      1      94513.0\n",
       "33      1      94609.0\n",
       "34      1      95105.0\n",
       "35    243          NaN"
      ]
     },
     "execution_count": 25,
     "metadata": {},
     "output_type": "execute_result"
    }
   ],
   "source": [
    "db.query_to_dataframe(select_count_by_postal_code)"
   ]
  },
  {
   "cell_type": "markdown",
   "metadata": {},
   "source": [
    "## Yikes! That is some messy data. "
   ]
  },
  {
   "cell_type": "markdown",
   "metadata": {},
   "source": [
    "### `WHERE` \n",
    "\n",
    "We next use the `WHERE` clause to restrict our count to just rows that have `latitude` and `longitude` data. "
   ]
  },
  {
   "cell_type": "code",
   "execution_count": 26,
   "metadata": {
    "collapsed": true
   },
   "outputs": [],
   "source": [
    "select_count_business_non_null_lat_long = \"\"\"\n",
    "SELECT COUNT((latitude, longitude)) FROM business\n",
    "WHERE latitude IS NOT NULL\n",
    "AND longitude IS NOT NULL\n",
    "\"\"\""
   ]
  },
  {
   "cell_type": "code",
   "execution_count": 27,
   "metadata": {},
   "outputs": [
    {
     "data": {
      "text/html": [
       "<div>\n",
       "<table border=\"1\" class=\"dataframe\">\n",
       "  <thead>\n",
       "    <tr style=\"text-align: right;\">\n",
       "      <th></th>\n",
       "      <th>count</th>\n",
       "    </tr>\n",
       "  </thead>\n",
       "  <tbody>\n",
       "    <tr>\n",
       "      <th>0</th>\n",
       "      <td>3749</td>\n",
       "    </tr>\n",
       "  </tbody>\n",
       "</table>\n",
       "</div>"
      ],
      "text/plain": [
       "   count\n",
       "0   3749"
      ]
     },
     "execution_count": 27,
     "metadata": {},
     "output_type": "execute_result"
    }
   ],
   "source": [
    "db.query_to_dataframe(select_count_business_non_null_lat_long)"
   ]
  },
  {
   "cell_type": "markdown",
   "metadata": {},
   "source": [
    "Note that we might also have invalid data."
   ]
  },
  {
   "cell_type": "code",
   "execution_count": 28,
   "metadata": {
    "collapsed": true
   },
   "outputs": [],
   "source": [
    "select_count_business_invalid_data = \"\"\"\n",
    "SELECT COUNT(*) FROM business\n",
    "WHERE latitude = 0 AND longitude = 0;\"\"\""
   ]
  },
  {
   "cell_type": "code",
   "execution_count": 29,
   "metadata": {},
   "outputs": [
    {
     "data": {
      "text/html": [
       "<div>\n",
       "<table border=\"1\" class=\"dataframe\">\n",
       "  <thead>\n",
       "    <tr style=\"text-align: right;\">\n",
       "      <th></th>\n",
       "      <th>count</th>\n",
       "    </tr>\n",
       "  </thead>\n",
       "  <tbody>\n",
       "    <tr>\n",
       "      <th>0</th>\n",
       "      <td>14</td>\n",
       "    </tr>\n",
       "  </tbody>\n",
       "</table>\n",
       "</div>"
      ],
      "text/plain": [
       "   count\n",
       "0     14"
      ]
     },
     "execution_count": 29,
     "metadata": {},
     "output_type": "execute_result"
    }
   ],
   "source": [
    "db.query_to_dataframe(select_count_business_invalid_data)"
   ]
  },
  {
   "cell_type": "code",
   "execution_count": 30,
   "metadata": {
    "collapsed": true
   },
   "outputs": [],
   "source": [
    "select_verify_no_edge_cases = \"\"\"\n",
    "SELECT COUNT(*) FROM business \n",
    "WHERE (latitude IS NULL AND longitude IS NOT NULL)\n",
    "OR (latitude IS NOT NULL AND longitude IS NULL)\n",
    "OR (latitude = 0 AND longitude != 0)\n",
    "or (latitude != 0 AND longitude = 0)\n",
    "\"\"\""
   ]
  },
  {
   "cell_type": "code",
   "execution_count": 31,
   "metadata": {},
   "outputs": [
    {
     "data": {
      "text/html": [
       "<div>\n",
       "<table border=\"1\" class=\"dataframe\">\n",
       "  <thead>\n",
       "    <tr style=\"text-align: right;\">\n",
       "      <th></th>\n",
       "      <th>count</th>\n",
       "    </tr>\n",
       "  </thead>\n",
       "  <tbody>\n",
       "    <tr>\n",
       "      <th>0</th>\n",
       "      <td>0</td>\n",
       "    </tr>\n",
       "  </tbody>\n",
       "</table>\n",
       "</div>"
      ],
      "text/plain": [
       "   count\n",
       "0      0"
      ]
     },
     "execution_count": 31,
     "metadata": {},
     "output_type": "execute_result"
    }
   ],
   "source": [
    "db.query_to_dataframe(select_verify_no_edge_cases)"
   ]
  },
  {
   "cell_type": "code",
   "execution_count": 32,
   "metadata": {
    "collapsed": true
   },
   "outputs": [],
   "source": [
    "select_count_business_valid = \"\"\"\n",
    "SELECT COUNT(*) FROM business\n",
    "WHERE \n",
    "    (latitude IS NOT NULL\n",
    "     AND longitude IS NOT NULL)\n",
    "AND \n",
    "    (latitude != 0 \n",
    "     AND longitude != 0)\n",
    "\"\"\"\n",
    "\n",
    "select_count_business_invalid = \"\"\"\n",
    "SELECT COUNT(*) FROM business\n",
    "WHERE \n",
    "    (latitude IS NULL\n",
    "     AND longitude IS NULL)\n",
    "OR \n",
    "    (latitude = 0 \n",
    "     AND longitude = 0)\n",
    "\"\"\""
   ]
  },
  {
   "cell_type": "code",
   "execution_count": 33,
   "metadata": {},
   "outputs": [
    {
     "data": {
      "text/html": [
       "<div>\n",
       "<table border=\"1\" class=\"dataframe\">\n",
       "  <thead>\n",
       "    <tr style=\"text-align: right;\">\n",
       "      <th></th>\n",
       "      <th>count</th>\n",
       "    </tr>\n",
       "  </thead>\n",
       "  <tbody>\n",
       "    <tr>\n",
       "      <th>0</th>\n",
       "      <td>3735</td>\n",
       "    </tr>\n",
       "  </tbody>\n",
       "</table>\n",
       "</div>"
      ],
      "text/plain": [
       "   count\n",
       "0   3735"
      ]
     },
     "execution_count": 33,
     "metadata": {},
     "output_type": "execute_result"
    }
   ],
   "source": [
    "db.query_to_dataframe(select_count_business_valid)"
   ]
  },
  {
   "cell_type": "code",
   "execution_count": 34,
   "metadata": {},
   "outputs": [
    {
     "data": {
      "text/html": [
       "<div>\n",
       "<table border=\"1\" class=\"dataframe\">\n",
       "  <thead>\n",
       "    <tr style=\"text-align: right;\">\n",
       "      <th></th>\n",
       "      <th>count</th>\n",
       "    </tr>\n",
       "  </thead>\n",
       "  <tbody>\n",
       "    <tr>\n",
       "      <th>0</th>\n",
       "      <td>2403</td>\n",
       "    </tr>\n",
       "  </tbody>\n",
       "</table>\n",
       "</div>"
      ],
      "text/plain": [
       "   count\n",
       "0   2403"
      ]
     },
     "execution_count": 34,
     "metadata": {},
     "output_type": "execute_result"
    }
   ],
   "source": [
    "db.query_to_dataframe(select_count_business_invalid)"
   ]
  },
  {
   "cell_type": "markdown",
   "metadata": {},
   "source": [
    "### Store Valid and Invalid Queries"
   ]
  },
  {
   "cell_type": "markdown",
   "metadata": {},
   "source": [
    "We will also make use of subqueries. We will define two:\n",
    "\n",
    "1. a subquery for all businesses with valid lat/long\n",
    "1. a subquery for all businesses with invalid lat/long"
   ]
  },
  {
   "cell_type": "markdown",
   "metadata": {},
   "source": [
    "#### Valid Business Query"
   ]
  },
  {
   "cell_type": "code",
   "execution_count": 35,
   "metadata": {
    "collapsed": true
   },
   "outputs": [],
   "source": [
    "select_business_valid = \"\"\"\n",
    "SELECT * FROM business\n",
    "WHERE \n",
    "    (latitude IS NOT NULL\n",
    "     AND longitude IS NOT NULL)\n",
    "AND \n",
    "    (latitude != 0 \n",
    "     AND longitude != 0)\n",
    "\"\"\"\n",
    "\n",
    "select_business_invalid = \"\"\"\n",
    "SELECT * FROM business\n",
    "WHERE \n",
    "    (latitude IS NULL\n",
    "     AND longitude IS NULL)\n",
    "OR \n",
    "    (latitude = 0 \n",
    "     AND longitude = 0)\n",
    "\"\"\""
   ]
  },
  {
   "cell_type": "code",
   "execution_count": 36,
   "metadata": {},
   "outputs": [
    {
     "name": "stdout",
     "output_type": "stream",
     "text": [
      "(3735, 10)\n"
     ]
    },
    {
     "data": {
      "text/html": [
       "<div>\n",
       "<table border=\"1\" class=\"dataframe\">\n",
       "  <thead>\n",
       "    <tr style=\"text-align: right;\">\n",
       "      <th></th>\n",
       "      <th>address</th>\n",
       "      <th>city</th>\n",
       "      <th>gpnt_location</th>\n",
       "      <th>id</th>\n",
       "      <th>latitude</th>\n",
       "      <th>longitude</th>\n",
       "      <th>name</th>\n",
       "      <th>phone_number</th>\n",
       "      <th>postal_code</th>\n",
       "      <th>state</th>\n",
       "    </tr>\n",
       "  </thead>\n",
       "  <tbody>\n",
       "    <tr>\n",
       "      <th>589</th>\n",
       "      <td>834 WASHINGTON ST</td>\n",
       "      <td>San Francisco</td>\n",
       "      <td>0101000020E6100000003B376DC6E542407CF0DAA50D9A...</td>\n",
       "      <td>2234</td>\n",
       "      <td>37.795118</td>\n",
       "      <td>-122.407083</td>\n",
       "      <td>KAM LOK RESTAURANT</td>\n",
       "      <td>+14154218102</td>\n",
       "      <td>94108.0</td>\n",
       "      <td>CA</td>\n",
       "    </tr>\n",
       "    <tr>\n",
       "      <th>3544</th>\n",
       "      <td>550 VALENCIA ST</td>\n",
       "      <td>San Francisco</td>\n",
       "      <td>0101000020E61000003E26529ACDE1424071732A19009B...</td>\n",
       "      <td>68963</td>\n",
       "      <td>37.764087</td>\n",
       "      <td>-122.421881</td>\n",
       "      <td>WEST OF PECOS</td>\n",
       "      <td>+14152527000</td>\n",
       "      <td>94110.0</td>\n",
       "      <td>CA</td>\n",
       "    </tr>\n",
       "    <tr>\n",
       "      <th>3722</th>\n",
       "      <td>534 IRVING ST</td>\n",
       "      <td>San Francisco</td>\n",
       "      <td>0101000020E610000071FF91E9D0E14240842D76FBAC9D...</td>\n",
       "      <td>71657</td>\n",
       "      <td>37.764188</td>\n",
       "      <td>-122.463683</td>\n",
       "      <td>BAAN</td>\n",
       "      <td>+14153794505</td>\n",
       "      <td>94122.0</td>\n",
       "      <td>CA</td>\n",
       "    </tr>\n",
       "    <tr>\n",
       "      <th>3531</th>\n",
       "      <td>746 VALENCIA ST</td>\n",
       "      <td>San Francisco</td>\n",
       "      <td>0101000020E6100000255D33F966E142400F643DB5FA9A...</td>\n",
       "      <td>68894</td>\n",
       "      <td>37.760955</td>\n",
       "      <td>-122.421552</td>\n",
       "      <td>CRAFTSMAN AND WOLVES</td>\n",
       "      <td>+14158228214</td>\n",
       "      <td>94110.0</td>\n",
       "      <td>CA</td>\n",
       "    </tr>\n",
       "  </tbody>\n",
       "</table>\n",
       "</div>"
      ],
      "text/plain": [
       "                 address           city  \\\n",
       "589   834 WASHINGTON ST   San Francisco   \n",
       "3544    550 VALENCIA ST   San Francisco   \n",
       "3722      534 IRVING ST   San Francisco   \n",
       "3531     746 VALENCIA ST  San Francisco   \n",
       "\n",
       "                                          gpnt_location     id   latitude  \\\n",
       "589   0101000020E6100000003B376DC6E542407CF0DAA50D9A...   2234  37.795118   \n",
       "3544  0101000020E61000003E26529ACDE1424071732A19009B...  68963  37.764087   \n",
       "3722  0101000020E610000071FF91E9D0E14240842D76FBAC9D...  71657  37.764188   \n",
       "3531  0101000020E6100000255D33F966E142400F643DB5FA9A...  68894  37.760955   \n",
       "\n",
       "       longitude                  name  phone_number  postal_code state  \n",
       "589  -122.407083    KAM LOK RESTAURANT  +14154218102      94108.0    CA  \n",
       "3544 -122.421881         WEST OF PECOS  +14152527000      94110.0    CA  \n",
       "3722 -122.463683                  BAAN  +14153794505      94122.0    CA  \n",
       "3531 -122.421552  CRAFTSMAN AND WOLVES  +14158228214      94110.0    CA  "
      ]
     },
     "execution_count": 36,
     "metadata": {},
     "output_type": "execute_result"
    }
   ],
   "source": [
    "print(db.query_to_dataframe(select_business_valid).shape)\n",
    "db.query_to_dataframe(select_business_valid).sample(4)"
   ]
  },
  {
   "cell_type": "code",
   "execution_count": 37,
   "metadata": {},
   "outputs": [
    {
     "name": "stdout",
     "output_type": "stream",
     "text": [
      "(2403, 10)\n"
     ]
    },
    {
     "data": {
      "text/html": [
       "<div>\n",
       "<table border=\"1\" class=\"dataframe\">\n",
       "  <thead>\n",
       "    <tr style=\"text-align: right;\">\n",
       "      <th></th>\n",
       "      <th>address</th>\n",
       "      <th>city</th>\n",
       "      <th>gpnt_location</th>\n",
       "      <th>id</th>\n",
       "      <th>latitude</th>\n",
       "      <th>longitude</th>\n",
       "      <th>name</th>\n",
       "      <th>phone_number</th>\n",
       "      <th>postal_code</th>\n",
       "      <th>state</th>\n",
       "    </tr>\n",
       "  </thead>\n",
       "  <tbody>\n",
       "    <tr>\n",
       "      <th>1963</th>\n",
       "      <td>600 POLK ST</td>\n",
       "      <td>San Francisco</td>\n",
       "      <td>None</td>\n",
       "      <td>83596</td>\n",
       "      <td>NaN</td>\n",
       "      <td>NaN</td>\n",
       "      <td>WHITECHAPEL</td>\n",
       "      <td>+14153857275</td>\n",
       "      <td>94102.0</td>\n",
       "      <td>CA</td>\n",
       "    </tr>\n",
       "    <tr>\n",
       "      <th>1324</th>\n",
       "      <td>101 SPEAR ST</td>\n",
       "      <td>San Francisco</td>\n",
       "      <td>None</td>\n",
       "      <td>79751</td>\n",
       "      <td>NaN</td>\n",
       "      <td>NaN</td>\n",
       "      <td>IMAGINE CULINARY GROUP</td>\n",
       "      <td>+14159956964</td>\n",
       "      <td>94105.0</td>\n",
       "      <td>CA</td>\n",
       "    </tr>\n",
       "    <tr>\n",
       "      <th>607</th>\n",
       "      <td>2312 MARKET ST</td>\n",
       "      <td>San Francisco</td>\n",
       "      <td>None</td>\n",
       "      <td>74453</td>\n",
       "      <td>NaN</td>\n",
       "      <td>NaN</td>\n",
       "      <td>TACOS CLUB</td>\n",
       "      <td></td>\n",
       "      <td>94114.0</td>\n",
       "      <td>CA</td>\n",
       "    </tr>\n",
       "    <tr>\n",
       "      <th>1927</th>\n",
       "      <td>852 CLEMENT ST</td>\n",
       "      <td>San Francisco</td>\n",
       "      <td>None</td>\n",
       "      <td>83423</td>\n",
       "      <td>NaN</td>\n",
       "      <td>NaN</td>\n",
       "      <td>CARBON GRILL</td>\n",
       "      <td>+14155290258</td>\n",
       "      <td>94118.0</td>\n",
       "      <td>CA</td>\n",
       "    </tr>\n",
       "  </tbody>\n",
       "</table>\n",
       "</div>"
      ],
      "text/plain": [
       "              address           city gpnt_location     id  latitude  \\\n",
       "1963     600 POLK ST   San Francisco          None  83596       NaN   \n",
       "1324    101 SPEAR ST   San Francisco          None  79751       NaN   \n",
       "607   2312 MARKET ST   San Francisco          None  74453       NaN   \n",
       "1927  852 CLEMENT ST   San Francisco          None  83423       NaN   \n",
       "\n",
       "      longitude                    name  phone_number  postal_code state  \n",
       "1963        NaN             WHITECHAPEL  +14153857275      94102.0    CA  \n",
       "1324        NaN  IMAGINE CULINARY GROUP  +14159956964      94105.0    CA  \n",
       "607         NaN              TACOS CLUB                    94114.0    CA  \n",
       "1927        NaN            CARBON GRILL  +14155290258      94118.0    CA  "
      ]
     },
     "execution_count": 37,
     "metadata": {},
     "output_type": "execute_result"
    }
   ],
   "source": [
    "print(db.query_to_dataframe(select_business_invalid).shape)\n",
    "db.query_to_dataframe(select_business_invalid).sample(4)"
   ]
  },
  {
   "cell_type": "markdown",
   "metadata": {},
   "source": [
    "### Explore Postal Code and Lat/Long"
   ]
  },
  {
   "cell_type": "markdown",
   "metadata": {},
   "source": [
    "First, let's get the postal codes with a count of less than 10. We will use a sub-query.\n",
    "\n",
    "Let's use these subqueries to help us to clean the data. "
   ]
  },
  {
   "cell_type": "markdown",
   "metadata": {},
   "source": [
    "Note that we re-use `select_count_by_postal_code`."
   ]
  },
  {
   "cell_type": "code",
   "execution_count": 38,
   "metadata": {},
   "outputs": [
    {
     "name": "stdout",
     "output_type": "stream",
     "text": [
      "\n",
      "SELECT postal_code, COUNT(*) FROM business\n",
      "GROUP BY postal_code\n",
      "ORDER BY postal_code\n",
      "\n"
     ]
    }
   ],
   "source": [
    "print(select_count_by_postal_code)"
   ]
  },
  {
   "cell_type": "code",
   "execution_count": 39,
   "metadata": {},
   "outputs": [
    {
     "data": {
      "text/plain": [
       "\"Hi I'm Happy and Blue.\""
      ]
     },
     "execution_count": 39,
     "metadata": {},
     "output_type": "execute_result"
    }
   ],
   "source": [
    "\"Hi I'm {} and {}.\".format(\"Happy\", \"Blue\")"
   ]
  },
  {
   "cell_type": "code",
   "execution_count": 40,
   "metadata": {},
   "outputs": [
    {
     "name": "stdout",
     "output_type": "stream",
     "text": [
      "\n",
      "SELECT postal_code FROM \n",
      "    (\n",
      "SELECT postal_code, COUNT(*) FROM business\n",
      "GROUP BY postal_code\n",
      "ORDER BY postal_code\n",
      ") counts_by_postal_code\n",
      "WHERE count < 10\n",
      "\n"
     ]
    }
   ],
   "source": [
    "select_postal_code_by_postal_code_less_than_10 = \"\"\"\n",
    "SELECT postal_code FROM \n",
    "    ({}) counts_by_postal_code\n",
    "WHERE count < 10\n",
    "\"\"\".format(select_count_by_postal_code)\n",
    "\n",
    "print(select_postal_code_by_postal_code_less_than_10)"
   ]
  },
  {
   "cell_type": "markdown",
   "metadata": {},
   "source": [
    "Note that we are using a subquery here. \n",
    "\n",
    "e.g. \n",
    "\n",
    "    SELECT * FROM (SUBQUERY) sub_query_name;\n",
    "    "
   ]
  },
  {
   "cell_type": "code",
   "execution_count": 41,
   "metadata": {},
   "outputs": [
    {
     "data": {
      "text/html": [
       "<div>\n",
       "<table border=\"1\" class=\"dataframe\">\n",
       "  <thead>\n",
       "    <tr style=\"text-align: right;\">\n",
       "      <th></th>\n",
       "      <th>postal_code</th>\n",
       "    </tr>\n",
       "  </thead>\n",
       "  <tbody>\n",
       "    <tr>\n",
       "      <th>0</th>\n",
       "      <td>0</td>\n",
       "    </tr>\n",
       "    <tr>\n",
       "      <th>1</th>\n",
       "      <td>94013</td>\n",
       "    </tr>\n",
       "    <tr>\n",
       "      <th>2</th>\n",
       "      <td>94101</td>\n",
       "    </tr>\n",
       "    <tr>\n",
       "      <th>3</th>\n",
       "      <td>94120</td>\n",
       "    </tr>\n",
       "    <tr>\n",
       "      <th>4</th>\n",
       "      <td>94130</td>\n",
       "    </tr>\n",
       "    <tr>\n",
       "      <th>5</th>\n",
       "      <td>94140</td>\n",
       "    </tr>\n",
       "    <tr>\n",
       "      <th>6</th>\n",
       "      <td>94143</td>\n",
       "    </tr>\n",
       "    <tr>\n",
       "      <th>7</th>\n",
       "      <td>94513</td>\n",
       "    </tr>\n",
       "    <tr>\n",
       "      <th>8</th>\n",
       "      <td>94609</td>\n",
       "    </tr>\n",
       "    <tr>\n",
       "      <th>9</th>\n",
       "      <td>95105</td>\n",
       "    </tr>\n",
       "  </tbody>\n",
       "</table>\n",
       "</div>"
      ],
      "text/plain": [
       "   postal_code\n",
       "0            0\n",
       "1        94013\n",
       "2        94101\n",
       "3        94120\n",
       "4        94130\n",
       "5        94140\n",
       "6        94143\n",
       "7        94513\n",
       "8        94609\n",
       "9        95105"
      ]
     },
     "execution_count": 41,
     "metadata": {},
     "output_type": "execute_result"
    }
   ],
   "source": [
    "db.query_to_dataframe(select_postal_code_by_postal_code_less_than_10)"
   ]
  },
  {
   "cell_type": "markdown",
   "metadata": {},
   "source": [
    "We'll think of these as our \"bad postal codes\". We can think of the query we defined as a list of these codes. That query was"
   ]
  },
  {
   "cell_type": "code",
   "execution_count": 42,
   "metadata": {},
   "outputs": [
    {
     "name": "stdout",
     "output_type": "stream",
     "text": [
      "\n",
      "SELECT postal_code FROM \n",
      "    (\n",
      "SELECT postal_code, COUNT(*) FROM business\n",
      "GROUP BY postal_code\n",
      "ORDER BY postal_code\n",
      ") counts_by_postal_code\n",
      "WHERE count < 10\n",
      "\n"
     ]
    }
   ],
   "source": [
    "print(select_postal_code_by_postal_code_less_than_10)"
   ]
  },
  {
   "cell_type": "markdown",
   "metadata": {},
   "source": [
    "Do we have (lat,long) pairs for these locations? Let's select all rows with one of these postal codes."
   ]
  },
  {
   "cell_type": "markdown",
   "metadata": {},
   "source": [
    "### `IN`"
   ]
  },
  {
   "cell_type": "markdown",
   "metadata": {},
   "source": [
    "To do this we will use the SQL keyword `IN`. `IN` checks a column against a list of items."
   ]
  },
  {
   "cell_type": "markdown",
   "metadata": {},
   "source": [
    "e.g. \n",
    "\n",
    "    SELECT * FROM my_table WHERE my_column IN ('1,2,3,4,5');"
   ]
  },
  {
   "cell_type": "markdown",
   "metadata": {},
   "source": [
    "# We will replace the list with our Sub-Query!! "
   ]
  },
  {
   "cell_type": "code",
   "execution_count": 43,
   "metadata": {
    "collapsed": true
   },
   "outputs": [],
   "source": [
    "broken_query = \"\"\"\n",
    "SELECT * FROM business WHERE \n",
    "\"\"\""
   ]
  },
  {
   "cell_type": "markdown",
   "metadata": {},
   "source": [
    "    SELECT * FROM business WHERE postal_code IN (\n",
    "        SELECT postal_code FROM \n",
    "            (\n",
    "            SELECT postal_code, COUNT(*) FROM business\n",
    "            GROUP BY postal_code\n",
    "            ORDER BY postal_code\n",
    "        ) counts_by_postal_code\n",
    "    WHERE count < 10\n",
    "    ) "
   ]
  },
  {
   "cell_type": "code",
   "execution_count": 44,
   "metadata": {},
   "outputs": [
    {
     "name": "stdout",
     "output_type": "stream",
     "text": [
      "\n",
      "SELECT * FROM business WHERE postal_code IN (\n",
      "SELECT postal_code FROM \n",
      "    (\n",
      "SELECT postal_code, COUNT(*) FROM business\n",
      "GROUP BY postal_code\n",
      "ORDER BY postal_code\n",
      ") counts_by_postal_code\n",
      "WHERE count < 10\n",
      ")\n"
     ]
    }
   ],
   "source": [
    "select_business_where_bad_postal_code = \"\"\"\n",
    "SELECT * FROM business WHERE postal_code IN ({})\"\"\".format(select_postal_code_by_postal_code_less_than_10)\n",
    "print(select_business_where_bad_postal_code)"
   ]
  },
  {
   "cell_type": "code",
   "execution_count": 45,
   "metadata": {},
   "outputs": [
    {
     "data": {
      "text/html": [
       "<div>\n",
       "<table border=\"1\" class=\"dataframe\">\n",
       "  <thead>\n",
       "    <tr style=\"text-align: right;\">\n",
       "      <th></th>\n",
       "      <th>address</th>\n",
       "      <th>city</th>\n",
       "      <th>gpnt_location</th>\n",
       "      <th>id</th>\n",
       "      <th>latitude</th>\n",
       "      <th>longitude</th>\n",
       "      <th>name</th>\n",
       "      <th>phone_number</th>\n",
       "      <th>postal_code</th>\n",
       "      <th>state</th>\n",
       "    </tr>\n",
       "  </thead>\n",
       "  <tbody>\n",
       "    <tr>\n",
       "      <th>10</th>\n",
       "      <td>PUBLIC RIGHT OF WAY</td>\n",
       "      <td>San Francisco</td>\n",
       "      <td>0101000020E6100000B7291E17D5EA42404E637B2DE890...</td>\n",
       "      <td>65673</td>\n",
       "      <td>37.834628</td>\n",
       "      <td>-122.264171</td>\n",
       "      <td>DOC'S OF THE BAY</td>\n",
       "      <td>+14156883245</td>\n",
       "      <td>94609</td>\n",
       "      <td>CA</td>\n",
       "    </tr>\n",
       "    <tr>\n",
       "      <th>7</th>\n",
       "      <td>2333 BUCHANAN ST LEVEL A</td>\n",
       "      <td>San Francisco</td>\n",
       "      <td>0101000020E6100000209A79724DE542403C139A24969B...</td>\n",
       "      <td>65271</td>\n",
       "      <td>37.791426</td>\n",
       "      <td>-122.431039</td>\n",
       "      <td>CALIFORNIA PACIFIC MEDICAL CTR - HOSPITAL KITCHEN</td>\n",
       "      <td>+14156006000</td>\n",
       "      <td>94120</td>\n",
       "      <td>CA</td>\n",
       "    </tr>\n",
       "    <tr>\n",
       "      <th>5</th>\n",
       "      <td>2 AVE OF PALMS BLDG 146, TREASURE ISLAND</td>\n",
       "      <td>San Francisco</td>\n",
       "      <td>0101000020E6100000C6DFF60489E94240F7ADD689CB97...</td>\n",
       "      <td>38139</td>\n",
       "      <td>37.824494</td>\n",
       "      <td>-122.371798</td>\n",
       "      <td>ISLAND MARKET &amp; DELI</td>\n",
       "      <td>+14158600303</td>\n",
       "      <td>94130</td>\n",
       "      <td>CA</td>\n",
       "    </tr>\n",
       "    <tr>\n",
       "      <th>3</th>\n",
       "      <td>888 HOWARD ST 2ND FLOOR</td>\n",
       "      <td>San Francisco</td>\n",
       "      <td>0101000020E6100000F33AE2900DE44240FA08FCE1E799...</td>\n",
       "      <td>37167</td>\n",
       "      <td>37.781664</td>\n",
       "      <td>-122.404778</td>\n",
       "      <td>INTERCONTINENTAL SAN FRANCISCO EMPLOYEE CAFETERIA</td>\n",
       "      <td>+14156166532</td>\n",
       "      <td>94013</td>\n",
       "      <td>CA</td>\n",
       "    </tr>\n",
       "    <tr>\n",
       "      <th>9</th>\n",
       "      <td>500 PARNASSUS AVE J LEVEL</td>\n",
       "      <td>San Francisco</td>\n",
       "      <td>0101000020E61000008330B77BB9E142408E3D7B2E539D...</td>\n",
       "      <td>65425</td>\n",
       "      <td>37.763473</td>\n",
       "      <td>-122.458202</td>\n",
       "      <td>PANDA EXPRESS</td>\n",
       "      <td>+14156657957</td>\n",
       "      <td>94143</td>\n",
       "      <td>CA</td>\n",
       "    </tr>\n",
       "  </tbody>\n",
       "</table>\n",
       "</div>"
      ],
      "text/plain": [
       "                                        address           city  \\\n",
       "10                        PUBLIC RIGHT OF WAY    San Francisco   \n",
       "7                      2333 BUCHANAN ST LEVEL A  San Francisco   \n",
       "5    2 AVE OF PALMS BLDG 146, TREASURE ISLAND    San Francisco   \n",
       "3                       888 HOWARD ST 2ND FLOOR  San Francisco   \n",
       "9                     500 PARNASSUS AVE J LEVEL  San Francisco   \n",
       "\n",
       "                                        gpnt_location     id   latitude  \\\n",
       "10  0101000020E6100000B7291E17D5EA42404E637B2DE890...  65673  37.834628   \n",
       "7   0101000020E6100000209A79724DE542403C139A24969B...  65271  37.791426   \n",
       "5   0101000020E6100000C6DFF60489E94240F7ADD689CB97...  38139  37.824494   \n",
       "3   0101000020E6100000F33AE2900DE44240FA08FCE1E799...  37167  37.781664   \n",
       "9   0101000020E61000008330B77BB9E142408E3D7B2E539D...  65425  37.763473   \n",
       "\n",
       "     longitude                                               name  \\\n",
       "10 -122.264171                                   DOC'S OF THE BAY   \n",
       "7  -122.431039  CALIFORNIA PACIFIC MEDICAL CTR - HOSPITAL KITCHEN   \n",
       "5  -122.371798                               ISLAND MARKET & DELI   \n",
       "3  -122.404778  INTERCONTINENTAL SAN FRANCISCO EMPLOYEE CAFETERIA   \n",
       "9  -122.458202                                      PANDA EXPRESS   \n",
       "\n",
       "    phone_number  postal_code state  \n",
       "10  +14156883245        94609    CA  \n",
       "7   +14156006000        94120    CA  \n",
       "5   +14158600303        94130    CA  \n",
       "3   +14156166532        94013    CA  \n",
       "9   +14156657957        94143    CA  "
      ]
     },
     "execution_count": 45,
     "metadata": {},
     "output_type": "execute_result"
    }
   ],
   "source": [
    "db.query_to_dataframe(select_business_where_bad_postal_code).sample(5)"
   ]
  },
  {
   "cell_type": "markdown",
   "metadata": {},
   "source": [
    "Note that some of these have a lat and long. "
   ]
  },
  {
   "cell_type": "markdown",
   "metadata": {},
   "source": [
    "What we want is rows that have \"bad postal codes\" and no (lat, long) pair. "
   ]
  },
  {
   "cell_type": "markdown",
   "metadata": {},
   "source": [
    "### A Nested Query\n",
    "\n",
    "To get these we will write a nested query that looks like this:\n",
    "\n",
    "    SELECT * FROM (invalid_lat_long) WHERE postal_code IN (bad_postal_code_str)"
   ]
  },
  {
   "cell_type": "code",
   "execution_count": 46,
   "metadata": {
    "collapsed": true
   },
   "outputs": [],
   "source": [
    "bad_postal_codes = select_postal_code_by_postal_code_less_than_10"
   ]
  },
  {
   "cell_type": "code",
   "execution_count": 47,
   "metadata": {},
   "outputs": [
    {
     "name": "stdout",
     "output_type": "stream",
     "text": [
      "\n",
      "SELECT * \n",
      "FROM (\n",
      "SELECT * FROM business\n",
      "WHERE \n",
      "    (latitude IS NULL\n",
      "     AND longitude IS NULL)\n",
      "OR \n",
      "    (latitude = 0 \n",
      "     AND longitude = 0)\n",
      ") invalid_business\n",
      "WHERE postal_code IN (\n",
      "SELECT postal_code FROM \n",
      "    (\n",
      "SELECT postal_code, COUNT(*) FROM business\n",
      "GROUP BY postal_code\n",
      "ORDER BY postal_code\n",
      ") counts_by_postal_code\n",
      "WHERE count < 10\n",
      ")\n",
      "\n"
     ]
    }
   ],
   "source": [
    "select_invalid_business_where_bad_postal_code = \"\"\"\n",
    "SELECT * \n",
    "FROM ({}) invalid_business\n",
    "WHERE postal_code IN ({})\n",
    "\"\"\".format(select_business_invalid, bad_postal_codes)\n",
    "print(select_invalid_business_where_bad_postal_code)"
   ]
  },
  {
   "cell_type": "code",
   "execution_count": 48,
   "metadata": {},
   "outputs": [
    {
     "data": {
      "text/html": [
       "<div>\n",
       "<table border=\"1\" class=\"dataframe\">\n",
       "  <thead>\n",
       "    <tr style=\"text-align: right;\">\n",
       "      <th></th>\n",
       "    </tr>\n",
       "  </thead>\n",
       "  <tbody>\n",
       "  </tbody>\n",
       "</table>\n",
       "</div>"
      ],
      "text/plain": [
       "Empty DataFrame\n",
       "Columns: []\n",
       "Index: []"
      ]
     },
     "execution_count": 48,
     "metadata": {},
     "output_type": "execute_result"
    }
   ],
   "source": [
    "db.query_to_dataframe(select_invalid_business_where_bad_postal_code)"
   ]
  },
  {
   "cell_type": "markdown",
   "metadata": {},
   "source": [
    "#### Let's use `DELETE` to get rid of rows that have no lat, long and a bad zip"
   ]
  },
  {
   "cell_type": "markdown",
   "metadata": {},
   "source": [
    "First, let's collect a list of business `id`s. "
   ]
  },
  {
   "cell_type": "code",
   "execution_count": 49,
   "metadata": {},
   "outputs": [
    {
     "name": "stdout",
     "output_type": "stream",
     "text": [
      "\n",
      "SELECT id \n",
      "FROM (\n",
      "SELECT * FROM business\n",
      "WHERE \n",
      "    (latitude IS NULL\n",
      "     AND longitude IS NULL)\n",
      "OR \n",
      "    (latitude = 0 \n",
      "     AND longitude = 0)\n",
      ") q\n",
      "WHERE postal_code IN (\n",
      "SELECT postal_code FROM \n",
      "    (\n",
      "SELECT postal_code, COUNT(*) FROM business\n",
      "GROUP BY postal_code\n",
      "ORDER BY postal_code\n",
      ") counts_by_postal_code\n",
      "WHERE count < 10\n",
      ")\n",
      "\n"
     ]
    }
   ],
   "source": [
    "select_invalid_business_id_where_bad_postal_code = \"\"\"\n",
    "SELECT id \n",
    "FROM ({}) q\n",
    "WHERE postal_code IN ({})\n",
    "\"\"\".format(select_business_invalid, select_postal_code_by_postal_code_less_than_10)\n",
    "print(select_invalid_business_id_where_bad_postal_code)"
   ]
  },
  {
   "cell_type": "code",
   "execution_count": 50,
   "metadata": {},
   "outputs": [
    {
     "data": {
      "text/html": [
       "<div>\n",
       "<table border=\"1\" class=\"dataframe\">\n",
       "  <thead>\n",
       "    <tr style=\"text-align: right;\">\n",
       "      <th></th>\n",
       "    </tr>\n",
       "  </thead>\n",
       "  <tbody>\n",
       "  </tbody>\n",
       "</table>\n",
       "</div>"
      ],
      "text/plain": [
       "Empty DataFrame\n",
       "Columns: []\n",
       "Index: []"
      ]
     },
     "execution_count": 50,
     "metadata": {},
     "output_type": "execute_result"
    }
   ],
   "source": [
    "db.query_to_dataframe(select_invalid_business_id_where_bad_postal_code)"
   ]
  },
  {
   "cell_type": "code",
   "execution_count": 51,
   "metadata": {},
   "outputs": [
    {
     "name": "stdout",
     "output_type": "stream",
     "text": [
      "\n",
      "SELECT id \n",
      "FROM (\n",
      "SELECT * FROM business\n",
      "WHERE \n",
      "    (latitude IS NULL\n",
      "     AND longitude IS NULL)\n",
      "OR \n",
      "    (latitude = 0 \n",
      "     AND longitude = 0)\n",
      ") q\n",
      "WHERE postal_code IN (\n",
      "SELECT postal_code FROM \n",
      "    (\n",
      "SELECT postal_code, COUNT(*) FROM business\n",
      "GROUP BY postal_code\n",
      "ORDER BY postal_code\n",
      ") counts_by_postal_code\n",
      "WHERE count < 10\n",
      ")\n",
      "\n"
     ]
    }
   ],
   "source": [
    "print(select_invalid_business_id_where_bad_postal_code)"
   ]
  },
  {
   "cell_type": "markdown",
   "metadata": {},
   "source": [
    "We can use this subquery in our `DELETE` query."
   ]
  },
  {
   "cell_type": "markdown",
   "metadata": {},
   "source": [
    "Remember, that a **delete** action is a write action and needs to be handled as a transaction. We need to `BEGIN` and `COMMIT`. "
   ]
  },
  {
   "cell_type": "code",
   "execution_count": 52,
   "metadata": {},
   "outputs": [
    {
     "name": "stdout",
     "output_type": "stream",
     "text": [
      "\n",
      "BEGIN;\n",
      "DELETE \n",
      "FROM business\n",
      "WHERE id IN (\n",
      "SELECT id \n",
      "FROM (\n",
      "SELECT * FROM business\n",
      "WHERE \n",
      "    (latitude IS NULL\n",
      "     AND longitude IS NULL)\n",
      "OR \n",
      "    (latitude = 0 \n",
      "     AND longitude = 0)\n",
      ") q\n",
      "WHERE postal_code IN (\n",
      "SELECT postal_code FROM \n",
      "    (\n",
      "SELECT postal_code, COUNT(*) FROM business\n",
      "GROUP BY postal_code\n",
      "ORDER BY postal_code\n",
      ") counts_by_postal_code\n",
      "WHERE count < 10\n",
      ")\n",
      ");\n",
      "COMMIT;\n",
      "\n"
     ]
    }
   ],
   "source": [
    "delete_invalid_business_bad_postal_code = \"\"\"\n",
    "BEGIN;\n",
    "DELETE \n",
    "FROM business\n",
    "WHERE id IN ({});\n",
    "COMMIT;\n",
    "\"\"\".format(select_invalid_business_id_where_bad_postal_code)\n",
    "print(delete_invalid_business_bad_postal_code)"
   ]
  },
  {
   "cell_type": "markdown",
   "metadata": {},
   "source": [
    "Remember, when we execute this we do not need to fetch results so we should set `fetch_res` to `False`."
   ]
  },
  {
   "cell_type": "code",
   "execution_count": 53,
   "metadata": {},
   "outputs": [],
   "source": [
    "db.query_to_dictionary(delete_invalid_business_bad_postal_code, fetch_res=False)"
   ]
  },
  {
   "cell_type": "markdown",
   "metadata": {},
   "source": [
    "Let's have a look at the sql file used to define our database. "
   ]
  },
  {
   "cell_type": "markdown",
   "metadata": {},
   "source": [
    "```SQL\n",
    "CREATE TABLE business (\n",
    "    id INTEGER,\n",
    "    name TEXT,\n",
    "    address TEXT,\n",
    "    city TEXT,\n",
    "    state TEXT,\n",
    "    postal_code INTEGER,\n",
    "    latitude FLOAT,\n",
    "    longitude FLOAT,\n",
    "    phone_number TEXT,\n",
    "    PRIMARY KEY (id));\n",
    "\n",
    "CREATE TABLE inspection (\n",
    "    business_id INTEGER,\n",
    "    score INTEGER,\n",
    "    date TIMESTAMP,\n",
    "    type TEXT,\n",
    "    CONSTRAINT fk_business_id\n",
    "    FOREIGN KEY (business_id)\n",
    "    REFERENCES business (id));\n",
    "\n",
    "CREATE TABLE legend (\n",
    "    minimum_score INTEGER,\n",
    "    maximum_score INTEGER,\n",
    "    description TEXT);\n",
    "\n",
    "CREATE TABLE violation (\n",
    "    business_id INTEGER,\n",
    "    date TIMESTAMP,\n",
    "    description TEXT,\n",
    "    CONSTRAINT fk_business_id\n",
    "    FOREIGN KEY (business_id)\n",
    "    REFERENCES business (id));\n",
    "\n",
    "```"
   ]
  },
  {
   "cell_type": "markdown",
   "metadata": {},
   "source": [
    "Note that we have foreign key `CONSTRAINT`s on the `inspection` and `violation` tables.  "
   ]
  },
  {
   "cell_type": "markdown",
   "metadata": {},
   "source": [
    "This means that, in order to drop the businesses with \"bad\" data, we will need to drop any inspections and violations associated with these. "
   ]
  },
  {
   "cell_type": "markdown",
   "metadata": {},
   "source": [
    "### \"Bad\" Business Data"
   ]
  },
  {
   "cell_type": "code",
   "execution_count": 54,
   "metadata": {},
   "outputs": [
    {
     "data": {
      "text/html": [
       "<div>\n",
       "<table border=\"1\" class=\"dataframe\">\n",
       "  <thead>\n",
       "    <tr style=\"text-align: right;\">\n",
       "      <th></th>\n",
       "    </tr>\n",
       "  </thead>\n",
       "  <tbody>\n",
       "  </tbody>\n",
       "</table>\n",
       "</div>"
      ],
      "text/plain": [
       "Empty DataFrame\n",
       "Columns: []\n",
       "Index: []"
      ]
     },
     "execution_count": 54,
     "metadata": {},
     "output_type": "execute_result"
    }
   ],
   "source": [
    "db.query_to_dataframe(select_invalid_business_id_where_bad_postal_code)"
   ]
  },
  {
   "cell_type": "code",
   "execution_count": 55,
   "metadata": {},
   "outputs": [
    {
     "name": "stdout",
     "output_type": "stream",
     "text": [
      "\n",
      "SELECT id \n",
      "FROM (\n",
      "SELECT * FROM business\n",
      "WHERE \n",
      "    (latitude IS NULL\n",
      "     AND longitude IS NULL)\n",
      "OR \n",
      "    (latitude = 0 \n",
      "     AND longitude = 0)\n",
      ") q\n",
      "WHERE postal_code IN (\n",
      "SELECT postal_code FROM \n",
      "    (\n",
      "SELECT postal_code, COUNT(*) FROM business\n",
      "GROUP BY postal_code\n",
      "ORDER BY postal_code\n",
      ") counts_by_postal_code\n",
      "WHERE count < 10\n",
      ")\n",
      "\n"
     ]
    }
   ],
   "source": [
    "print(select_invalid_business_id_where_bad_postal_code)"
   ]
  },
  {
   "cell_type": "code",
   "execution_count": 56,
   "metadata": {
    "collapsed": true
   },
   "outputs": [],
   "source": [
    "select_violations_for_bad_biz = \"\"\"\n",
    "SELECT * FROM violation\n",
    "WHERE business_id IN ({})\n",
    "\"\"\".format(select_invalid_business_id_where_bad_postal_code)"
   ]
  },
  {
   "cell_type": "code",
   "execution_count": 57,
   "metadata": {},
   "outputs": [
    {
     "data": {
      "text/html": [
       "<div>\n",
       "<table border=\"1\" class=\"dataframe\">\n",
       "  <thead>\n",
       "    <tr style=\"text-align: right;\">\n",
       "      <th></th>\n",
       "    </tr>\n",
       "  </thead>\n",
       "  <tbody>\n",
       "  </tbody>\n",
       "</table>\n",
       "</div>"
      ],
      "text/plain": [
       "Empty DataFrame\n",
       "Columns: []\n",
       "Index: []"
      ]
     },
     "execution_count": 57,
     "metadata": {},
     "output_type": "execute_result"
    }
   ],
   "source": [
    "db.query_to_dataframe(select_violations_for_bad_biz)"
   ]
  },
  {
   "cell_type": "markdown",
   "metadata": {},
   "source": [
    "### Delete Violations"
   ]
  },
  {
   "cell_type": "code",
   "execution_count": 58,
   "metadata": {
    "collapsed": true
   },
   "outputs": [],
   "source": [
    "select_count_violation = \"\"\"\n",
    "SELECT COUNT(*) FROM violation\"\"\""
   ]
  },
  {
   "cell_type": "code",
   "execution_count": 59,
   "metadata": {},
   "outputs": [
    {
     "data": {
      "text/html": [
       "<div>\n",
       "<table border=\"1\" class=\"dataframe\">\n",
       "  <thead>\n",
       "    <tr style=\"text-align: right;\">\n",
       "      <th></th>\n",
       "      <th>count</th>\n",
       "    </tr>\n",
       "  </thead>\n",
       "  <tbody>\n",
       "    <tr>\n",
       "      <th>0</th>\n",
       "      <td>39863</td>\n",
       "    </tr>\n",
       "  </tbody>\n",
       "</table>\n",
       "</div>"
      ],
      "text/plain": [
       "   count\n",
       "0  39863"
      ]
     },
     "execution_count": 59,
     "metadata": {},
     "output_type": "execute_result"
    }
   ],
   "source": [
    "db.query_to_dataframe(select_count_violation)"
   ]
  },
  {
   "cell_type": "code",
   "execution_count": 60,
   "metadata": {
    "collapsed": true
   },
   "outputs": [],
   "source": [
    "delete_violations_for_bad_biz = \"\"\"\n",
    "BEGIN;\n",
    "DELETE FROM violation\n",
    "WHERE business_id IN ({});\n",
    "COMMIT;\"\"\".format(select_invalid_business_id_where_bad_postal_code)"
   ]
  },
  {
   "cell_type": "code",
   "execution_count": 61,
   "metadata": {
    "collapsed": true
   },
   "outputs": [],
   "source": [
    "db.query_to_dictionary(delete_violations_for_bad_biz, fetch_res=False)"
   ]
  },
  {
   "cell_type": "code",
   "execution_count": 62,
   "metadata": {},
   "outputs": [
    {
     "data": {
      "text/html": [
       "<div>\n",
       "<table border=\"1\" class=\"dataframe\">\n",
       "  <thead>\n",
       "    <tr style=\"text-align: right;\">\n",
       "      <th></th>\n",
       "      <th>count</th>\n",
       "    </tr>\n",
       "  </thead>\n",
       "  <tbody>\n",
       "    <tr>\n",
       "      <th>0</th>\n",
       "      <td>39863</td>\n",
       "    </tr>\n",
       "  </tbody>\n",
       "</table>\n",
       "</div>"
      ],
      "text/plain": [
       "   count\n",
       "0  39863"
      ]
     },
     "execution_count": 62,
     "metadata": {},
     "output_type": "execute_result"
    }
   ],
   "source": [
    "db.query_to_dataframe(select_count_violation)"
   ]
  },
  {
   "cell_type": "markdown",
   "metadata": {},
   "source": [
    "### Delete Inspections"
   ]
  },
  {
   "cell_type": "code",
   "execution_count": 63,
   "metadata": {
    "collapsed": true
   },
   "outputs": [],
   "source": [
    "select_count_inspections = \"\"\"\n",
    "SELECT COUNT(*) FROM inspection\"\"\""
   ]
  },
  {
   "cell_type": "code",
   "execution_count": 64,
   "metadata": {},
   "outputs": [
    {
     "data": {
      "text/html": [
       "<div>\n",
       "<table border=\"1\" class=\"dataframe\">\n",
       "  <thead>\n",
       "    <tr style=\"text-align: right;\">\n",
       "      <th></th>\n",
       "      <th>count</th>\n",
       "    </tr>\n",
       "  </thead>\n",
       "  <tbody>\n",
       "    <tr>\n",
       "      <th>0</th>\n",
       "      <td>15408</td>\n",
       "    </tr>\n",
       "  </tbody>\n",
       "</table>\n",
       "</div>"
      ],
      "text/plain": [
       "   count\n",
       "0  15408"
      ]
     },
     "execution_count": 64,
     "metadata": {},
     "output_type": "execute_result"
    }
   ],
   "source": [
    "db.query_to_dataframe(select_count_inspections)"
   ]
  },
  {
   "cell_type": "code",
   "execution_count": 65,
   "metadata": {
    "collapsed": true
   },
   "outputs": [],
   "source": [
    "delete_inspections_for_bad_biz = \"\"\"\n",
    "BEGIN;\n",
    "DELETE FROM inspection\n",
    "WHERE business_id IN ({});\n",
    "COMMIT;\"\"\".format(select_invalid_business_id_where_bad_postal_code)"
   ]
  },
  {
   "cell_type": "code",
   "execution_count": 114,
   "metadata": {
    "collapsed": true
   },
   "outputs": [],
   "source": [
    "db.query_to_dictionary(delete_inspections_for_bad_biz, fetch_res=False)"
   ]
  },
  {
   "cell_type": "code",
   "execution_count": 115,
   "metadata": {},
   "outputs": [
    {
     "data": {
      "text/html": [
       "<div>\n",
       "<table border=\"1\" class=\"dataframe\">\n",
       "  <thead>\n",
       "    <tr style=\"text-align: right;\">\n",
       "      <th></th>\n",
       "      <th>count</th>\n",
       "    </tr>\n",
       "  </thead>\n",
       "  <tbody>\n",
       "    <tr>\n",
       "      <th>0</th>\n",
       "      <td>15408</td>\n",
       "    </tr>\n",
       "  </tbody>\n",
       "</table>\n",
       "</div>"
      ],
      "text/plain": [
       "   count\n",
       "0  15408"
      ]
     },
     "execution_count": 115,
     "metadata": {},
     "output_type": "execute_result"
    }
   ],
   "source": [
    "db.query_to_dataframe(select_count_inspections)"
   ]
  },
  {
   "cell_type": "markdown",
   "metadata": {},
   "source": [
    "### Delete Businesses"
   ]
  },
  {
   "cell_type": "code",
   "execution_count": 116,
   "metadata": {},
   "outputs": [
    {
     "data": {
      "text/html": [
       "<div>\n",
       "<table border=\"1\" class=\"dataframe\">\n",
       "  <thead>\n",
       "    <tr style=\"text-align: right;\">\n",
       "      <th></th>\n",
       "      <th>count</th>\n",
       "    </tr>\n",
       "  </thead>\n",
       "  <tbody>\n",
       "    <tr>\n",
       "      <th>0</th>\n",
       "      <td>6138</td>\n",
       "    </tr>\n",
       "  </tbody>\n",
       "</table>\n",
       "</div>"
      ],
      "text/plain": [
       "   count\n",
       "0   6138"
      ]
     },
     "execution_count": 116,
     "metadata": {},
     "output_type": "execute_result"
    }
   ],
   "source": [
    "db.query_to_dataframe(select_count_business)"
   ]
  },
  {
   "cell_type": "code",
   "execution_count": 117,
   "metadata": {
    "collapsed": true
   },
   "outputs": [],
   "source": [
    "db.query_to_dictionary(delete_invalid_business_bad_postal_code, fetch_res=False)"
   ]
  },
  {
   "cell_type": "code",
   "execution_count": 118,
   "metadata": {},
   "outputs": [
    {
     "data": {
      "text/html": [
       "<div>\n",
       "<table border=\"1\" class=\"dataframe\">\n",
       "  <thead>\n",
       "    <tr style=\"text-align: right;\">\n",
       "      <th></th>\n",
       "      <th>count</th>\n",
       "    </tr>\n",
       "  </thead>\n",
       "  <tbody>\n",
       "    <tr>\n",
       "      <th>0</th>\n",
       "      <td>6138</td>\n",
       "    </tr>\n",
       "  </tbody>\n",
       "</table>\n",
       "</div>"
      ],
      "text/plain": [
       "   count\n",
       "0   6138"
      ]
     },
     "execution_count": 118,
     "metadata": {},
     "output_type": "execute_result"
    }
   ],
   "source": [
    "db.query_to_dataframe(select_count_business)"
   ]
  },
  {
   "cell_type": "markdown",
   "metadata": {},
   "source": [
    "### Pull Bad Postal Codes Again"
   ]
  },
  {
   "cell_type": "code",
   "execution_count": 119,
   "metadata": {},
   "outputs": [
    {
     "data": {
      "text/html": [
       "<div>\n",
       "<table border=\"1\" class=\"dataframe\">\n",
       "  <thead>\n",
       "    <tr style=\"text-align: right;\">\n",
       "      <th></th>\n",
       "      <th>postal_code</th>\n",
       "    </tr>\n",
       "  </thead>\n",
       "  <tbody>\n",
       "    <tr>\n",
       "      <th>0</th>\n",
       "      <td>0</td>\n",
       "    </tr>\n",
       "    <tr>\n",
       "      <th>1</th>\n",
       "      <td>94013</td>\n",
       "    </tr>\n",
       "    <tr>\n",
       "      <th>2</th>\n",
       "      <td>94101</td>\n",
       "    </tr>\n",
       "    <tr>\n",
       "      <th>3</th>\n",
       "      <td>94120</td>\n",
       "    </tr>\n",
       "    <tr>\n",
       "      <th>4</th>\n",
       "      <td>94130</td>\n",
       "    </tr>\n",
       "    <tr>\n",
       "      <th>5</th>\n",
       "      <td>94140</td>\n",
       "    </tr>\n",
       "    <tr>\n",
       "      <th>6</th>\n",
       "      <td>94143</td>\n",
       "    </tr>\n",
       "    <tr>\n",
       "      <th>7</th>\n",
       "      <td>94513</td>\n",
       "    </tr>\n",
       "    <tr>\n",
       "      <th>8</th>\n",
       "      <td>94609</td>\n",
       "    </tr>\n",
       "    <tr>\n",
       "      <th>9</th>\n",
       "      <td>95105</td>\n",
       "    </tr>\n",
       "  </tbody>\n",
       "</table>\n",
       "</div>"
      ],
      "text/plain": [
       "   postal_code\n",
       "0            0\n",
       "1        94013\n",
       "2        94101\n",
       "3        94120\n",
       "4        94130\n",
       "5        94140\n",
       "6        94143\n",
       "7        94513\n",
       "8        94609\n",
       "9        95105"
      ]
     },
     "execution_count": 119,
     "metadata": {},
     "output_type": "execute_result"
    }
   ],
   "source": [
    "db.query_to_dataframe(select_postal_code_by_postal_code_less_than_10)"
   ]
  },
  {
   "cell_type": "markdown",
   "metadata": {},
   "source": [
    "## Repair Bad Zip Codes\n",
    "To repair the bad zip codes, we will attempt match the nearest points using GIS. \n",
    "\n",
    "To do this, we will first need to populate the `gpnt_location` column."
   ]
  },
  {
   "cell_type": "code",
   "execution_count": 120,
   "metadata": {},
   "outputs": [
    {
     "name": "stdout",
     "output_type": "stream",
     "text": [
      "\n",
      "SELECT * FROM business\n",
      "WHERE \n",
      "    (latitude IS NOT NULL\n",
      "     AND longitude IS NOT NULL)\n",
      "AND \n",
      "    (latitude != 0 \n",
      "     AND longitude != 0)\n",
      "\n"
     ]
    }
   ],
   "source": [
    "print(select_business_valid)"
   ]
  },
  {
   "cell_type": "code",
   "execution_count": 121,
   "metadata": {},
   "outputs": [
    {
     "data": {
      "text/html": [
       "<div>\n",
       "<table border=\"1\" class=\"dataframe\">\n",
       "  <thead>\n",
       "    <tr style=\"text-align: right;\">\n",
       "      <th></th>\n",
       "      <th>address</th>\n",
       "      <th>city</th>\n",
       "      <th>gpnt_location</th>\n",
       "      <th>id</th>\n",
       "      <th>latitude</th>\n",
       "      <th>longitude</th>\n",
       "      <th>name</th>\n",
       "      <th>phone_number</th>\n",
       "      <th>postal_code</th>\n",
       "      <th>state</th>\n",
       "    </tr>\n",
       "  </thead>\n",
       "  <tbody>\n",
       "    <tr>\n",
       "      <th>2705</th>\n",
       "      <td>288 CONNECTICUT ST</td>\n",
       "      <td>San Francisco</td>\n",
       "      <td>0101000020E61000003EB2B96A9EE142400D6C95607199...</td>\n",
       "      <td>60331</td>\n",
       "      <td>37.762647</td>\n",
       "      <td>-122.397545</td>\n",
       "      <td>SUNFLOWER POTRERO HILL</td>\n",
       "      <td>+14157067920</td>\n",
       "      <td>94107.0</td>\n",
       "      <td>CA</td>\n",
       "    </tr>\n",
       "    <tr>\n",
       "      <th>3702</th>\n",
       "      <td>659 VALENCIA ST</td>\n",
       "      <td>San Francisco</td>\n",
       "      <td>0101000020E610000056F146E691E14240E59CD843FB9A...</td>\n",
       "      <td>71380</td>\n",
       "      <td>37.762265</td>\n",
       "      <td>-122.421586</td>\n",
       "      <td>CURRY UP NOW</td>\n",
       "      <td>+14158237000</td>\n",
       "      <td>94110.0</td>\n",
       "      <td>CA</td>\n",
       "    </tr>\n",
       "    <tr>\n",
       "      <th>2263</th>\n",
       "      <td>96 MCALLISTER ST</td>\n",
       "      <td>San Francisco</td>\n",
       "      <td>0101000020E610000093C49272F7E342400934D8D4799A...</td>\n",
       "      <td>33920</td>\n",
       "      <td>37.780989</td>\n",
       "      <td>-122.413686</td>\n",
       "      <td>LALITA THAI RESTAURANT &amp; BAR</td>\n",
       "      <td>+14155525744</td>\n",
       "      <td>94102.0</td>\n",
       "      <td>CA</td>\n",
       "    </tr>\n",
       "    <tr>\n",
       "      <th>1757</th>\n",
       "      <td>3743 MISSION ST</td>\n",
       "      <td>San Francisco</td>\n",
       "      <td>0101000020E6100000B1A888D349DE4240164B917C259B...</td>\n",
       "      <td>7761</td>\n",
       "      <td>37.736628</td>\n",
       "      <td>-122.424163</td>\n",
       "      <td>LELENITA'S CAKES</td>\n",
       "      <td>+14157598761</td>\n",
       "      <td>94110.0</td>\n",
       "      <td>CA</td>\n",
       "    </tr>\n",
       "  </tbody>\n",
       "</table>\n",
       "</div>"
      ],
      "text/plain": [
       "                  address           city  \\\n",
       "2705  288 CONNECTICUT ST   San Francisco   \n",
       "3702     659 VALENCIA ST   San Francisco   \n",
       "2263    96 MCALLISTER ST   San Francisco   \n",
       "1757     3743 MISSION ST   San Francisco   \n",
       "\n",
       "                                          gpnt_location     id   latitude  \\\n",
       "2705  0101000020E61000003EB2B96A9EE142400D6C95607199...  60331  37.762647   \n",
       "3702  0101000020E610000056F146E691E14240E59CD843FB9A...  71380  37.762265   \n",
       "2263  0101000020E610000093C49272F7E342400934D8D4799A...  33920  37.780989   \n",
       "1757  0101000020E6100000B1A888D349DE4240164B917C259B...   7761  37.736628   \n",
       "\n",
       "       longitude                          name  phone_number  postal_code  \\\n",
       "2705 -122.397545        SUNFLOWER POTRERO HILL  +14157067920      94107.0   \n",
       "3702 -122.421586                  CURRY UP NOW  +14158237000      94110.0   \n",
       "2263 -122.413686  LALITA THAI RESTAURANT & BAR  +14155525744      94102.0   \n",
       "1757 -122.424163              LELENITA'S CAKES  +14157598761      94110.0   \n",
       "\n",
       "     state  \n",
       "2705    CA  \n",
       "3702    CA  \n",
       "2263    CA  \n",
       "1757    CA  "
      ]
     },
     "execution_count": 121,
     "metadata": {},
     "output_type": "execute_result"
    }
   ],
   "source": [
    "db.query_to_dataframe(select_business_valid).sample(4)"
   ]
  },
  {
   "cell_type": "code",
   "execution_count": 122,
   "metadata": {
    "collapsed": true
   },
   "outputs": [],
   "source": [
    "update_gpnt = \"\"\"\n",
    "BEGIN;\n",
    "UPDATE business SET \n",
    "gpnt_location = ST_SetSRID(ST_MakePoint(latitude, longitude),4326);\n",
    "COMMIT;\n",
    "\"\"\""
   ]
  },
  {
   "cell_type": "code",
   "execution_count": 123,
   "metadata": {
    "collapsed": true
   },
   "outputs": [],
   "source": [
    "db.query_to_dictionary(update_gpnt, fetch_res=False)"
   ]
  },
  {
   "cell_type": "code",
   "execution_count": null,
   "metadata": {
    "collapsed": true
   },
   "outputs": [],
   "source": []
  },
  {
   "cell_type": "markdown",
   "metadata": {},
   "source": [
    "### Match points to the points with bad zip codes using a given radius"
   ]
  },
  {
   "cell_type": "code",
   "execution_count": 124,
   "metadata": {},
   "outputs": [
    {
     "data": {
      "text/html": [
       "<div>\n",
       "<table border=\"1\" class=\"dataframe\">\n",
       "  <thead>\n",
       "    <tr style=\"text-align: right;\">\n",
       "      <th></th>\n",
       "      <th>postal_code</th>\n",
       "    </tr>\n",
       "  </thead>\n",
       "  <tbody>\n",
       "    <tr>\n",
       "      <th>0</th>\n",
       "      <td>0</td>\n",
       "    </tr>\n",
       "    <tr>\n",
       "      <th>1</th>\n",
       "      <td>94013</td>\n",
       "    </tr>\n",
       "    <tr>\n",
       "      <th>2</th>\n",
       "      <td>94101</td>\n",
       "    </tr>\n",
       "    <tr>\n",
       "      <th>3</th>\n",
       "      <td>94120</td>\n",
       "    </tr>\n",
       "    <tr>\n",
       "      <th>4</th>\n",
       "      <td>94130</td>\n",
       "    </tr>\n",
       "    <tr>\n",
       "      <th>5</th>\n",
       "      <td>94140</td>\n",
       "    </tr>\n",
       "    <tr>\n",
       "      <th>6</th>\n",
       "      <td>94143</td>\n",
       "    </tr>\n",
       "    <tr>\n",
       "      <th>7</th>\n",
       "      <td>94513</td>\n",
       "    </tr>\n",
       "    <tr>\n",
       "      <th>8</th>\n",
       "      <td>94609</td>\n",
       "    </tr>\n",
       "    <tr>\n",
       "      <th>9</th>\n",
       "      <td>95105</td>\n",
       "    </tr>\n",
       "  </tbody>\n",
       "</table>\n",
       "</div>"
      ],
      "text/plain": [
       "   postal_code\n",
       "0            0\n",
       "1        94013\n",
       "2        94101\n",
       "3        94120\n",
       "4        94130\n",
       "5        94140\n",
       "6        94143\n",
       "7        94513\n",
       "8        94609\n",
       "9        95105"
      ]
     },
     "execution_count": 124,
     "metadata": {},
     "output_type": "execute_result"
    }
   ],
   "source": [
    "db.query_to_dataframe(select_postal_code_by_postal_code_less_than_10)"
   ]
  },
  {
   "cell_type": "code",
   "execution_count": 125,
   "metadata": {
    "collapsed": true
   },
   "outputs": [],
   "source": [
    "def select_postal_code(postal_code):\n",
    "    return \"\"\"SELECT * FROM business WHERE postal_code = {}\"\"\".format(postal_code)"
   ]
  },
  {
   "cell_type": "code",
   "execution_count": 126,
   "metadata": {},
   "outputs": [
    {
     "data": {
      "text/html": [
       "<div>\n",
       "<table border=\"1\" class=\"dataframe\">\n",
       "  <thead>\n",
       "    <tr style=\"text-align: right;\">\n",
       "      <th></th>\n",
       "    </tr>\n",
       "  </thead>\n",
       "  <tbody>\n",
       "  </tbody>\n",
       "</table>\n",
       "</div>"
      ],
      "text/plain": [
       "Empty DataFrame\n",
       "Columns: []\n",
       "Index: []"
      ]
     },
     "execution_count": 126,
     "metadata": {},
     "output_type": "execute_result"
    }
   ],
   "source": [
    "db.query_to_dataframe(select_postal_code(92672))"
   ]
  },
  {
   "cell_type": "code",
   "execution_count": 127,
   "metadata": {
    "collapsed": true
   },
   "outputs": [],
   "source": [
    "def select_gpnt_for_postal_code(postal_code):\n",
    "    return \"\"\"SELECT gpnt_location FROM business WHERE postal_code = {} LIMIT 1\"\"\".format(postal_code)"
   ]
  },
  {
   "cell_type": "code",
   "execution_count": 128,
   "metadata": {},
   "outputs": [
    {
     "data": {
      "text/plain": [
       "'SELECT gpnt_location FROM business WHERE postal_code = 92672 LIMIT 1'"
      ]
     },
     "execution_count": 128,
     "metadata": {},
     "output_type": "execute_result"
    }
   ],
   "source": [
    "select_gpnt_for_postal_code(92672)"
   ]
  },
  {
   "cell_type": "code",
   "execution_count": 129,
   "metadata": {
    "collapsed": true
   },
   "outputs": [],
   "source": [
    "def match_gpnt(postal_code, distance):\n",
    "    return \"\"\"\n",
    "            SELECT *\n",
    "            FROM business\n",
    "            WHERE ST_Distance_Sphere(gpnt_location, ({})) <= {}\n",
    "            \"\"\".format(select_gpnt_for_postal_code(postal_code), distance)"
   ]
  },
  {
   "cell_type": "code",
   "execution_count": 130,
   "metadata": {},
   "outputs": [
    {
     "name": "stdout",
     "output_type": "stream",
     "text": [
      "\n",
      "            SELECT *\n",
      "            FROM business\n",
      "            WHERE ST_Distance_Sphere(gpnt_location, (SELECT gpnt_location FROM business WHERE postal_code = 92672 LIMIT 1)) <= 100\n",
      "            \n"
     ]
    }
   ],
   "source": [
    "print(match_gpnt(92672, 100))"
   ]
  },
  {
   "cell_type": "code",
   "execution_count": 131,
   "metadata": {},
   "outputs": [
    {
     "data": {
      "text/html": [
       "<div>\n",
       "<table border=\"1\" class=\"dataframe\">\n",
       "  <thead>\n",
       "    <tr style=\"text-align: right;\">\n",
       "      <th></th>\n",
       "    </tr>\n",
       "  </thead>\n",
       "  <tbody>\n",
       "  </tbody>\n",
       "</table>\n",
       "</div>"
      ],
      "text/plain": [
       "Empty DataFrame\n",
       "Columns: []\n",
       "Index: []"
      ]
     },
     "execution_count": 131,
     "metadata": {},
     "output_type": "execute_result"
    }
   ],
   "source": [
    "db.query_to_dataframe(match_gpnt(92672, 100))"
   ]
  },
  {
   "cell_type": "code",
   "execution_count": 132,
   "metadata": {
    "collapsed": true
   },
   "outputs": [],
   "source": [
    "update_92672 = \"\"\"\n",
    "BEGIN;\n",
    "UPDATE business SET postal_code = 94117 WHERE postal_code = 92672;\n",
    "COMMIT;\n",
    "\"\"\""
   ]
  },
  {
   "cell_type": "code",
   "execution_count": 133,
   "metadata": {
    "collapsed": true
   },
   "outputs": [],
   "source": [
    "db.query_to_dictionary(update_92672, fetch_res=False)"
   ]
  },
  {
   "cell_type": "code",
   "execution_count": 134,
   "metadata": {},
   "outputs": [
    {
     "data": {
      "text/html": [
       "<div>\n",
       "<table border=\"1\" class=\"dataframe\">\n",
       "  <thead>\n",
       "    <tr style=\"text-align: right;\">\n",
       "      <th></th>\n",
       "      <th>address</th>\n",
       "      <th>city</th>\n",
       "      <th>gpnt_location</th>\n",
       "      <th>id</th>\n",
       "      <th>latitude</th>\n",
       "      <th>longitude</th>\n",
       "      <th>name</th>\n",
       "      <th>phone_number</th>\n",
       "      <th>postal_code</th>\n",
       "      <th>state</th>\n",
       "    </tr>\n",
       "  </thead>\n",
       "  <tbody>\n",
       "    <tr>\n",
       "      <th>0</th>\n",
       "      <td>1530 HAIGHT ST</td>\n",
       "      <td>San Francisco</td>\n",
       "      <td>0101000020E6100000C32973F38DE242405FB87361A49C...</td>\n",
       "      <td>64660</td>\n",
       "      <td>37.769957</td>\n",
       "      <td>-122.447533</td>\n",
       "      <td>HAIGHT STREET MARKET</td>\n",
       "      <td>+14152550643</td>\n",
       "      <td>94117</td>\n",
       "      <td>CA</td>\n",
       "    </tr>\n",
       "    <tr>\n",
       "      <th>1</th>\n",
       "      <td>1476 HAIGHT ST</td>\n",
       "      <td>San Francisco</td>\n",
       "      <td>0101000020E61000001BD9959691E24240193DB7D0959C...</td>\n",
       "      <td>1048</td>\n",
       "      <td>37.770068</td>\n",
       "      <td>-122.446644</td>\n",
       "      <td>CREPE EXPRESS</td>\n",
       "      <td>+14158650264</td>\n",
       "      <td>94117</td>\n",
       "      <td>CA</td>\n",
       "    </tr>\n",
       "    <tr>\n",
       "      <th>2</th>\n",
       "      <td>1509 HAIGHT ST</td>\n",
       "      <td>San Francisco</td>\n",
       "      <td>0101000020E6100000B8AF03E78CE24240DFDDCA129D9C...</td>\n",
       "      <td>4257</td>\n",
       "      <td>37.769925</td>\n",
       "      <td>-122.447087</td>\n",
       "      <td>DELUXE</td>\n",
       "      <td>+14155526949</td>\n",
       "      <td>94117</td>\n",
       "      <td>CA</td>\n",
       "    </tr>\n",
       "    <tr>\n",
       "      <th>3</th>\n",
       "      <td>1480 HAIGHT ST</td>\n",
       "      <td>San Francisco</td>\n",
       "      <td>0101000020E61000001BD9959691E24240193DB7D0959C...</td>\n",
       "      <td>4896</td>\n",
       "      <td>37.770068</td>\n",
       "      <td>-122.446644</td>\n",
       "      <td>BEN &amp; JERRY'S HAIGHT-ASHBURY</td>\n",
       "      <td>+14154573140</td>\n",
       "      <td>94117</td>\n",
       "      <td>CA</td>\n",
       "    </tr>\n",
       "    <tr>\n",
       "      <th>4</th>\n",
       "      <td>1535 HAIGHT ST</td>\n",
       "      <td>San Francisco</td>\n",
       "      <td>0101000020E6100000AD3594DA8BE2424040852348A59C...</td>\n",
       "      <td>36635</td>\n",
       "      <td>37.769893</td>\n",
       "      <td>-122.447588</td>\n",
       "      <td>BIG SLICE PIZZA</td>\n",
       "      <td>+14155522520</td>\n",
       "      <td>94117</td>\n",
       "      <td>CA</td>\n",
       "    </tr>\n",
       "    <tr>\n",
       "      <th>5</th>\n",
       "      <td>1599 HAIGHT ST</td>\n",
       "      <td>San Francisco</td>\n",
       "      <td>0101000020E61000006DAE9AE788E24240B1FB8EE1B19C...</td>\n",
       "      <td>67587</td>\n",
       "      <td>37.769803</td>\n",
       "      <td>-122.448357</td>\n",
       "      <td>BURGER URGE</td>\n",
       "      <td>+14155220122</td>\n",
       "      <td>94117</td>\n",
       "      <td>CA</td>\n",
       "    </tr>\n",
       "    <tr>\n",
       "      <th>6</th>\n",
       "      <td>1568 HAIGHT ST</td>\n",
       "      <td>San Francisco</td>\n",
       "      <td>0101000020E61000009BCAA2B08BE242404224438EAD9C...</td>\n",
       "      <td>70970</td>\n",
       "      <td>37.769888</td>\n",
       "      <td>-122.448093</td>\n",
       "      <td>H.Q. BAR &amp; RESTAURANT</td>\n",
       "      <td></td>\n",
       "      <td>94117</td>\n",
       "      <td>CA</td>\n",
       "    </tr>\n",
       "  </tbody>\n",
       "</table>\n",
       "</div>"
      ],
      "text/plain": [
       "           address           city  \\\n",
       "0  1530 HAIGHT ST   San Francisco   \n",
       "1  1476 HAIGHT ST   San Francisco   \n",
       "2  1509 HAIGHT ST   San Francisco   \n",
       "3   1480 HAIGHT ST  San Francisco   \n",
       "4  1535 HAIGHT ST   San Francisco   \n",
       "5  1599 HAIGHT ST   San Francisco   \n",
       "6  1568 HAIGHT ST   San Francisco   \n",
       "\n",
       "                                       gpnt_location     id   latitude  \\\n",
       "0  0101000020E6100000C32973F38DE242405FB87361A49C...  64660  37.769957   \n",
       "1  0101000020E61000001BD9959691E24240193DB7D0959C...   1048  37.770068   \n",
       "2  0101000020E6100000B8AF03E78CE24240DFDDCA129D9C...   4257  37.769925   \n",
       "3  0101000020E61000001BD9959691E24240193DB7D0959C...   4896  37.770068   \n",
       "4  0101000020E6100000AD3594DA8BE2424040852348A59C...  36635  37.769893   \n",
       "5  0101000020E61000006DAE9AE788E24240B1FB8EE1B19C...  67587  37.769803   \n",
       "6  0101000020E61000009BCAA2B08BE242404224438EAD9C...  70970  37.769888   \n",
       "\n",
       "    longitude                          name  phone_number  postal_code state  \n",
       "0 -122.447533          HAIGHT STREET MARKET  +14152550643        94117    CA  \n",
       "1 -122.446644                 CREPE EXPRESS  +14158650264        94117    CA  \n",
       "2 -122.447087                        DELUXE  +14155526949        94117    CA  \n",
       "3 -122.446644  BEN & JERRY'S HAIGHT-ASHBURY  +14154573140        94117    CA  \n",
       "4 -122.447588               BIG SLICE PIZZA  +14155522520        94117    CA  \n",
       "5 -122.448357                   BURGER URGE  +14155220122        94117    CA  \n",
       "6 -122.448093         H.Q. BAR & RESTAURANT                      94117    CA  "
      ]
     },
     "execution_count": 134,
     "metadata": {},
     "output_type": "execute_result"
    }
   ],
   "source": [
    "db.query_to_dataframe(match_gpnt(94117, 100))"
   ]
  },
  {
   "cell_type": "markdown",
   "metadata": {},
   "source": [
    "### Check the Status of our Bad Postal Codes"
   ]
  },
  {
   "cell_type": "code",
   "execution_count": 135,
   "metadata": {},
   "outputs": [
    {
     "data": {
      "text/html": [
       "<div>\n",
       "<table border=\"1\" class=\"dataframe\">\n",
       "  <thead>\n",
       "    <tr style=\"text-align: right;\">\n",
       "      <th></th>\n",
       "      <th>postal_code</th>\n",
       "    </tr>\n",
       "  </thead>\n",
       "  <tbody>\n",
       "    <tr>\n",
       "      <th>0</th>\n",
       "      <td>0</td>\n",
       "    </tr>\n",
       "    <tr>\n",
       "      <th>1</th>\n",
       "      <td>94013</td>\n",
       "    </tr>\n",
       "    <tr>\n",
       "      <th>2</th>\n",
       "      <td>94101</td>\n",
       "    </tr>\n",
       "    <tr>\n",
       "      <th>3</th>\n",
       "      <td>94120</td>\n",
       "    </tr>\n",
       "    <tr>\n",
       "      <th>4</th>\n",
       "      <td>94130</td>\n",
       "    </tr>\n",
       "    <tr>\n",
       "      <th>5</th>\n",
       "      <td>94140</td>\n",
       "    </tr>\n",
       "    <tr>\n",
       "      <th>6</th>\n",
       "      <td>94143</td>\n",
       "    </tr>\n",
       "    <tr>\n",
       "      <th>7</th>\n",
       "      <td>94513</td>\n",
       "    </tr>\n",
       "    <tr>\n",
       "      <th>8</th>\n",
       "      <td>94609</td>\n",
       "    </tr>\n",
       "    <tr>\n",
       "      <th>9</th>\n",
       "      <td>95105</td>\n",
       "    </tr>\n",
       "  </tbody>\n",
       "</table>\n",
       "</div>"
      ],
      "text/plain": [
       "   postal_code\n",
       "0            0\n",
       "1        94013\n",
       "2        94101\n",
       "3        94120\n",
       "4        94130\n",
       "5        94140\n",
       "6        94143\n",
       "7        94513\n",
       "8        94609\n",
       "9        95105"
      ]
     },
     "execution_count": 135,
     "metadata": {},
     "output_type": "execute_result"
    }
   ],
   "source": [
    "db.query_to_dataframe(select_postal_code_by_postal_code_less_than_10)"
   ]
  },
  {
   "cell_type": "code",
   "execution_count": 136,
   "metadata": {},
   "outputs": [
    {
     "data": {
      "text/html": [
       "<div>\n",
       "<table border=\"1\" class=\"dataframe\">\n",
       "  <thead>\n",
       "    <tr style=\"text-align: right;\">\n",
       "      <th></th>\n",
       "      <th>address</th>\n",
       "      <th>city</th>\n",
       "      <th>gpnt_location</th>\n",
       "      <th>id</th>\n",
       "      <th>latitude</th>\n",
       "      <th>longitude</th>\n",
       "      <th>name</th>\n",
       "      <th>phone_number</th>\n",
       "      <th>postal_code</th>\n",
       "      <th>state</th>\n",
       "    </tr>\n",
       "  </thead>\n",
       "  <tbody>\n",
       "    <tr>\n",
       "      <th>0</th>\n",
       "      <td>1555 MISSION ST</td>\n",
       "      <td>San Francisco</td>\n",
       "      <td>0101000020E610000082C476F700E34240F06B2409C29A...</td>\n",
       "      <td>1216</td>\n",
       "      <td>37.773467</td>\n",
       "      <td>-122.418093</td>\n",
       "      <td>ZAOH RESTAURANT</td>\n",
       "      <td>+14154313930</td>\n",
       "      <td>94103</td>\n",
       "      <td>CA</td>\n",
       "    </tr>\n",
       "    <tr>\n",
       "      <th>1</th>\n",
       "      <td>1455A MARKET ST</td>\n",
       "      <td>San Francisco</td>\n",
       "      <td>0101000020E6100000BEC1172653E34240962023A0C29A...</td>\n",
       "      <td>4661</td>\n",
       "      <td>37.775975</td>\n",
       "      <td>-122.418129</td>\n",
       "      <td>HAPPY DONUT</td>\n",
       "      <td>+14152528868</td>\n",
       "      <td>94103</td>\n",
       "      <td>CA</td>\n",
       "    </tr>\n",
       "    <tr>\n",
       "      <th>2</th>\n",
       "      <td>1455 MARKET ST 1/F</td>\n",
       "      <td>San Francisco</td>\n",
       "      <td>0101000020E61000005EB9DE3653E34240DEE68D93C29A...</td>\n",
       "      <td>5018</td>\n",
       "      <td>37.775977</td>\n",
       "      <td>-122.418126</td>\n",
       "      <td>MCDONALDS</td>\n",
       "      <td>+14154686990</td>\n",
       "      <td>94103</td>\n",
       "      <td>CA</td>\n",
       "    </tr>\n",
       "    <tr>\n",
       "      <th>3</th>\n",
       "      <td>1559 MISSION ST</td>\n",
       "      <td>San Francisco</td>\n",
       "      <td>0101000020E61000003B18B14F00E3424025ADF886C29A...</td>\n",
       "      <td>36745</td>\n",
       "      <td>37.773447</td>\n",
       "      <td>-122.418123</td>\n",
       "      <td>SHANGHAI CHINA RESTAURANT</td>\n",
       "      <td>+14156218188</td>\n",
       "      <td>94103</td>\n",
       "      <td>CA</td>\n",
       "    </tr>\n",
       "    <tr>\n",
       "      <th>4</th>\n",
       "      <td>41 MONTGOMERY ST</td>\n",
       "      <td>San Francisco</td>\n",
       "      <td>0101000020E6100000923B6C2233E34240C53C2B69C59A...</td>\n",
       "      <td>65856</td>\n",
       "      <td>37.774998</td>\n",
       "      <td>-122.418299</td>\n",
       "      <td>BAMBOO ASIA</td>\n",
       "      <td>+14156246790</td>\n",
       "      <td>94101</td>\n",
       "      <td>CA</td>\n",
       "    </tr>\n",
       "    <tr>\n",
       "      <th>5</th>\n",
       "      <td>1400 MARKET ST</td>\n",
       "      <td>San Francisco</td>\n",
       "      <td>0101000020E61000006D54A70359E3424008C89750C19A...</td>\n",
       "      <td>66219</td>\n",
       "      <td>37.776154</td>\n",
       "      <td>-122.418049</td>\n",
       "      <td>LITTLE GRIDDLE</td>\n",
       "      <td>+14158644292</td>\n",
       "      <td>94102</td>\n",
       "      <td>CA</td>\n",
       "    </tr>\n",
       "    <tr>\n",
       "      <th>6</th>\n",
       "      <td>1408 MARKET ST</td>\n",
       "      <td>San Francisco</td>\n",
       "      <td>0101000020E61000004A7EC4AF58E3424032755776C19A...</td>\n",
       "      <td>69121</td>\n",
       "      <td>37.776144</td>\n",
       "      <td>-122.418058</td>\n",
       "      <td>MAVELOUS, LLC</td>\n",
       "      <td>+14156268884</td>\n",
       "      <td>94102</td>\n",
       "      <td>CA</td>\n",
       "    </tr>\n",
       "  </tbody>\n",
       "</table>\n",
       "</div>"
      ],
      "text/plain": [
       "              address           city  \\\n",
       "0    1555 MISSION ST   San Francisco   \n",
       "1    1455A MARKET ST   San Francisco   \n",
       "2  1455 MARKET ST 1/F  San Francisco   \n",
       "3    1559 MISSION ST   San Francisco   \n",
       "4   41 MONTGOMERY ST   San Francisco   \n",
       "5     1400 MARKET ST   San Francisco   \n",
       "6     1408 MARKET ST   San Francisco   \n",
       "\n",
       "                                       gpnt_location     id   latitude  \\\n",
       "0  0101000020E610000082C476F700E34240F06B2409C29A...   1216  37.773467   \n",
       "1  0101000020E6100000BEC1172653E34240962023A0C29A...   4661  37.775975   \n",
       "2  0101000020E61000005EB9DE3653E34240DEE68D93C29A...   5018  37.775977   \n",
       "3  0101000020E61000003B18B14F00E3424025ADF886C29A...  36745  37.773447   \n",
       "4  0101000020E6100000923B6C2233E34240C53C2B69C59A...  65856  37.774998   \n",
       "5  0101000020E61000006D54A70359E3424008C89750C19A...  66219  37.776154   \n",
       "6  0101000020E61000004A7EC4AF58E3424032755776C19A...  69121  37.776144   \n",
       "\n",
       "    longitude                       name  phone_number  postal_code state  \n",
       "0 -122.418093            ZAOH RESTAURANT  +14154313930        94103    CA  \n",
       "1 -122.418129                HAPPY DONUT  +14152528868        94103    CA  \n",
       "2 -122.418126                  MCDONALDS  +14154686990        94103    CA  \n",
       "3 -122.418123  SHANGHAI CHINA RESTAURANT  +14156218188        94103    CA  \n",
       "4 -122.418299                BAMBOO ASIA  +14156246790        94101    CA  \n",
       "5 -122.418049             LITTLE GRIDDLE  +14158644292        94102    CA  \n",
       "6 -122.418058              MAVELOUS, LLC  +14156268884        94102    CA  "
      ]
     },
     "execution_count": 136,
     "metadata": {},
     "output_type": "execute_result"
    }
   ],
   "source": [
    "db.query_to_dataframe(match_gpnt(94101, 100))"
   ]
  },
  {
   "cell_type": "markdown",
   "metadata": {},
   "source": [
    "## Plot locations"
   ]
  },
  {
   "cell_type": "markdown",
   "metadata": {},
   "source": [
    "Next, we will use Folium to plot the businesses for which we have a latitude and a longitude. "
   ]
  },
  {
   "cell_type": "markdown",
   "metadata": {},
   "source": [
    "### `folium.Map` \n",
    "\n",
    "To build our `folium.Map` object we will need to center the map in a given location. We will use the `avg` aggregate function to do this. "
   ]
  },
  {
   "cell_type": "code",
   "execution_count": 137,
   "metadata": {
    "collapsed": true
   },
   "outputs": [],
   "source": [
    "import folium"
   ]
  },
  {
   "cell_type": "code",
   "execution_count": 138,
   "metadata": {
    "collapsed": true
   },
   "outputs": [],
   "source": [
    "avg_location_sf = \"\"\"\n",
    "SELECT avg(latitude) as avg_lat, \n",
    "       avg(longitude) as avg_lon FROM ({}) q;\n",
    "\"\"\".format(select_business_valid)"
   ]
  },
  {
   "cell_type": "code",
   "execution_count": 139,
   "metadata": {},
   "outputs": [
    {
     "data": {
      "text/html": [
       "<div>\n",
       "<table border=\"1\" class=\"dataframe\">\n",
       "  <thead>\n",
       "    <tr style=\"text-align: right;\">\n",
       "      <th></th>\n",
       "      <th>avg_lat</th>\n",
       "      <th>avg_lon</th>\n",
       "    </tr>\n",
       "  </thead>\n",
       "  <tbody>\n",
       "    <tr>\n",
       "      <th>0</th>\n",
       "      <td>37.774003</td>\n",
       "      <td>-122.425144</td>\n",
       "    </tr>\n",
       "  </tbody>\n",
       "</table>\n",
       "</div>"
      ],
      "text/plain": [
       "     avg_lat     avg_lon\n",
       "0  37.774003 -122.425144"
      ]
     },
     "execution_count": 139,
     "metadata": {},
     "output_type": "execute_result"
    }
   ],
   "source": [
    "db.query_to_dataframe(avg_location_sf)"
   ]
  },
  {
   "cell_type": "code",
   "execution_count": 140,
   "metadata": {
    "collapsed": true
   },
   "outputs": [],
   "source": [
    "avg_loc_df = db.query_to_dataframe(avg_location_sf)"
   ]
  },
  {
   "cell_type": "markdown",
   "metadata": {},
   "source": [
    "Then assign the result as a single list value."
   ]
  },
  {
   "cell_type": "code",
   "execution_count": 141,
   "metadata": {
    "collapsed": true
   },
   "outputs": [],
   "source": [
    "avg_loc = avg_loc_df.values.tolist()[0]"
   ]
  },
  {
   "cell_type": "code",
   "execution_count": 142,
   "metadata": {},
   "outputs": [
    {
     "data": {
      "text/plain": [
       "[37.7740031665327, -122.425144254083]"
      ]
     },
     "execution_count": 142,
     "metadata": {},
     "output_type": "execute_result"
    }
   ],
   "source": [
    "avg_loc"
   ]
  },
  {
   "cell_type": "code",
   "execution_count": 143,
   "metadata": {
    "collapsed": true
   },
   "outputs": [],
   "source": [
    "sf_map = folium.Map(location=avg_loc, zoom_start=13)"
   ]
  },
  {
   "cell_type": "code",
   "execution_count": 144,
   "metadata": {
    "collapsed": true
   },
   "outputs": [],
   "source": [
    "within_200_meters_of_94101 = db.query_to_dataframe(match_gpnt(94101, 200))"
   ]
  },
  {
   "cell_type": "code",
   "execution_count": 145,
   "metadata": {
    "collapsed": true
   },
   "outputs": [],
   "source": [
    "near_94101_lat_long = within_200_meters_of_94101[['latitude', 'longitude','postal_code']].values.tolist()"
   ]
  },
  {
   "cell_type": "code",
   "execution_count": 146,
   "metadata": {
    "collapsed": true
   },
   "outputs": [],
   "source": [
    "for loc in near_94101_lat_long:\n",
    "    try:\n",
    "        postal_code = str(int(loc[2]))\n",
    "    except:\n",
    "        postal_code = None\n",
    "    folium.Marker(loc[:2],postal_code).add_to(sf_map)"
   ]
  },
  {
   "cell_type": "code",
   "execution_count": 147,
   "metadata": {
    "scrolled": false
   },
   "outputs": [
    {
     "data": {
      "text/html": [
       "<div style=\"width:100%;\"><div style=\"position:relative;width:100%;height:0;padding-bottom:60%;\"><iframe src=\"data:text/html;charset=utf-8;base64,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\" style=\"position:absolute;width:100%;height:100%;left:0;top:0;border:none !important;\" allowfullscreen webkitallowfullscreen mozallowfullscreen></iframe></div></div>"
      ],
      "text/plain": [
       "<folium.folium.Map at 0x7f3a38091898>"
      ]
     },
     "execution_count": 147,
     "metadata": {},
     "output_type": "execute_result"
    }
   ],
   "source": [
    "sf_map"
   ]
  },
  {
   "cell_type": "markdown",
   "metadata": {},
   "source": [
    "## Maybe that one is OK"
   ]
  },
  {
   "cell_type": "markdown",
   "metadata": {},
   "source": [
    "# Practice \n",
    "\n",
    "See if you can clean up the rest of the \"bad\" postal codes. If the postal codes are valid, keep them."
   ]
  },
  {
   "cell_type": "code",
   "execution_count": 148,
   "metadata": {
    "collapsed": true
   },
   "outputs": [],
   "source": [
    "# make a SELECT query to get unique postal codes\n",
    "\n",
    "select_distinct_postal_codes = '''\n",
    "SELECT postal_code, count(*)\n",
    "FROM business\n",
    "GROUP BY postal_code\n",
    "ORDER BY postal_code\n",
    "'''"
   ]
  },
  {
   "cell_type": "code",
   "execution_count": 149,
   "metadata": {},
   "outputs": [
    {
     "data": {
      "text/html": [
       "<div>\n",
       "<table border=\"1\" class=\"dataframe\">\n",
       "  <thead>\n",
       "    <tr style=\"text-align: right;\">\n",
       "      <th></th>\n",
       "      <th>count</th>\n",
       "      <th>postal_code</th>\n",
       "    </tr>\n",
       "  </thead>\n",
       "  <tbody>\n",
       "    <tr>\n",
       "      <th>0</th>\n",
       "      <td>1</td>\n",
       "      <td>0.0</td>\n",
       "    </tr>\n",
       "    <tr>\n",
       "      <th>1</th>\n",
       "      <td>2</td>\n",
       "      <td>94013.0</td>\n",
       "    </tr>\n",
       "    <tr>\n",
       "      <th>2</th>\n",
       "      <td>1</td>\n",
       "      <td>94101.0</td>\n",
       "    </tr>\n",
       "    <tr>\n",
       "      <th>3</th>\n",
       "      <td>447</td>\n",
       "      <td>94102.0</td>\n",
       "    </tr>\n",
       "    <tr>\n",
       "      <th>4</th>\n",
       "      <td>552</td>\n",
       "      <td>94103.0</td>\n",
       "    </tr>\n",
       "  </tbody>\n",
       "</table>\n",
       "</div>"
      ],
      "text/plain": [
       "   count  postal_code\n",
       "0      1          0.0\n",
       "1      2      94013.0\n",
       "2      1      94101.0\n",
       "3    447      94102.0\n",
       "4    552      94103.0"
      ]
     },
     "execution_count": 149,
     "metadata": {},
     "output_type": "execute_result"
    }
   ],
   "source": [
    "db.query_to_dataframe(select_distinct_postal_codes).head()"
   ]
  },
  {
   "cell_type": "code",
   "execution_count": 150,
   "metadata": {
    "collapsed": true
   },
   "outputs": [],
   "source": [
    "select_postal_code_0 = \"\"\"\n",
    "SELECT * FROM business\n",
    "WHERE postal_code = 0\n",
    "\"\"\""
   ]
  },
  {
   "cell_type": "code",
   "execution_count": 151,
   "metadata": {},
   "outputs": [
    {
     "data": {
      "text/html": [
       "<div>\n",
       "<table border=\"1\" class=\"dataframe\">\n",
       "  <thead>\n",
       "    <tr style=\"text-align: right;\">\n",
       "      <th></th>\n",
       "      <th>address</th>\n",
       "      <th>city</th>\n",
       "      <th>gpnt_location</th>\n",
       "      <th>id</th>\n",
       "      <th>latitude</th>\n",
       "      <th>longitude</th>\n",
       "      <th>name</th>\n",
       "      <th>phone_number</th>\n",
       "      <th>postal_code</th>\n",
       "      <th>state</th>\n",
       "    </tr>\n",
       "  </thead>\n",
       "  <tbody>\n",
       "    <tr>\n",
       "      <th>0</th>\n",
       "      <td>OFF THE GRID</td>\n",
       "      <td>San Francisco</td>\n",
       "      <td>0101000020E61000004580D3BB78E342401348895DDB9A...</td>\n",
       "      <td>67875</td>\n",
       "      <td>37.777122</td>\n",
       "      <td>-122.419639</td>\n",
       "      <td>THE CHAIRMAN TRUCK</td>\n",
       "      <td>+14158461711</td>\n",
       "      <td>0</td>\n",
       "      <td>CA</td>\n",
       "    </tr>\n",
       "  </tbody>\n",
       "</table>\n",
       "</div>"
      ],
      "text/plain": [
       "           address           city  \\\n",
       "0   OFF THE GRID    San Francisco   \n",
       "\n",
       "                                       gpnt_location     id   latitude  \\\n",
       "0  0101000020E61000004580D3BB78E342401348895DDB9A...  67875  37.777122   \n",
       "\n",
       "    longitude                name  phone_number  postal_code state  \n",
       "0 -122.419639  THE CHAIRMAN TRUCK  +14158461711            0    CA  "
      ]
     },
     "execution_count": 151,
     "metadata": {},
     "output_type": "execute_result"
    }
   ],
   "source": [
    "db.query_to_dataframe(select_postal_code_0)"
   ]
  },
  {
   "cell_type": "code",
   "execution_count": 152,
   "metadata": {},
   "outputs": [],
   "source": [
    "business_df = db.query_to_dataframe('''SELECT * FROM business''')"
   ]
  },
  {
   "cell_type": "code",
   "execution_count": 153,
   "metadata": {},
   "outputs": [
    {
     "data": {
      "text/plain": [
       "address             1\n",
       "city                0\n",
       "gpnt_location    2389\n",
       "id                  0\n",
       "latitude         2389\n",
       "longitude        2389\n",
       "name                0\n",
       "phone_number        0\n",
       "postal_code       243\n",
       "state               0\n",
       "dtype: int64"
      ]
     },
     "execution_count": 153,
     "metadata": {},
     "output_type": "execute_result"
    }
   ],
   "source": [
    "business_df.isnull().sum()"
   ]
  },
  {
   "cell_type": "markdown",
   "metadata": {},
   "source": [
    "# What about those Postal Code `NaN`s?"
   ]
  },
  {
   "cell_type": "markdown",
   "metadata": {},
   "source": [
    "Train a K Nearest Neighbors Model to Predict the NaN values. \n",
    "\n",
    "1. Pull all of the data with a valid lat, long, and postal code.\n",
    "2. Perform a train test split on the data.\n",
    "3. Fit a K Nearest Neighbors Model on the training data.\n",
    "4. Validate the model using the test data. \n",
    "5. (optional) Performa Grid Search over the data to find the best number of neighbors to use.\n",
    "6. (optional) Plot a complexity curve showing your model's accuracy versus the number of neighbors.\n",
    "7. Pull all of the data with a valid lat, long, but no postal code. \n",
    "8. Use your model to assign a postal code to the data. "
   ]
  },
  {
   "cell_type": "code",
   "execution_count": 298,
   "metadata": {
    "collapsed": true
   },
   "outputs": [],
   "source": [
    "# use sql to get a list of postal codes with only one value\n",
    "select_postal_code_counts = '''\n",
    "SELECT postal_code, count(*) as n_values\n",
    "FROM business\n",
    "WHERE postal_code IS NOT NULL\n",
    "AND (latitude IS NOT NULL AND longitude IS NOT NULL)\n",
    "GROUP BY postal_code\n",
    "HAVING count(*) <= 2\n",
    "'''"
   ]
  },
  {
   "cell_type": "code",
   "execution_count": 299,
   "metadata": {},
   "outputs": [
    {
     "data": {
      "text/html": [
       "<div>\n",
       "<table border=\"1\" class=\"dataframe\">\n",
       "  <thead>\n",
       "    <tr style=\"text-align: right;\">\n",
       "      <th></th>\n",
       "      <th>n_values</th>\n",
       "      <th>postal_code</th>\n",
       "    </tr>\n",
       "  </thead>\n",
       "  <tbody>\n",
       "    <tr>\n",
       "      <th>0</th>\n",
       "      <td>1</td>\n",
       "      <td>94140</td>\n",
       "    </tr>\n",
       "    <tr>\n",
       "      <th>1</th>\n",
       "      <td>1</td>\n",
       "      <td>94513</td>\n",
       "    </tr>\n",
       "    <tr>\n",
       "      <th>2</th>\n",
       "      <td>2</td>\n",
       "      <td>94158</td>\n",
       "    </tr>\n",
       "    <tr>\n",
       "      <th>3</th>\n",
       "      <td>2</td>\n",
       "      <td>94130</td>\n",
       "    </tr>\n",
       "    <tr>\n",
       "      <th>4</th>\n",
       "      <td>1</td>\n",
       "      <td>95105</td>\n",
       "    </tr>\n",
       "    <tr>\n",
       "      <th>5</th>\n",
       "      <td>1</td>\n",
       "      <td>0</td>\n",
       "    </tr>\n",
       "    <tr>\n",
       "      <th>6</th>\n",
       "      <td>2</td>\n",
       "      <td>94013</td>\n",
       "    </tr>\n",
       "    <tr>\n",
       "      <th>7</th>\n",
       "      <td>1</td>\n",
       "      <td>94101</td>\n",
       "    </tr>\n",
       "    <tr>\n",
       "      <th>8</th>\n",
       "      <td>2</td>\n",
       "      <td>94143</td>\n",
       "    </tr>\n",
       "    <tr>\n",
       "      <th>9</th>\n",
       "      <td>1</td>\n",
       "      <td>94120</td>\n",
       "    </tr>\n",
       "    <tr>\n",
       "      <th>10</th>\n",
       "      <td>1</td>\n",
       "      <td>94609</td>\n",
       "    </tr>\n",
       "  </tbody>\n",
       "</table>\n",
       "</div>"
      ],
      "text/plain": [
       "    n_values  postal_code\n",
       "0          1        94140\n",
       "1          1        94513\n",
       "2          2        94158\n",
       "3          2        94130\n",
       "4          1        95105\n",
       "5          1            0\n",
       "6          2        94013\n",
       "7          1        94101\n",
       "8          2        94143\n",
       "9          1        94120\n",
       "10         1        94609"
      ]
     },
     "execution_count": 299,
     "metadata": {},
     "output_type": "execute_result"
    }
   ],
   "source": [
    "db.query_to_dataframe(select_postal_code_counts)"
   ]
  },
  {
   "cell_type": "code",
   "execution_count": 300,
   "metadata": {},
   "outputs": [
    {
     "name": "stdout",
     "output_type": "stream",
     "text": [
      "\n",
      "SELECT postal_code\n",
      "FROM (\n",
      "SELECT postal_code, count(*) as n_values\n",
      "FROM business\n",
      "WHERE postal_code IS NOT NULL\n",
      "AND (latitude IS NOT NULL AND longitude IS NOT NULL)\n",
      "GROUP BY postal_code\n",
      "HAVING count(*) <= 2\n",
      ") as q\n",
      "\n"
     ]
    }
   ],
   "source": [
    "# subquery to get postal codes from the count groupby statement\n",
    "select_postal_codes_with_1_value = '''\n",
    "SELECT postal_code\n",
    "FROM ({}) as q\n",
    "'''.format(select_postal_code_counts)\n",
    "print(select_postal_codes_with_1_value)"
   ]
  },
  {
   "cell_type": "code",
   "execution_count": 318,
   "metadata": {
    "collapsed": true
   },
   "outputs": [],
   "source": [
    "from sklearn.preprocessing import StandardScaler\n",
    "from sklearn.neighbors import KNeighborsClassifier"
   ]
  },
  {
   "cell_type": "code",
   "execution_count": 320,
   "metadata": {
    "collapsed": true
   },
   "outputs": [],
   "source": [
    "select_valid_lat_long = '''\n",
    "SELECT * FROM business\n",
    "WHERE (latitude IS NOT NULL AND longitude IS NOT NULL)\n",
    "AND (latitude != 0 AND longitude != 0)\n",
    "AND (postal_code IS NOT NULL)\n",
    "AND postal_code NOT IN ({})\n",
    "'''.format(select_postal_codes_with_1_value)"
   ]
  },
  {
   "cell_type": "code",
   "execution_count": 321,
   "metadata": {},
   "outputs": [
    {
     "data": {
      "text/html": [
       "<div>\n",
       "<table border=\"1\" class=\"dataframe\">\n",
       "  <thead>\n",
       "    <tr style=\"text-align: right;\">\n",
       "      <th></th>\n",
       "      <th>latitude</th>\n",
       "      <th>longitude</th>\n",
       "      <th>postal_code</th>\n",
       "    </tr>\n",
       "  </thead>\n",
       "  <tbody>\n",
       "    <tr>\n",
       "      <th>0</th>\n",
       "      <td>37.769957</td>\n",
       "      <td>-122.447533</td>\n",
       "      <td>94117</td>\n",
       "    </tr>\n",
       "    <tr>\n",
       "      <th>1</th>\n",
       "      <td>37.747114</td>\n",
       "      <td>-122.413641</td>\n",
       "      <td>94110</td>\n",
       "    </tr>\n",
       "    <tr>\n",
       "      <th>2</th>\n",
       "      <td>37.764013</td>\n",
       "      <td>-122.465749</td>\n",
       "      <td>94122</td>\n",
       "    </tr>\n",
       "    <tr>\n",
       "      <th>3</th>\n",
       "      <td>37.771437</td>\n",
       "      <td>-122.423892</td>\n",
       "      <td>94103</td>\n",
       "    </tr>\n",
       "    <tr>\n",
       "      <th>4</th>\n",
       "      <td>37.784626</td>\n",
       "      <td>-122.437734</td>\n",
       "      <td>94115</td>\n",
       "    </tr>\n",
       "  </tbody>\n",
       "</table>\n",
       "</div>"
      ],
      "text/plain": [
       "    latitude   longitude  postal_code\n",
       "0  37.769957 -122.447533        94117\n",
       "1  37.747114 -122.413641        94110\n",
       "2  37.764013 -122.465749        94122\n",
       "3  37.771437 -122.423892        94103\n",
       "4  37.784626 -122.437734        94115"
      ]
     },
     "execution_count": 321,
     "metadata": {},
     "output_type": "execute_result"
    }
   ],
   "source": [
    "valid_business_df = db.query_to_dataframe(select_valid_lat_long)\n",
    "valid_business_df = valid_business_df[['latitude','longitude','postal_code']]\n",
    "valid_business_df.head()"
   ]
  },
  {
   "cell_type": "code",
   "execution_count": 322,
   "metadata": {},
   "outputs": [
    {
     "data": {
      "text/plain": [
       "94110    347\n",
       "94103    327\n",
       "94133    302\n",
       "94102    267\n",
       "94109    246\n",
       "94107    200\n",
       "94111    173\n",
       "94115    166\n",
       "94122    154\n",
       "94118    152\n",
       "94108    148\n",
       "94117    134\n",
       "94112    133\n",
       "94114    131\n",
       "94105    130\n",
       "94123    124\n",
       "94121    109\n",
       "94104     79\n",
       "94124     77\n",
       "94132     69\n",
       "94116     62\n",
       "94134     46\n",
       "94127     45\n",
       "94131     34\n",
       "Name: postal_code, dtype: int64"
      ]
     },
     "execution_count": 322,
     "metadata": {},
     "output_type": "execute_result"
    }
   ],
   "source": [
    "valid_business_df.postal_code.value_counts()"
   ]
  },
  {
   "cell_type": "code",
   "execution_count": 323,
   "metadata": {},
   "outputs": [
    {
     "data": {
      "text/plain": [
       "(3655, 3)"
      ]
     },
     "execution_count": 323,
     "metadata": {},
     "output_type": "execute_result"
    }
   ],
   "source": [
    "valid_business_df.shape"
   ]
  },
  {
   "cell_type": "code",
   "execution_count": 324,
   "metadata": {},
   "outputs": [
    {
     "data": {
      "text/plain": [
       "latitude       0\n",
       "longitude      0\n",
       "postal_code    0\n",
       "dtype: int64"
      ]
     },
     "execution_count": 324,
     "metadata": {},
     "output_type": "execute_result"
    }
   ],
   "source": [
    "valid_business_df.isnull().sum()"
   ]
  },
  {
   "cell_type": "code",
   "execution_count": 325,
   "metadata": {
    "collapsed": true
   },
   "outputs": [],
   "source": [
    "from sklearn.model_selection import train_test_split, \\\n",
    "                                    GridSearchCV, \\\n",
    "                                    StratifiedShuffleSplit\n",
    "from sklearn.preprocessing import StandardScaler"
   ]
  },
  {
   "cell_type": "code",
   "execution_count": 326,
   "metadata": {},
   "outputs": [],
   "source": [
    "X = valid_business_df[['latitude','longitude']]\n",
    "y = valid_business_df['postal_code']"
   ]
  },
  {
   "cell_type": "code",
   "execution_count": 327,
   "metadata": {
    "collapsed": true
   },
   "outputs": [],
   "source": [
    "X_train, X_test, y_train, y_test = train_test_split(X,y, random_state = 42)"
   ]
  },
  {
   "cell_type": "code",
   "execution_count": 328,
   "metadata": {},
   "outputs": [
    {
     "name": "stdout",
     "output_type": "stream",
     "text": [
      "latitude      37.774063\n",
      "longitude   -122.425271\n",
      "dtype: float64\n",
      "latitude     0.022984\n",
      "longitude    0.027221\n",
      "dtype: float64\n"
     ]
    }
   ],
   "source": [
    "print(X_train.mean())\n",
    "print(X_train.std())"
   ]
  },
  {
   "cell_type": "code",
   "execution_count": 329,
   "metadata": {},
   "outputs": [
    {
     "name": "stdout",
     "output_type": "stream",
     "text": [
      "latitude      37.773879\n",
      "longitude   -122.425935\n",
      "dtype: float64\n",
      "latitude     0.022401\n",
      "longitude    0.027664\n",
      "dtype: float64\n"
     ]
    }
   ],
   "source": [
    "print(X_test.mean())\n",
    "print(X_test.std())"
   ]
  },
  {
   "cell_type": "code",
   "execution_count": 330,
   "metadata": {
    "collapsed": true
   },
   "outputs": [],
   "source": [
    "scaler = StandardScaler()"
   ]
  },
  {
   "cell_type": "code",
   "execution_count": 331,
   "metadata": {},
   "outputs": [],
   "source": [
    "X_train = scaler.fit_transform(X_train, y_train)\n",
    "X_test =  scaler.transform(X_test, y_test)"
   ]
  },
  {
   "cell_type": "code",
   "execution_count": 312,
   "metadata": {},
   "outputs": [
    {
     "data": {
      "text/plain": [
       "array([ 0.02297977,  0.0272159 ])"
      ]
     },
     "execution_count": 312,
     "metadata": {},
     "output_type": "execute_result"
    }
   ],
   "source": [
    "scaler.scale_"
   ]
  },
  {
   "cell_type": "code",
   "execution_count": 332,
   "metadata": {
    "collapsed": true
   },
   "outputs": [],
   "source": [
    "import numpy as np"
   ]
  },
  {
   "cell_type": "code",
   "execution_count": 341,
   "metadata": {
    "collapsed": true
   },
   "outputs": [],
   "source": [
    "knn_params = {\n",
    "    'n_neighbors':np.arange(1,8,1)\n",
    "}"
   ]
  },
  {
   "cell_type": "code",
   "execution_count": 342,
   "metadata": {
    "collapsed": true
   },
   "outputs": [],
   "source": [
    "from sklearn.model_selection import StratifiedShuffleSplit"
   ]
  },
  {
   "cell_type": "code",
   "execution_count": 343,
   "metadata": {
    "collapsed": true
   },
   "outputs": [],
   "source": [
    "knn_gs = GridSearchCV(KNeighborsClassifier(), \n",
    "                      param_grid=knn_params,\n",
    "                      cv=StratifiedShuffleSplit(n_splits=5, random_state=1),\n",
    "                      n_jobs=-1)"
   ]
  },
  {
   "cell_type": "code",
   "execution_count": 344,
   "metadata": {},
   "outputs": [
    {
     "data": {
      "text/plain": [
       "GridSearchCV(cv=StratifiedShuffleSplit(n_splits=5, random_state=1, test_size=0.1,\n",
       "            train_size=None),\n",
       "       error_score='raise',\n",
       "       estimator=KNeighborsClassifier(algorithm='auto', leaf_size=30, metric='minkowski',\n",
       "           metric_params=None, n_jobs=1, n_neighbors=5, p=2,\n",
       "           weights='uniform'),\n",
       "       fit_params={}, iid=True, n_jobs=-1,\n",
       "       param_grid={'n_neighbors': array([1, 2, 3, 4, 5, 6, 7])},\n",
       "       pre_dispatch='2*n_jobs', refit=True, return_train_score=True,\n",
       "       scoring=None, verbose=0)"
      ]
     },
     "execution_count": 344,
     "metadata": {},
     "output_type": "execute_result"
    }
   ],
   "source": [
    "knn_gs.fit(X_train, y_train)"
   ]
  },
  {
   "cell_type": "code",
   "execution_count": 345,
   "metadata": {
    "collapsed": true
   },
   "outputs": [],
   "source": [
    "results = pd.DataFrame(knn_gs.cv_results_)"
   ]
  },
  {
   "cell_type": "code",
   "execution_count": 346,
   "metadata": {},
   "outputs": [
    {
     "data": {
      "text/html": [
       "<div>\n",
       "<table border=\"1\" class=\"dataframe\">\n",
       "  <thead>\n",
       "    <tr style=\"text-align: right;\">\n",
       "      <th></th>\n",
       "      <th>mean_fit_time</th>\n",
       "      <th>mean_score_time</th>\n",
       "      <th>mean_test_score</th>\n",
       "      <th>mean_train_score</th>\n",
       "      <th>param_n_neighbors</th>\n",
       "      <th>params</th>\n",
       "      <th>rank_test_score</th>\n",
       "      <th>split0_test_score</th>\n",
       "      <th>split0_train_score</th>\n",
       "      <th>split1_test_score</th>\n",
       "      <th>...</th>\n",
       "      <th>split2_test_score</th>\n",
       "      <th>split2_train_score</th>\n",
       "      <th>split3_test_score</th>\n",
       "      <th>split3_train_score</th>\n",
       "      <th>split4_test_score</th>\n",
       "      <th>split4_train_score</th>\n",
       "      <th>std_fit_time</th>\n",
       "      <th>std_score_time</th>\n",
       "      <th>std_test_score</th>\n",
       "      <th>std_train_score</th>\n",
       "    </tr>\n",
       "  </thead>\n",
       "  <tbody>\n",
       "    <tr>\n",
       "      <th>2</th>\n",
       "      <td>0.002655</td>\n",
       "      <td>0.001765</td>\n",
       "      <td>0.937455</td>\n",
       "      <td>0.953285</td>\n",
       "      <td>3</td>\n",
       "      <td>{'n_neighbors': 3}</td>\n",
       "      <td>1</td>\n",
       "      <td>0.949091</td>\n",
       "      <td>0.952960</td>\n",
       "      <td>0.945455</td>\n",
       "      <td>...</td>\n",
       "      <td>0.930909</td>\n",
       "      <td>0.954988</td>\n",
       "      <td>0.938182</td>\n",
       "      <td>0.951744</td>\n",
       "      <td>0.923636</td>\n",
       "      <td>0.954582</td>\n",
       "      <td>0.000098</td>\n",
       "      <td>0.000038</td>\n",
       "      <td>0.009314</td>\n",
       "      <td>0.001293</td>\n",
       "    </tr>\n",
       "    <tr>\n",
       "      <th>3</th>\n",
       "      <td>0.002538</td>\n",
       "      <td>0.001792</td>\n",
       "      <td>0.931636</td>\n",
       "      <td>0.945255</td>\n",
       "      <td>4</td>\n",
       "      <td>{'n_neighbors': 4}</td>\n",
       "      <td>2</td>\n",
       "      <td>0.941818</td>\n",
       "      <td>0.944850</td>\n",
       "      <td>0.938182</td>\n",
       "      <td>...</td>\n",
       "      <td>0.920000</td>\n",
       "      <td>0.943633</td>\n",
       "      <td>0.938182</td>\n",
       "      <td>0.946067</td>\n",
       "      <td>0.920000</td>\n",
       "      <td>0.948094</td>\n",
       "      <td>0.000022</td>\n",
       "      <td>0.000016</td>\n",
       "      <td>0.009593</td>\n",
       "      <td>0.001682</td>\n",
       "    </tr>\n",
       "    <tr>\n",
       "      <th>4</th>\n",
       "      <td>0.002525</td>\n",
       "      <td>0.001871</td>\n",
       "      <td>0.929455</td>\n",
       "      <td>0.946229</td>\n",
       "      <td>5</td>\n",
       "      <td>{'n_neighbors': 5}</td>\n",
       "      <td>3</td>\n",
       "      <td>0.945455</td>\n",
       "      <td>0.946878</td>\n",
       "      <td>0.941818</td>\n",
       "      <td>...</td>\n",
       "      <td>0.916364</td>\n",
       "      <td>0.948905</td>\n",
       "      <td>0.927273</td>\n",
       "      <td>0.944850</td>\n",
       "      <td>0.916364</td>\n",
       "      <td>0.944850</td>\n",
       "      <td>0.000024</td>\n",
       "      <td>0.000038</td>\n",
       "      <td>0.012299</td>\n",
       "      <td>0.001530</td>\n",
       "    </tr>\n",
       "    <tr>\n",
       "      <th>5</th>\n",
       "      <td>0.002626</td>\n",
       "      <td>0.001993</td>\n",
       "      <td>0.924364</td>\n",
       "      <td>0.943228</td>\n",
       "      <td>6</td>\n",
       "      <td>{'n_neighbors': 6}</td>\n",
       "      <td>4</td>\n",
       "      <td>0.934545</td>\n",
       "      <td>0.943633</td>\n",
       "      <td>0.934545</td>\n",
       "      <td>...</td>\n",
       "      <td>0.912727</td>\n",
       "      <td>0.944444</td>\n",
       "      <td>0.934545</td>\n",
       "      <td>0.945255</td>\n",
       "      <td>0.905455</td>\n",
       "      <td>0.941606</td>\n",
       "      <td>0.000087</td>\n",
       "      <td>0.000066</td>\n",
       "      <td>0.012680</td>\n",
       "      <td>0.001581</td>\n",
       "    </tr>\n",
       "    <tr>\n",
       "      <th>0</th>\n",
       "      <td>0.002619</td>\n",
       "      <td>0.001518</td>\n",
       "      <td>0.922182</td>\n",
       "      <td>0.995296</td>\n",
       "      <td>1</td>\n",
       "      <td>{'n_neighbors': 1}</td>\n",
       "      <td>5</td>\n",
       "      <td>0.938182</td>\n",
       "      <td>0.995134</td>\n",
       "      <td>0.920000</td>\n",
       "      <td>...</td>\n",
       "      <td>0.909091</td>\n",
       "      <td>0.995539</td>\n",
       "      <td>0.927273</td>\n",
       "      <td>0.995539</td>\n",
       "      <td>0.916364</td>\n",
       "      <td>0.995539</td>\n",
       "      <td>0.000109</td>\n",
       "      <td>0.000046</td>\n",
       "      <td>0.009919</td>\n",
       "      <td>0.000324</td>\n",
       "    </tr>\n",
       "  </tbody>\n",
       "</table>\n",
       "<p>5 rows × 21 columns</p>\n",
       "</div>"
      ],
      "text/plain": [
       "   mean_fit_time  mean_score_time  mean_test_score  mean_train_score  \\\n",
       "2       0.002655         0.001765         0.937455          0.953285   \n",
       "3       0.002538         0.001792         0.931636          0.945255   \n",
       "4       0.002525         0.001871         0.929455          0.946229   \n",
       "5       0.002626         0.001993         0.924364          0.943228   \n",
       "0       0.002619         0.001518         0.922182          0.995296   \n",
       "\n",
       "  param_n_neighbors              params  rank_test_score  split0_test_score  \\\n",
       "2                 3  {'n_neighbors': 3}                1           0.949091   \n",
       "3                 4  {'n_neighbors': 4}                2           0.941818   \n",
       "4                 5  {'n_neighbors': 5}                3           0.945455   \n",
       "5                 6  {'n_neighbors': 6}                4           0.934545   \n",
       "0                 1  {'n_neighbors': 1}                5           0.938182   \n",
       "\n",
       "   split0_train_score  split1_test_score       ...         split2_test_score  \\\n",
       "2            0.952960           0.945455       ...                  0.930909   \n",
       "3            0.944850           0.938182       ...                  0.920000   \n",
       "4            0.946878           0.941818       ...                  0.916364   \n",
       "5            0.943633           0.934545       ...                  0.912727   \n",
       "0            0.995134           0.920000       ...                  0.909091   \n",
       "\n",
       "   split2_train_score  split3_test_score  split3_train_score  \\\n",
       "2            0.954988           0.938182            0.951744   \n",
       "3            0.943633           0.938182            0.946067   \n",
       "4            0.948905           0.927273            0.944850   \n",
       "5            0.944444           0.934545            0.945255   \n",
       "0            0.995539           0.927273            0.995539   \n",
       "\n",
       "   split4_test_score  split4_train_score  std_fit_time  std_score_time  \\\n",
       "2           0.923636            0.954582      0.000098        0.000038   \n",
       "3           0.920000            0.948094      0.000022        0.000016   \n",
       "4           0.916364            0.944850      0.000024        0.000038   \n",
       "5           0.905455            0.941606      0.000087        0.000066   \n",
       "0           0.916364            0.995539      0.000109        0.000046   \n",
       "\n",
       "   std_test_score  std_train_score  \n",
       "2        0.009314         0.001293  \n",
       "3        0.009593         0.001682  \n",
       "4        0.012299         0.001530  \n",
       "5        0.012680         0.001581  \n",
       "0        0.009919         0.000324  \n",
       "\n",
       "[5 rows x 21 columns]"
      ]
     },
     "execution_count": 346,
     "metadata": {},
     "output_type": "execute_result"
    }
   ],
   "source": [
    "results.sort_values('rank_test_score').head()"
   ]
  },
  {
   "cell_type": "code",
   "execution_count": 350,
   "metadata": {
    "collapsed": true
   },
   "outputs": [],
   "source": [
    "import matplotlib.pyplot as plot\n",
    "%matplotlib inline"
   ]
  },
  {
   "cell_type": "code",
   "execution_count": 351,
   "metadata": {},
   "outputs": [
    {
     "data": {
      "text/plain": [
       "<matplotlib.axes._subplots.AxesSubplot at 0x7f3a2d5c9668>"
      ]
     },
     "execution_count": 351,
     "metadata": {},
     "output_type": "execute_result"
    },
    {
     "data": {
      "image/png": "[encoded data removed]",
      "text/plain": [
       "<matplotlib.figure.Figure at 0x7f3a2d72e3c8>"
      ]
     },
     "metadata": {},
     "output_type": "display_data"
    }
   ],
   "source": [
    "results[['mean_train_score','mean_test_score','param_n_neighbors']].plot(x='param_n_neighbors')b"
   ]
  },
  {
   "cell_type": "code",
   "execution_count": 352,
   "metadata": {},
   "outputs": [
    {
     "data": {
      "text/plain": [
       "0.92997811816192555"
      ]
     },
     "execution_count": 352,
     "metadata": {},
     "output_type": "execute_result"
    }
   ],
   "source": [
    "knn_gs.score(X_test, y_test)"
   ]
  },
  {
   "cell_type": "code",
   "execution_count": 353,
   "metadata": {},
   "outputs": [
    {
     "data": {
      "text/plain": [
       "24"
      ]
     },
     "execution_count": 353,
     "metadata": {},
     "output_type": "execute_result"
    }
   ],
   "source": [
    "len(y_test.unique())"
   ]
  },
  {
   "cell_type": "code",
   "execution_count": 361,
   "metadata": {
    "collapsed": true
   },
   "outputs": [],
   "source": [
    "# find data where lat long is not null or 0, but postal code is null or 0\n",
    "select_null_postal_code = \"\"\"\n",
    "SELECT id, latitude, longitude, postal_code\n",
    "FROM business\n",
    "WHERE (latitude IS NOT NULL AND longitude IS NOT NULL)\n",
    "AND (latitude != 0 AND longitude != 0)\n",
    "AND (postal_code IS NULL OR postal_code = 0)\n",
    "\"\"\""
   ]
  },
  {
   "cell_type": "code",
   "execution_count": 364,
   "metadata": {},
   "outputs": [
    {
     "data": {
      "text/html": [
       "<div>\n",
       "<table border=\"1\" class=\"dataframe\">\n",
       "  <thead>\n",
       "    <tr style=\"text-align: right;\">\n",
       "      <th></th>\n",
       "      <th>id</th>\n",
       "      <th>latitude</th>\n",
       "      <th>longitude</th>\n",
       "      <th>postal_code</th>\n",
       "    </tr>\n",
       "  </thead>\n",
       "  <tbody>\n",
       "    <tr>\n",
       "      <th>0</th>\n",
       "      <td>8202</td>\n",
       "      <td>37.738616</td>\n",
       "      <td>-122.468775</td>\n",
       "      <td>NaN</td>\n",
       "    </tr>\n",
       "    <tr>\n",
       "      <th>1</th>\n",
       "      <td>9328</td>\n",
       "      <td>37.716163</td>\n",
       "      <td>-122.441438</td>\n",
       "      <td>NaN</td>\n",
       "    </tr>\n",
       "  </tbody>\n",
       "</table>\n",
       "</div>"
      ],
      "text/plain": [
       "     id   latitude   longitude  postal_code\n",
       "0  8202  37.738616 -122.468775          NaN\n",
       "1  9328  37.716163 -122.441438          NaN"
      ]
     },
     "execution_count": 364,
     "metadata": {},
     "output_type": "execute_result"
    }
   ],
   "source": [
    "missing_postal_df = db.query_to_dataframe(select_null_postal_code)\n",
    "missing_postal_df.head(2)"
   ]
  },
  {
   "cell_type": "code",
   "execution_count": 390,
   "metadata": {
    "collapsed": true
   },
   "outputs": [],
   "source": [
    "missing_postal_df['postal_code'] = knn_gs.predict(\n",
    "    scaler.transform(\n",
    "        missing_postal_df[['latitude','longitude']]\n",
    "    )\n",
    ")"
   ]
  },
  {
   "cell_type": "code",
   "execution_count": 391,
   "metadata": {},
   "outputs": [
    {
     "data": {
      "text/html": [
       "<div>\n",
       "<table border=\"1\" class=\"dataframe\">\n",
       "  <thead>\n",
       "    <tr style=\"text-align: right;\">\n",
       "      <th></th>\n",
       "      <th>id</th>\n",
       "      <th>latitude</th>\n",
       "      <th>longitude</th>\n",
       "      <th>postal_code</th>\n",
       "    </tr>\n",
       "  </thead>\n",
       "  <tbody>\n",
       "    <tr>\n",
       "      <th>0</th>\n",
       "      <td>8202</td>\n",
       "      <td>37.738616</td>\n",
       "      <td>-122.468775</td>\n",
       "      <td>94127</td>\n",
       "    </tr>\n",
       "    <tr>\n",
       "      <th>1</th>\n",
       "      <td>9328</td>\n",
       "      <td>37.716163</td>\n",
       "      <td>-122.441438</td>\n",
       "      <td>94112</td>\n",
       "    </tr>\n",
       "    <tr>\n",
       "      <th>2</th>\n",
       "      <td>9358</td>\n",
       "      <td>37.739083</td>\n",
       "      <td>-122.485437</td>\n",
       "      <td>94116</td>\n",
       "    </tr>\n",
       "    <tr>\n",
       "      <th>3</th>\n",
       "      <td>9582</td>\n",
       "      <td>37.785632</td>\n",
       "      <td>-122.429794</td>\n",
       "      <td>94115</td>\n",
       "    </tr>\n",
       "    <tr>\n",
       "      <th>4</th>\n",
       "      <td>10011</td>\n",
       "      <td>37.759943</td>\n",
       "      <td>-122.421332</td>\n",
       "      <td>94110</td>\n",
       "    </tr>\n",
       "  </tbody>\n",
       "</table>\n",
       "</div>"
      ],
      "text/plain": [
       "      id   latitude   longitude  postal_code\n",
       "0   8202  37.738616 -122.468775        94127\n",
       "1   9328  37.716163 -122.441438        94112\n",
       "2   9358  37.739083 -122.485437        94116\n",
       "3   9582  37.785632 -122.429794        94115\n",
       "4  10011  37.759943 -122.421332        94110"
      ]
     },
     "execution_count": 391,
     "metadata": {},
     "output_type": "execute_result"
    }
   ],
   "source": [
    "missing_postal_df.head()"
   ]
  },
  {
   "cell_type": "code",
   "execution_count": 394,
   "metadata": {},
   "outputs": [],
   "source": [
    "update_values = [\"({}, {})\".format(i,j) for i,j in missing_postal_df[['id','postal_code']].values]"
   ]
  },
  {
   "cell_type": "code",
   "execution_count": 397,
   "metadata": {},
   "outputs": [],
   "source": [
    "update_values = ', '.join(update_values)"
   ]
  },
  {
   "cell_type": "code",
   "execution_count": 398,
   "metadata": {
    "collapsed": true
   },
   "outputs": [],
   "source": [
    "update_with_predicted_postal = \"\"\"\n",
    "BEGIN;\n",
    "UPDATE business AS b SET\n",
    "postal_code = c.postal_code\n",
    "FROM (values {}) as c(id, postal_code)\n",
    "WHERE c.id = b.id;\n",
    "COMMIT;\n",
    "\"\"\".format(update_values)"
   ]
  },
  {
   "cell_type": "code",
   "execution_count": 399,
   "metadata": {
    "collapsed": true
   },
   "outputs": [],
   "source": [
    "db.query_to_dictionary(update_with_predicted_postal, fetch_res=False)"
   ]
  },
  {
   "cell_type": "code",
   "execution_count": 401,
   "metadata": {},
   "outputs": [
    {
     "data": {
      "text/html": [
       "<div>\n",
       "<table border=\"1\" class=\"dataframe\">\n",
       "  <thead>\n",
       "    <tr style=\"text-align: right;\">\n",
       "      <th></th>\n",
       "    </tr>\n",
       "  </thead>\n",
       "  <tbody>\n",
       "  </tbody>\n",
       "</table>\n",
       "</div>"
      ],
      "text/plain": [
       "Empty DataFrame\n",
       "Columns: []\n",
       "Index: []"
      ]
     },
     "execution_count": 401,
     "metadata": {},
     "output_type": "execute_result"
    }
   ],
   "source": [
    "db.query_to_dataframe(select_null_postal_code)"
   ]
  },
  {
   "cell_type": "markdown",
   "metadata": {},
   "source": [
    "# Data Analysis"
   ]
  },
  {
   "cell_type": "markdown",
   "metadata": {},
   "source": [
    "Consider the `violation` table.\n",
    "\n",
    "\n",
    "Answer these questions using sql:\n",
    "1. How many violations are there?\n",
    "- How many businesses committing violations?\n",
    "- What's the average number of violations per business?\n",
    "\n",
    "Answer these questions using python\n",
    "1. Draw a plot of the violations count\n",
    "- Is the average number of violations meaningful?\n",
    "> Not really, the distribution is quite skewed\n",
    "- draw a plot of the normalized cumulative violation counts. Can we discard the restaurants with few violations?\n",
    "- where would you draw a threshold if you were to keep 90% of the violations?"
   ]
  },
  {
   "cell_type": "markdown",
   "metadata": {},
   "source": [
    "Consider the `inspection` table.\n",
    "\n",
    "Answer these questions using SQL:\n",
    "1. What's the average score for the whole city?\n",
    "- What's the average score per business?\n",
    "- Does the score correlate with the number of inspections?\n",
    "- Create a dataframe from a table with the following columns:\n",
    "    business_id, average_score, number_of_inspections, number_of_violations\n",
    "- Use pandas to do a scatter matrix plot of average_score, number_of_inspections, number_of_violations to check for correlations"
   ]
  },
  {
   "cell_type": "markdown",
   "metadata": {},
   "source": [
    "### Postal Code Analysis"
   ]
  },
  {
   "cell_type": "markdown",
   "metadata": {},
   "source": [
    "The town administration would like to know which zip code are the ones where they should focus the inspections.\n",
    "\n",
    "Use the information contained in the `business` table as well as the previous tables to answer the following questions using SQL:\n",
    "\n",
    "1. Count the number of businesses per zipcode and sort them by descending order\n",
    "- Which are the top 5 zipcodes with the worst average score?\n",
    "    - Restrict your analysis to the zipcodes with at least 50 businesses\n",
    "    - Do a simple average of the inspections scores in the postal code\n",
    "- Which are the top 5 zipcodes with the highest number of violations per restaurant?\n",
    "    - Restrict your  analysis to the zipcodes with at least 50 businesses\n",
    "\n"
   ]
  },
  {
   "cell_type": "markdown",
   "metadata": {},
   "source": [
    "## Final recommendation\n",
    "Give a final recommendation on which 2 zipcodes should the administration focus and choose an appropriate plot to "
   ]
  },
  {
   "cell_type": "code",
   "execution_count": null,
   "metadata": {
    "collapsed": true
   },
   "outputs": [],
   "source": []
  }
 ],
 "metadata": {
  "kernelspec": {
   "display_name": "Python 3",
   "language": "python",
   "name": "python3"
  },
  "language_info": {
   "codemirror_mode": {
    "name": "ipython",
    "version": 3
   },
   "file_extension": ".py",
   "mimetype": "text/x-python",
   "name": "python",
   "nbconvert_exporter": "python",
   "pygments_lexer": "ipython3",
   "version": "3.6.1"
  }
 },
 "nbformat": 4,
 "nbformat_minor": 2
}
