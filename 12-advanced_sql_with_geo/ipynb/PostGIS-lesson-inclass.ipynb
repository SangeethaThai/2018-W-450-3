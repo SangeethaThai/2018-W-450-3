{
 "cells": [
  {
   "cell_type": "markdown",
   "metadata": {},
   "source": [
    "# PostGIS\n",
    "\n",
    "The city of San Francisco wants to assess the quality of restaurants in the city. Their data is scattered across multiple sources and incomplete.\n",
    "\n",
    "They tasked you to help them assess it.\n",
    "\n",
    "They would like to know what the most common violations are where they happen most frequently.\n",
    "\n",
    "We will use a PostgreSQL database configured with the geo-spatial tool, PostGIS, to do this work."
   ]
  },
  {
   "cell_type": "markdown",
   "metadata": {},
   "source": [
    "# Three Database Concepts"
   ]
  },
  {
   "cell_type": "markdown",
   "metadata": {},
   "source": [
    "1. CRUD\n",
    "2. connection and cursor\n",
    "3. transactions"
   ]
  },
  {
   "cell_type": "markdown",
   "metadata": {},
   "source": [
    "## CRUD\n",
    "\n",
    "| | SQL | RESTful API |\n",
    "|:-:|:-:|:-:|\n",
    "| create | `INSERT` | `POST` |\n",
    "| read | `SELECT` | `GET` |\n",
    "| update | `UPDATE` | `PUT` |\n",
    "| delete | `DELETE` | `DELETE` |\n"
   ]
  },
  {
   "cell_type": "markdown",
   "metadata": {},
   "source": [
    "### Correspondence to Python Classes"
   ]
  },
  {
   "cell_type": "code",
   "execution_count": 1,
   "metadata": {
    "collapsed": true
   },
   "outputs": [],
   "source": [
    "class Foo():\n",
    "    def __init__(self, bar, baz):\n",
    "        self.bar = int(bar)\n",
    "        self.baz = int(baz)"
   ]
  },
  {
   "cell_type": "markdown",
   "metadata": {},
   "source": [
    "This class would correspond to a SQL table.\n",
    "\n",
    "           foo\n",
    "    +-------+-------+               \n",
    "    |  bar  |  baz  |\n",
    "    +-------+-------+\n",
    "    |  int  |  int  |\n",
    "    +-------+-------+    "
   ]
  },
  {
   "cell_type": "code",
   "execution_count": 2,
   "metadata": {
    "collapsed": true
   },
   "outputs": [],
   "source": [
    "foo_1 = Foo(4,3)\n",
    "foo_2 = Foo(-1,2)\n",
    "foo_3 = Foo(0,-1)"
   ]
  },
  {
   "cell_type": "markdown",
   "metadata": {},
   "source": [
    "## Connection and Cursor\n",
    "\n",
    "We will use a connection object to define our connection to our database over a network.\n",
    "\n",
    "We will use a cursor object to write to the database. The cursor is created by a class function of the connection object."
   ]
  },
  {
   "cell_type": "code",
   "execution_count": 3,
   "metadata": {
    "collapsed": true
   },
   "outputs": [],
   "source": [
    "import psycopg2 as pg2\n",
    "from psycopg2.extras import RealDictCursor\n",
    "\n",
    "connection = pg2.connect(host='postgis',\n",
    "                         user='postgres',\n",
    "                         database='postgres')\n",
    "cursor = connection.cursor(cursor_factory=RealDictCursor)"
   ]
  },
  {
   "cell_type": "markdown",
   "metadata": {},
   "source": [
    "The cursor can be used to execute queries and then to fetch the results of the query."
   ]
  },
  {
   "cell_type": "code",
   "execution_count": 4,
   "metadata": {
    "collapsed": true
   },
   "outputs": [],
   "source": [
    "cursor.execute(\"SELECT * FROM business LIMIT 2;\")"
   ]
  },
  {
   "cell_type": "code",
   "execution_count": 5,
   "metadata": {
    "collapsed": true
   },
   "outputs": [],
   "source": [
    "result = cursor.fetchall()"
   ]
  },
  {
   "cell_type": "code",
   "execution_count": 6,
   "metadata": {
    "collapsed": true
   },
   "outputs": [],
   "source": [
    "connection.close()"
   ]
  },
  {
   "cell_type": "markdown",
   "metadata": {},
   "source": [
    "Because we used the `cursor_factory=RealDictCursor` argument, the results return a list of dictionary objects from the database. \n",
    "\n",
    "The advantage of this is that we can display these results easily with a DataFrame.\n"
   ]
  },
  {
   "cell_type": "code",
   "execution_count": 7,
   "metadata": {},
   "outputs": [
    {
     "data": {
      "text/plain": [
       "[{'address': '033 BELDEN PL',\n",
       "  'city': 'San Francisco',\n",
       "  'id': 10,\n",
       "  'latitude': 37.791116,\n",
       "  'longitude': -122.403816,\n",
       "  'name': 'TIRAMISU KITCHEN',\n",
       "  'phone_number': '+14154217044',\n",
       "  'postal_code': 94104,\n",
       "  'state': 'CA'},\n",
       " {'address': '1200 VAN NESS AVE, 3RD FLOOR',\n",
       "  'city': 'San Francisco',\n",
       "  'id': 19,\n",
       "  'latitude': 37.786848,\n",
       "  'longitude': -122.421547,\n",
       "  'name': 'NRGIZE LIFESTYLE CAFE',\n",
       "  'phone_number': '+14157763262',\n",
       "  'postal_code': 94109,\n",
       "  'state': 'CA'}]"
      ]
     },
     "execution_count": 7,
     "metadata": {},
     "output_type": "execute_result"
    }
   ],
   "source": [
    "result"
   ]
  },
  {
   "cell_type": "code",
   "execution_count": 8,
   "metadata": {
    "collapsed": true
   },
   "outputs": [],
   "source": [
    "import pandas as pd"
   ]
  },
  {
   "cell_type": "code",
   "execution_count": 9,
   "metadata": {},
   "outputs": [
    {
     "data": {
      "text/html": [
       "<div>\n",
       "<table border=\"1\" class=\"dataframe\">\n",
       "  <thead>\n",
       "    <tr style=\"text-align: right;\">\n",
       "      <th></th>\n",
       "      <th>address</th>\n",
       "      <th>city</th>\n",
       "      <th>id</th>\n",
       "      <th>latitude</th>\n",
       "      <th>longitude</th>\n",
       "      <th>name</th>\n",
       "      <th>phone_number</th>\n",
       "      <th>postal_code</th>\n",
       "      <th>state</th>\n",
       "    </tr>\n",
       "  </thead>\n",
       "  <tbody>\n",
       "    <tr>\n",
       "      <th>0</th>\n",
       "      <td>033 BELDEN PL</td>\n",
       "      <td>San Francisco</td>\n",
       "      <td>10</td>\n",
       "      <td>37.791116</td>\n",
       "      <td>-122.403816</td>\n",
       "      <td>TIRAMISU KITCHEN</td>\n",
       "      <td>+14154217044</td>\n",
       "      <td>94104</td>\n",
       "      <td>CA</td>\n",
       "    </tr>\n",
       "    <tr>\n",
       "      <th>1</th>\n",
       "      <td>1200 VAN NESS AVE, 3RD FLOOR</td>\n",
       "      <td>San Francisco</td>\n",
       "      <td>19</td>\n",
       "      <td>37.786848</td>\n",
       "      <td>-122.421547</td>\n",
       "      <td>NRGIZE LIFESTYLE CAFE</td>\n",
       "      <td>+14157763262</td>\n",
       "      <td>94109</td>\n",
       "      <td>CA</td>\n",
       "    </tr>\n",
       "  </tbody>\n",
       "</table>\n",
       "</div>"
      ],
      "text/plain": [
       "                        address           city  id   latitude   longitude  \\\n",
       "0                 033 BELDEN PL  San Francisco  10  37.791116 -122.403816   \n",
       "1  1200 VAN NESS AVE, 3RD FLOOR  San Francisco  19  37.786848 -122.421547   \n",
       "\n",
       "                    name  phone_number  postal_code state  \n",
       "0       TIRAMISU KITCHEN  +14154217044        94104    CA  \n",
       "1  NRGIZE LIFESTYLE CAFE  +14157763262        94109    CA  "
      ]
     },
     "execution_count": 9,
     "metadata": {},
     "output_type": "execute_result"
    }
   ],
   "source": [
    "connection = pg2.connect(host='postgis',\n",
    "                         user='postgres',\n",
    "                         database='postgres')\n",
    "cursor = connection.cursor(cursor_factory=RealDictCursor)\n",
    "cursor.execute(\"SELECT * FROM business LIMIT 2;\")\n",
    "pd.DataFrame(cursor.fetchall())"
   ]
  },
  {
   "cell_type": "code",
   "execution_count": 10,
   "metadata": {
    "collapsed": true
   },
   "outputs": [],
   "source": [
    "connection.close()"
   ]
  },
  {
   "cell_type": "code",
   "execution_count": 11,
   "metadata": {},
   "outputs": [
    {
     "name": "stdout",
     "output_type": "stream",
     "text": [
      "/home/jovyan/ipynb\n"
     ]
    }
   ],
   "source": [
    "%%bash\n",
    "pwd"
   ]
  },
  {
   "cell_type": "markdown",
   "metadata": {},
   "source": [
    "## `lib.db_helper`"
   ]
  },
  {
   "cell_type": "markdown",
   "metadata": {},
   "source": [
    "Because we will keep using the connection-cursor pattern, we have written it into a sub-module."
   ]
  },
  {
   "cell_type": "code",
   "execution_count": 20,
   "metadata": {
    "collapsed": true
   },
   "outputs": [],
   "source": [
    "from os import chdir\n",
    "chdir('/home/jovyan')"
   ]
  },
  {
   "cell_type": "code",
   "execution_count": 21,
   "metadata": {
    "collapsed": true
   },
   "outputs": [],
   "source": [
    "import lib.db_helper as db"
   ]
  },
  {
   "cell_type": "markdown",
   "metadata": {},
   "source": [
    "#### `db.connect_to_db()`\n",
    "\n",
    "Contains our connection credentials and returns a connection and cursor. \n",
    "\n",
    "    def connect_to_db():\n",
    "        con = pg2.connect(host='postgis',\n",
    "                          dbname='postgres',\n",
    "                          user='postgres')\n",
    "        cur = con.cursor(cursor_factory=RealDictCursor)\n",
    "        return con, cur"
   ]
  },
  {
   "cell_type": "code",
   "execution_count": 22,
   "metadata": {},
   "outputs": [
    {
     "data": {
      "text/html": [
       "<div>\n",
       "<table border=\"1\" class=\"dataframe\">\n",
       "  <thead>\n",
       "    <tr style=\"text-align: right;\">\n",
       "      <th></th>\n",
       "      <th>address</th>\n",
       "      <th>city</th>\n",
       "      <th>id</th>\n",
       "      <th>latitude</th>\n",
       "      <th>longitude</th>\n",
       "      <th>name</th>\n",
       "      <th>phone_number</th>\n",
       "      <th>postal_code</th>\n",
       "      <th>state</th>\n",
       "    </tr>\n",
       "  </thead>\n",
       "  <tbody>\n",
       "    <tr>\n",
       "      <th>0</th>\n",
       "      <td>033 BELDEN PL</td>\n",
       "      <td>San Francisco</td>\n",
       "      <td>10</td>\n",
       "      <td>37.791116</td>\n",
       "      <td>-122.403816</td>\n",
       "      <td>TIRAMISU KITCHEN</td>\n",
       "      <td>+14154217044</td>\n",
       "      <td>94104</td>\n",
       "      <td>CA</td>\n",
       "    </tr>\n",
       "    <tr>\n",
       "      <th>1</th>\n",
       "      <td>1200 VAN NESS AVE, 3RD FLOOR</td>\n",
       "      <td>San Francisco</td>\n",
       "      <td>19</td>\n",
       "      <td>37.786848</td>\n",
       "      <td>-122.421547</td>\n",
       "      <td>NRGIZE LIFESTYLE CAFE</td>\n",
       "      <td>+14157763262</td>\n",
       "      <td>94109</td>\n",
       "      <td>CA</td>\n",
       "    </tr>\n",
       "  </tbody>\n",
       "</table>\n",
       "</div>"
      ],
      "text/plain": [
       "                        address           city  id   latitude   longitude  \\\n",
       "0                 033 BELDEN PL  San Francisco  10  37.791116 -122.403816   \n",
       "1  1200 VAN NESS AVE, 3RD FLOOR  San Francisco  19  37.786848 -122.421547   \n",
       "\n",
       "                    name  phone_number  postal_code state  \n",
       "0       TIRAMISU KITCHEN  +14154217044        94104    CA  \n",
       "1  NRGIZE LIFESTYLE CAFE  +14157763262        94109    CA  "
      ]
     },
     "execution_count": 22,
     "metadata": {},
     "output_type": "execute_result"
    }
   ],
   "source": [
    "connection, cursor = db.connect_to_db()\n",
    "result = cursor.execute(\"SELECT * FROM business LIMIT 2;\")\n",
    "pd.DataFrame(cursor.fetchall())"
   ]
  },
  {
   "cell_type": "code",
   "execution_count": 23,
   "metadata": {
    "collapsed": true
   },
   "outputs": [],
   "source": [
    "connection.close()"
   ]
  },
  {
   "cell_type": "markdown",
   "metadata": {},
   "source": [
    "#### `db.query_to_dictionary()`\n",
    "\n",
    "1. creates a connection and a cursor\n",
    "1. uses the cursor to execute a query\n",
    "1. if `fetch_res` is `True` it fetches the results, otherwise results are `None`\n",
    "1. closes the connection and returns `results`\n",
    "\n",
    "\n",
    "    def query_to_dictionary(query, fetch_res=True):\n",
    "        con, cur = connect_to_db()\n",
    "        cur.execute(query)\n",
    "        if fetch_res:\n",
    "            results = cur.fetchall()\n",
    "        else:\n",
    "            results = None\n",
    "        con.close()\n",
    "        return results"
   ]
  },
  {
   "cell_type": "code",
   "execution_count": 24,
   "metadata": {},
   "outputs": [
    {
     "data": {
      "text/plain": [
       "[{'address': '033 BELDEN PL',\n",
       "  'city': 'San Francisco',\n",
       "  'id': 10,\n",
       "  'latitude': 37.791116,\n",
       "  'longitude': -122.403816,\n",
       "  'name': 'TIRAMISU KITCHEN',\n",
       "  'phone_number': '+14154217044',\n",
       "  'postal_code': 94104,\n",
       "  'state': 'CA'},\n",
       " {'address': '1200 VAN NESS AVE, 3RD FLOOR',\n",
       "  'city': 'San Francisco',\n",
       "  'id': 19,\n",
       "  'latitude': 37.786848,\n",
       "  'longitude': -122.421547,\n",
       "  'name': 'NRGIZE LIFESTYLE CAFE',\n",
       "  'phone_number': '+14157763262',\n",
       "  'postal_code': 94109,\n",
       "  'state': 'CA'}]"
      ]
     },
     "execution_count": 24,
     "metadata": {},
     "output_type": "execute_result"
    }
   ],
   "source": [
    "db.query_to_dictionary(\"\"\"SELECT * FROM business LIMIT 2;\"\"\")"
   ]
  },
  {
   "cell_type": "code",
   "execution_count": 25,
   "metadata": {
    "collapsed": true
   },
   "outputs": [],
   "source": [
    "db.query_to_dictionary(\"\"\"SELECT * FROM business LIMIT 2;\"\"\", fetch_res=False)"
   ]
  },
  {
   "cell_type": "markdown",
   "metadata": {},
   "source": [
    "#### `db.query_to_dataframe()`\n",
    "\n",
    "Wraps `query_to_dictionary()` in a `pandas.DataFrame`.\n",
    "\n",
    "    def query_to_dataframe(query):\n",
    "        return DataFrame(query_to_dictionary(query))"
   ]
  },
  {
   "cell_type": "code",
   "execution_count": 26,
   "metadata": {},
   "outputs": [
    {
     "data": {
      "text/html": [
       "<div>\n",
       "<table border=\"1\" class=\"dataframe\">\n",
       "  <thead>\n",
       "    <tr style=\"text-align: right;\">\n",
       "      <th></th>\n",
       "      <th>address</th>\n",
       "      <th>city</th>\n",
       "      <th>id</th>\n",
       "      <th>latitude</th>\n",
       "      <th>longitude</th>\n",
       "      <th>name</th>\n",
       "      <th>phone_number</th>\n",
       "      <th>postal_code</th>\n",
       "      <th>state</th>\n",
       "    </tr>\n",
       "  </thead>\n",
       "  <tbody>\n",
       "    <tr>\n",
       "      <th>0</th>\n",
       "      <td>033 BELDEN PL</td>\n",
       "      <td>San Francisco</td>\n",
       "      <td>10</td>\n",
       "      <td>37.791116</td>\n",
       "      <td>-122.403816</td>\n",
       "      <td>TIRAMISU KITCHEN</td>\n",
       "      <td>+14154217044</td>\n",
       "      <td>94104</td>\n",
       "      <td>CA</td>\n",
       "    </tr>\n",
       "    <tr>\n",
       "      <th>1</th>\n",
       "      <td>1200 VAN NESS AVE, 3RD FLOOR</td>\n",
       "      <td>San Francisco</td>\n",
       "      <td>19</td>\n",
       "      <td>37.786848</td>\n",
       "      <td>-122.421547</td>\n",
       "      <td>NRGIZE LIFESTYLE CAFE</td>\n",
       "      <td>+14157763262</td>\n",
       "      <td>94109</td>\n",
       "      <td>CA</td>\n",
       "    </tr>\n",
       "  </tbody>\n",
       "</table>\n",
       "</div>"
      ],
      "text/plain": [
       "                        address           city  id   latitude   longitude  \\\n",
       "0                 033 BELDEN PL  San Francisco  10  37.791116 -122.403816   \n",
       "1  1200 VAN NESS AVE, 3RD FLOOR  San Francisco  19  37.786848 -122.421547   \n",
       "\n",
       "                    name  phone_number  postal_code state  \n",
       "0       TIRAMISU KITCHEN  +14154217044        94104    CA  \n",
       "1  NRGIZE LIFESTYLE CAFE  +14157763262        94109    CA  "
      ]
     },
     "execution_count": 26,
     "metadata": {},
     "output_type": "execute_result"
    }
   ],
   "source": [
    "db.query_to_dataframe('SELECT * FROM business LIMIT 2;')"
   ]
  },
  {
   "cell_type": "markdown",
   "metadata": {},
   "source": [
    "## Transactions\n",
    "\n",
    "As we begin working on \"production\" databases, it becomes critical to maintain the integrity of the data. \n",
    "\n",
    "Imagine a website with a database using the following table:\n",
    "\n",
    "           page\n",
    "    +-----------+---------------+               \n",
    "    |  page_id  |  visit_count  |\n",
    "    +-----------+---------------+               \n",
    "    |    int    |      int      |\n",
    "    +-----------+---------------+               "
   ]
  },
  {
   "cell_type": "markdown",
   "metadata": {},
   "source": [
    "Suppose that a page with `page_id` `15` is visited nearly simultaneously. You could imagine the following sequence of events:\n",
    "\n",
    "1. The first page visit occurs. \n",
    "2. The website requests to increment the `visit_count`.\n",
    "3. The second page visit occurs.\n",
    "4. Using a separate proces, the website requests to increment the `visit_count`.\n",
    "5. The first increment is written to the database\n",
    "6. The second increment is written to the database\n",
    "\n",
    "How many visits have been recorded?\n",
    "\n",
    "In order to ensure that no data is lost, PostgreSQL uses transactions.\n",
    "\n",
    "- A transaction is begun with the keyword `BEGIN`.\n",
    "- Changes to the database are made in memory.\n",
    "- Changes to the database are validated. \n",
    "- If valid, the changes are made permanent with the keyword `COMMIT`\n",
    "- If invalid, the changes are discarded with the keyword `ROLLBACK`\n"
   ]
  },
  {
   "cell_type": "markdown",
   "metadata": {},
   "source": [
    "### Create new column in `business` table\n",
    "\n",
    "To demonstrate how transactions work, we will write a SQL query to create a new column in our database."
   ]
  },
  {
   "cell_type": "code",
   "execution_count": 27,
   "metadata": {
    "collapsed": true
   },
   "outputs": [],
   "source": [
    "db.query_to_dictionary(\"\"\"\n",
    "BEGIN;\n",
    "ALTER TABLE business ADD COLUMN gpnt_location geometry(POINT,4326);\n",
    "COMMIT;\n",
    "\"\"\", fetch_res=False)"
   ]
  },
  {
   "cell_type": "code",
   "execution_count": 28,
   "metadata": {},
   "outputs": [
    {
     "data": {
      "text/html": [
       "<div>\n",
       "<table border=\"1\" class=\"dataframe\">\n",
       "  <thead>\n",
       "    <tr style=\"text-align: right;\">\n",
       "      <th></th>\n",
       "      <th>address</th>\n",
       "      <th>city</th>\n",
       "      <th>gpnt_location</th>\n",
       "      <th>id</th>\n",
       "      <th>latitude</th>\n",
       "      <th>longitude</th>\n",
       "      <th>name</th>\n",
       "      <th>phone_number</th>\n",
       "      <th>postal_code</th>\n",
       "      <th>state</th>\n",
       "    </tr>\n",
       "  </thead>\n",
       "  <tbody>\n",
       "    <tr>\n",
       "      <th>0</th>\n",
       "      <td>033 BELDEN PL</td>\n",
       "      <td>San Francisco</td>\n",
       "      <td>None</td>\n",
       "      <td>10</td>\n",
       "      <td>37.791116</td>\n",
       "      <td>-122.403816</td>\n",
       "      <td>TIRAMISU KITCHEN</td>\n",
       "      <td>+14154217044</td>\n",
       "      <td>94104</td>\n",
       "      <td>CA</td>\n",
       "    </tr>\n",
       "    <tr>\n",
       "      <th>1</th>\n",
       "      <td>1200 VAN NESS AVE, 3RD FLOOR</td>\n",
       "      <td>San Francisco</td>\n",
       "      <td>None</td>\n",
       "      <td>19</td>\n",
       "      <td>37.786848</td>\n",
       "      <td>-122.421547</td>\n",
       "      <td>NRGIZE LIFESTYLE CAFE</td>\n",
       "      <td>+14157763262</td>\n",
       "      <td>94109</td>\n",
       "      <td>CA</td>\n",
       "    </tr>\n",
       "  </tbody>\n",
       "</table>\n",
       "</div>"
      ],
      "text/plain": [
       "                        address           city gpnt_location  id   latitude  \\\n",
       "0                 033 BELDEN PL  San Francisco          None  10  37.791116   \n",
       "1  1200 VAN NESS AVE, 3RD FLOOR  San Francisco          None  19  37.786848   \n",
       "\n",
       "    longitude                   name  phone_number  postal_code state  \n",
       "0 -122.403816       TIRAMISU KITCHEN  +14154217044        94104    CA  \n",
       "1 -122.421547  NRGIZE LIFESTYLE CAFE  +14157763262        94109    CA  "
      ]
     },
     "execution_count": 28,
     "metadata": {},
     "output_type": "execute_result"
    }
   ],
   "source": [
    "db.query_to_dataframe('SELECT * FROM business LIMIT 2;')"
   ]
  },
  {
   "cell_type": "markdown",
   "metadata": {},
   "source": [
    "We will want to populate this column, but the data is a bit messy as we will see in a moment. "
   ]
  },
  {
   "cell_type": "markdown",
   "metadata": {},
   "source": [
    "# Postgres Aggregate Functions\n",
    "\n",
    "In this lesson, we will use [Postgres Aggregate](https://www.postgresql.org/docs/9.5/static/functions-aggregate.html) functions to explore data for businesses in San Francisco. \n",
    "\n",
    "Aggregate functions compute a single result from a set of input values.\n",
    "\n",
    "Some aggregate functions include:\n",
    "\n",
    "| Function | Description |\n",
    "|:-:|:-:|\n",
    "| `avg(expression)` | the average (arithmetic mean) of all input values |\n",
    "| `count(*)` | number of input rows |\n",
    "| `max(expression)` | maximum value of `expression` across all input values |\n",
    "| `min(expression)` | minimum value of `expression` across all input values |\n",
    "| `sum(expression)` | sum of `expression` across all input values |"
   ]
  },
  {
   "cell_type": "markdown",
   "metadata": {},
   "source": [
    "# Clean the Data"
   ]
  },
  {
   "cell_type": "markdown",
   "metadata": {},
   "source": [
    "We can use `COUNT` to count the number of rows in our `business` table. "
   ]
  },
  {
   "cell_type": "code",
   "execution_count": 29,
   "metadata": {
    "collapsed": true
   },
   "outputs": [],
   "source": [
    "select_count_business = \"\"\"\n",
    "SELECT COUNT(*) FROM business\n",
    "\"\"\""
   ]
  },
  {
   "cell_type": "code",
   "execution_count": 30,
   "metadata": {},
   "outputs": [
    {
     "name": "stdout",
     "output_type": "stream",
     "text": [
      "\n",
      "SELECT COUNT(*) FROM business\n",
      "\n"
     ]
    }
   ],
   "source": [
    "print(select_count_business)"
   ]
  },
  {
   "cell_type": "code",
   "execution_count": 31,
   "metadata": {},
   "outputs": [
    {
     "data": {
      "text/html": [
       "<div>\n",
       "<table border=\"1\" class=\"dataframe\">\n",
       "  <thead>\n",
       "    <tr style=\"text-align: right;\">\n",
       "      <th></th>\n",
       "      <th>count</th>\n",
       "    </tr>\n",
       "  </thead>\n",
       "  <tbody>\n",
       "    <tr>\n",
       "      <th>0</th>\n",
       "      <td>6161</td>\n",
       "    </tr>\n",
       "  </tbody>\n",
       "</table>\n",
       "</div>"
      ],
      "text/plain": [
       "   count\n",
       "0   6161"
      ]
     },
     "execution_count": 31,
     "metadata": {},
     "output_type": "execute_result"
    }
   ],
   "source": [
    "db.query_to_dataframe(select_count_business)"
   ]
  },
  {
   "cell_type": "markdown",
   "metadata": {},
   "source": [
    "We can use `COUNT` with a `GROUP BY` clause to count the number of rows for each zip code. "
   ]
  },
  {
   "cell_type": "code",
   "execution_count": 32,
   "metadata": {
    "collapsed": true
   },
   "outputs": [],
   "source": [
    "select_count_by_postal_code = \"\"\"\n",
    "SELECT postal_code, COUNT(*) FROM business\n",
    "GROUP BY postal_code\n",
    "ORDER BY postal_code\n",
    "\"\"\""
   ]
  },
  {
   "cell_type": "code",
   "execution_count": 33,
   "metadata": {},
   "outputs": [
    {
     "data": {
      "text/html": [
       "<div>\n",
       "<table border=\"1\" class=\"dataframe\">\n",
       "  <thead>\n",
       "    <tr style=\"text-align: right;\">\n",
       "      <th></th>\n",
       "      <th>count</th>\n",
       "      <th>postal_code</th>\n",
       "    </tr>\n",
       "  </thead>\n",
       "  <tbody>\n",
       "    <tr>\n",
       "      <th>0</th>\n",
       "      <td>1</td>\n",
       "      <td>0.0</td>\n",
       "    </tr>\n",
       "    <tr>\n",
       "      <th>1</th>\n",
       "      <td>1</td>\n",
       "      <td>84105.0</td>\n",
       "    </tr>\n",
       "    <tr>\n",
       "      <th>2</th>\n",
       "      <td>1</td>\n",
       "      <td>92672.0</td>\n",
       "    </tr>\n",
       "    <tr>\n",
       "      <th>3</th>\n",
       "      <td>2</td>\n",
       "      <td>94013.0</td>\n",
       "    </tr>\n",
       "    <tr>\n",
       "      <th>4</th>\n",
       "      <td>3</td>\n",
       "      <td>94014.0</td>\n",
       "    </tr>\n",
       "    <tr>\n",
       "      <th>5</th>\n",
       "      <td>1</td>\n",
       "      <td>94066.0</td>\n",
       "    </tr>\n",
       "    <tr>\n",
       "      <th>6</th>\n",
       "      <td>3</td>\n",
       "      <td>94101.0</td>\n",
       "    </tr>\n",
       "    <tr>\n",
       "      <th>7</th>\n",
       "      <td>447</td>\n",
       "      <td>94102.0</td>\n",
       "    </tr>\n",
       "    <tr>\n",
       "      <th>8</th>\n",
       "      <td>552</td>\n",
       "      <td>94103.0</td>\n",
       "    </tr>\n",
       "    <tr>\n",
       "      <th>9</th>\n",
       "      <td>132</td>\n",
       "      <td>94104.0</td>\n",
       "    </tr>\n",
       "    <tr>\n",
       "      <th>10</th>\n",
       "      <td>225</td>\n",
       "      <td>94105.0</td>\n",
       "    </tr>\n",
       "    <tr>\n",
       "      <th>11</th>\n",
       "      <td>429</td>\n",
       "      <td>94107.0</td>\n",
       "    </tr>\n",
       "    <tr>\n",
       "      <th>12</th>\n",
       "      <td>223</td>\n",
       "      <td>94108.0</td>\n",
       "    </tr>\n",
       "    <tr>\n",
       "      <th>13</th>\n",
       "      <td>373</td>\n",
       "      <td>94109.0</td>\n",
       "    </tr>\n",
       "    <tr>\n",
       "      <th>14</th>\n",
       "      <td>559</td>\n",
       "      <td>94110.0</td>\n",
       "    </tr>\n",
       "    <tr>\n",
       "      <th>15</th>\n",
       "      <td>280</td>\n",
       "      <td>94111.0</td>\n",
       "    </tr>\n",
       "    <tr>\n",
       "      <th>16</th>\n",
       "      <td>187</td>\n",
       "      <td>94112.0</td>\n",
       "    </tr>\n",
       "    <tr>\n",
       "      <th>17</th>\n",
       "      <td>219</td>\n",
       "      <td>94114.0</td>\n",
       "    </tr>\n",
       "    <tr>\n",
       "      <th>18</th>\n",
       "      <td>233</td>\n",
       "      <td>94115.0</td>\n",
       "    </tr>\n",
       "    <tr>\n",
       "      <th>19</th>\n",
       "      <td>94</td>\n",
       "      <td>94116.0</td>\n",
       "    </tr>\n",
       "    <tr>\n",
       "      <th>20</th>\n",
       "      <td>194</td>\n",
       "      <td>94117.0</td>\n",
       "    </tr>\n",
       "    <tr>\n",
       "      <th>21</th>\n",
       "      <td>244</td>\n",
       "      <td>94118.0</td>\n",
       "    </tr>\n",
       "    <tr>\n",
       "      <th>22</th>\n",
       "      <td>1</td>\n",
       "      <td>94120.0</td>\n",
       "    </tr>\n",
       "    <tr>\n",
       "      <th>23</th>\n",
       "      <td>161</td>\n",
       "      <td>94121.0</td>\n",
       "    </tr>\n",
       "    <tr>\n",
       "      <th>24</th>\n",
       "      <td>258</td>\n",
       "      <td>94122.0</td>\n",
       "    </tr>\n",
       "    <tr>\n",
       "      <th>25</th>\n",
       "      <td>173</td>\n",
       "      <td>94123.0</td>\n",
       "    </tr>\n",
       "    <tr>\n",
       "      <th>26</th>\n",
       "      <td>153</td>\n",
       "      <td>94124.0</td>\n",
       "    </tr>\n",
       "    <tr>\n",
       "      <th>27</th>\n",
       "      <td>67</td>\n",
       "      <td>94127.0</td>\n",
       "    </tr>\n",
       "    <tr>\n",
       "      <th>28</th>\n",
       "      <td>2</td>\n",
       "      <td>94129.0</td>\n",
       "    </tr>\n",
       "    <tr>\n",
       "      <th>29</th>\n",
       "      <td>8</td>\n",
       "      <td>94130.0</td>\n",
       "    </tr>\n",
       "    <tr>\n",
       "      <th>30</th>\n",
       "      <td>45</td>\n",
       "      <td>94131.0</td>\n",
       "    </tr>\n",
       "    <tr>\n",
       "      <th>31</th>\n",
       "      <td>126</td>\n",
       "      <td>94132.0</td>\n",
       "    </tr>\n",
       "    <tr>\n",
       "      <th>32</th>\n",
       "      <td>425</td>\n",
       "      <td>94133.0</td>\n",
       "    </tr>\n",
       "    <tr>\n",
       "      <th>33</th>\n",
       "      <td>71</td>\n",
       "      <td>94134.0</td>\n",
       "    </tr>\n",
       "    <tr>\n",
       "      <th>34</th>\n",
       "      <td>1</td>\n",
       "      <td>94140.0</td>\n",
       "    </tr>\n",
       "    <tr>\n",
       "      <th>35</th>\n",
       "      <td>5</td>\n",
       "      <td>94143.0</td>\n",
       "    </tr>\n",
       "    <tr>\n",
       "      <th>36</th>\n",
       "      <td>11</td>\n",
       "      <td>94158.0</td>\n",
       "    </tr>\n",
       "    <tr>\n",
       "      <th>37</th>\n",
       "      <td>1</td>\n",
       "      <td>94188.0</td>\n",
       "    </tr>\n",
       "    <tr>\n",
       "      <th>38</th>\n",
       "      <td>1</td>\n",
       "      <td>94513.0</td>\n",
       "    </tr>\n",
       "    <tr>\n",
       "      <th>39</th>\n",
       "      <td>1</td>\n",
       "      <td>94545.0</td>\n",
       "    </tr>\n",
       "    <tr>\n",
       "      <th>40</th>\n",
       "      <td>1</td>\n",
       "      <td>94602.0</td>\n",
       "    </tr>\n",
       "    <tr>\n",
       "      <th>41</th>\n",
       "      <td>1</td>\n",
       "      <td>94609.0</td>\n",
       "    </tr>\n",
       "    <tr>\n",
       "      <th>42</th>\n",
       "      <td>1</td>\n",
       "      <td>94621.0</td>\n",
       "    </tr>\n",
       "    <tr>\n",
       "      <th>43</th>\n",
       "      <td>1</td>\n",
       "      <td>95105.0</td>\n",
       "    </tr>\n",
       "    <tr>\n",
       "      <th>44</th>\n",
       "      <td>1</td>\n",
       "      <td>941033148.0</td>\n",
       "    </tr>\n",
       "    <tr>\n",
       "      <th>45</th>\n",
       "      <td>243</td>\n",
       "      <td>NaN</td>\n",
       "    </tr>\n",
       "  </tbody>\n",
       "</table>\n",
       "</div>"
      ],
      "text/plain": [
       "    count  postal_code\n",
       "0       1          0.0\n",
       "1       1      84105.0\n",
       "2       1      92672.0\n",
       "3       2      94013.0\n",
       "4       3      94014.0\n",
       "5       1      94066.0\n",
       "6       3      94101.0\n",
       "7     447      94102.0\n",
       "8     552      94103.0\n",
       "9     132      94104.0\n",
       "10    225      94105.0\n",
       "11    429      94107.0\n",
       "12    223      94108.0\n",
       "13    373      94109.0\n",
       "14    559      94110.0\n",
       "15    280      94111.0\n",
       "16    187      94112.0\n",
       "17    219      94114.0\n",
       "18    233      94115.0\n",
       "19     94      94116.0\n",
       "20    194      94117.0\n",
       "21    244      94118.0\n",
       "22      1      94120.0\n",
       "23    161      94121.0\n",
       "24    258      94122.0\n",
       "25    173      94123.0\n",
       "26    153      94124.0\n",
       "27     67      94127.0\n",
       "28      2      94129.0\n",
       "29      8      94130.0\n",
       "30     45      94131.0\n",
       "31    126      94132.0\n",
       "32    425      94133.0\n",
       "33     71      94134.0\n",
       "34      1      94140.0\n",
       "35      5      94143.0\n",
       "36     11      94158.0\n",
       "37      1      94188.0\n",
       "38      1      94513.0\n",
       "39      1      94545.0\n",
       "40      1      94602.0\n",
       "41      1      94609.0\n",
       "42      1      94621.0\n",
       "43      1      95105.0\n",
       "44      1  941033148.0\n",
       "45    243          NaN"
      ]
     },
     "execution_count": 33,
     "metadata": {},
     "output_type": "execute_result"
    }
   ],
   "source": [
    "db.query_to_dataframe(select_count_by_postal_code)"
   ]
  },
  {
   "cell_type": "markdown",
   "metadata": {},
   "source": [
    "## Yikes! That is some messy data. "
   ]
  },
  {
   "cell_type": "markdown",
   "metadata": {},
   "source": [
    "### `WHERE` \n",
    "\n",
    "We next use the `WHERE` clause to restrict our count to just rows that have `latitude` and `longitude` data. "
   ]
  },
  {
   "cell_type": "code",
   "execution_count": 38,
   "metadata": {
    "collapsed": true
   },
   "outputs": [],
   "source": [
    "select_count_business_non_null_lat_long = \"\"\"\n",
    "SELECT COUNT((latitude, longitude)) FROM business\n",
    "WHERE latitude IS NOT NULL\n",
    "AND longitude IS NOT NULL\n",
    "\"\"\""
   ]
  },
  {
   "cell_type": "code",
   "execution_count": 39,
   "metadata": {},
   "outputs": [
    {
     "data": {
      "text/html": [
       "<div>\n",
       "<table border=\"1\" class=\"dataframe\">\n",
       "  <thead>\n",
       "    <tr style=\"text-align: right;\">\n",
       "      <th></th>\n",
       "      <th>count</th>\n",
       "    </tr>\n",
       "  </thead>\n",
       "  <tbody>\n",
       "    <tr>\n",
       "      <th>0</th>\n",
       "      <td>3749</td>\n",
       "    </tr>\n",
       "  </tbody>\n",
       "</table>\n",
       "</div>"
      ],
      "text/plain": [
       "   count\n",
       "0   3749"
      ]
     },
     "execution_count": 39,
     "metadata": {},
     "output_type": "execute_result"
    }
   ],
   "source": [
    "db.query_to_dataframe(select_count_business_non_null_lat_long)"
   ]
  },
  {
   "cell_type": "markdown",
   "metadata": {},
   "source": [
    "Note that we might also have invalid data."
   ]
  },
  {
   "cell_type": "code",
   "execution_count": 40,
   "metadata": {
    "collapsed": true
   },
   "outputs": [],
   "source": [
    "select_count_business_invalid_data = \"\"\"\n",
    "SELECT COUNT(*) FROM business\n",
    "WHERE latitude = 0 AND longitude = 0;\"\"\""
   ]
  },
  {
   "cell_type": "code",
   "execution_count": 41,
   "metadata": {},
   "outputs": [
    {
     "data": {
      "text/html": [
       "<div>\n",
       "<table border=\"1\" class=\"dataframe\">\n",
       "  <thead>\n",
       "    <tr style=\"text-align: right;\">\n",
       "      <th></th>\n",
       "      <th>count</th>\n",
       "    </tr>\n",
       "  </thead>\n",
       "  <tbody>\n",
       "    <tr>\n",
       "      <th>0</th>\n",
       "      <td>14</td>\n",
       "    </tr>\n",
       "  </tbody>\n",
       "</table>\n",
       "</div>"
      ],
      "text/plain": [
       "   count\n",
       "0     14"
      ]
     },
     "execution_count": 41,
     "metadata": {},
     "output_type": "execute_result"
    }
   ],
   "source": [
    "db.query_to_dataframe(select_count_business_invalid_data)"
   ]
  },
  {
   "cell_type": "code",
   "execution_count": 42,
   "metadata": {
    "collapsed": true
   },
   "outputs": [],
   "source": [
    "select_verify_no_edge_cases = \"\"\"\n",
    "SELECT COUNT(*) FROM business \n",
    "WHERE (latitude IS NULL AND longitude IS NOT NULL)\n",
    "OR (latitude IS NOT NULL AND longitude IS NULL)\n",
    "OR (latitude = 0 AND longitude != 0)\n",
    "or (latitude != 0 AND longitude = 0)\n",
    "\"\"\""
   ]
  },
  {
   "cell_type": "code",
   "execution_count": 43,
   "metadata": {},
   "outputs": [
    {
     "data": {
      "text/html": [
       "<div>\n",
       "<table border=\"1\" class=\"dataframe\">\n",
       "  <thead>\n",
       "    <tr style=\"text-align: right;\">\n",
       "      <th></th>\n",
       "      <th>count</th>\n",
       "    </tr>\n",
       "  </thead>\n",
       "  <tbody>\n",
       "    <tr>\n",
       "      <th>0</th>\n",
       "      <td>0</td>\n",
       "    </tr>\n",
       "  </tbody>\n",
       "</table>\n",
       "</div>"
      ],
      "text/plain": [
       "   count\n",
       "0      0"
      ]
     },
     "execution_count": 43,
     "metadata": {},
     "output_type": "execute_result"
    }
   ],
   "source": [
    "db.query_to_dataframe(select_verify_no_edge_cases)"
   ]
  },
  {
   "cell_type": "code",
   "execution_count": 44,
   "metadata": {
    "collapsed": true
   },
   "outputs": [],
   "source": [
    "select_count_business_valid = \"\"\"\n",
    "SELECT COUNT(*) FROM business\n",
    "WHERE \n",
    "    (latitude IS NOT NULL\n",
    "     AND longitude IS NOT NULL)\n",
    "AND \n",
    "    (latitude != 0 \n",
    "     AND longitude != 0)\n",
    "\"\"\"\n",
    "\n",
    "select_count_business_invalid = \"\"\"\n",
    "SELECT COUNT(*) FROM business\n",
    "WHERE \n",
    "    (latitude IS NULL\n",
    "     AND longitude IS NULL)\n",
    "OR \n",
    "    (latitude = 0 \n",
    "     AND longitude = 0)\n",
    "\"\"\""
   ]
  },
  {
   "cell_type": "code",
   "execution_count": 45,
   "metadata": {},
   "outputs": [
    {
     "data": {
      "text/html": [
       "<div>\n",
       "<table border=\"1\" class=\"dataframe\">\n",
       "  <thead>\n",
       "    <tr style=\"text-align: right;\">\n",
       "      <th></th>\n",
       "      <th>count</th>\n",
       "    </tr>\n",
       "  </thead>\n",
       "  <tbody>\n",
       "    <tr>\n",
       "      <th>0</th>\n",
       "      <td>3735</td>\n",
       "    </tr>\n",
       "  </tbody>\n",
       "</table>\n",
       "</div>"
      ],
      "text/plain": [
       "   count\n",
       "0   3735"
      ]
     },
     "execution_count": 45,
     "metadata": {},
     "output_type": "execute_result"
    }
   ],
   "source": [
    "db.query_to_dataframe(select_count_business_valid)"
   ]
  },
  {
   "cell_type": "code",
   "execution_count": 46,
   "metadata": {},
   "outputs": [
    {
     "data": {
      "text/html": [
       "<div>\n",
       "<table border=\"1\" class=\"dataframe\">\n",
       "  <thead>\n",
       "    <tr style=\"text-align: right;\">\n",
       "      <th></th>\n",
       "      <th>count</th>\n",
       "    </tr>\n",
       "  </thead>\n",
       "  <tbody>\n",
       "    <tr>\n",
       "      <th>0</th>\n",
       "      <td>2426</td>\n",
       "    </tr>\n",
       "  </tbody>\n",
       "</table>\n",
       "</div>"
      ],
      "text/plain": [
       "   count\n",
       "0   2426"
      ]
     },
     "execution_count": 46,
     "metadata": {},
     "output_type": "execute_result"
    }
   ],
   "source": [
    "db.query_to_dataframe(select_count_business_invalid)"
   ]
  },
  {
   "cell_type": "markdown",
   "metadata": {},
   "source": [
    "### Store Valid and Invalid Queries"
   ]
  },
  {
   "cell_type": "markdown",
   "metadata": {},
   "source": [
    "We will also make use of subqueries. We will define two:\n",
    "\n",
    "1. a subquery for all businesses with valid lat/long\n",
    "1. a subquery for all businesses with invalid lat/long"
   ]
  },
  {
   "cell_type": "markdown",
   "metadata": {},
   "source": [
    "#### Valid Business Query"
   ]
  },
  {
   "cell_type": "code",
   "execution_count": 48,
   "metadata": {
    "collapsed": true
   },
   "outputs": [],
   "source": [
    "select_business_valid = \"\"\"\n",
    "SELECT * FROM business\n",
    "WHERE \n",
    "    (latitude IS NOT NULL\n",
    "     AND longitude IS NOT NULL)\n",
    "AND \n",
    "    (latitude != 0 \n",
    "     AND longitude != 0)\n",
    "\"\"\"\n",
    "\n",
    "select_business_invalid = \"\"\"\n",
    "SELECT * FROM business\n",
    "WHERE \n",
    "    (latitude IS NULL\n",
    "     AND longitude IS NULL)\n",
    "OR \n",
    "    (latitude = 0 \n",
    "     AND longitude = 0)\n",
    "\"\"\""
   ]
  },
  {
   "cell_type": "code",
   "execution_count": 49,
   "metadata": {},
   "outputs": [
    {
     "name": "stdout",
     "output_type": "stream",
     "text": [
      "(3735, 10)\n"
     ]
    },
    {
     "data": {
      "text/html": [
       "<div>\n",
       "<table border=\"1\" class=\"dataframe\">\n",
       "  <thead>\n",
       "    <tr style=\"text-align: right;\">\n",
       "      <th></th>\n",
       "      <th>address</th>\n",
       "      <th>city</th>\n",
       "      <th>gpnt_location</th>\n",
       "      <th>id</th>\n",
       "      <th>latitude</th>\n",
       "      <th>longitude</th>\n",
       "      <th>name</th>\n",
       "      <th>phone_number</th>\n",
       "      <th>postal_code</th>\n",
       "      <th>state</th>\n",
       "    </tr>\n",
       "  </thead>\n",
       "  <tbody>\n",
       "    <tr>\n",
       "      <th>3653</th>\n",
       "      <td>1501 CORTLAND AVE</td>\n",
       "      <td>San Francisco</td>\n",
       "      <td>None</td>\n",
       "      <td>70313</td>\n",
       "      <td>37.739764</td>\n",
       "      <td>-122.409475</td>\n",
       "      <td>SF LIVING GREENS</td>\n",
       "      <td>+14156029513</td>\n",
       "      <td>94110.0</td>\n",
       "      <td>CA</td>\n",
       "    </tr>\n",
       "    <tr>\n",
       "      <th>2693</th>\n",
       "      <td>1306 FULTON ST</td>\n",
       "      <td>San Francisco</td>\n",
       "      <td>None</td>\n",
       "      <td>59986</td>\n",
       "      <td>37.776838</td>\n",
       "      <td>-122.438563</td>\n",
       "      <td>TSUNAMI PANHANDLE</td>\n",
       "      <td></td>\n",
       "      <td>94117.0</td>\n",
       "      <td>CA</td>\n",
       "    </tr>\n",
       "    <tr>\n",
       "      <th>3416</th>\n",
       "      <td>1559 FRANKLIN ST</td>\n",
       "      <td>San Francisco</td>\n",
       "      <td>None</td>\n",
       "      <td>68160</td>\n",
       "      <td>37.789073</td>\n",
       "      <td>-122.423784</td>\n",
       "      <td>GOURMET CAROUSEL</td>\n",
       "      <td>+14157712044</td>\n",
       "      <td>94109.0</td>\n",
       "      <td>CA</td>\n",
       "    </tr>\n",
       "    <tr>\n",
       "      <th>3548</th>\n",
       "      <td>958 GENEVA AVE</td>\n",
       "      <td>San Francisco</td>\n",
       "      <td>None</td>\n",
       "      <td>69026</td>\n",
       "      <td>37.715948</td>\n",
       "      <td>-122.440150</td>\n",
       "      <td>GM MARKET INC.</td>\n",
       "      <td></td>\n",
       "      <td>94112.0</td>\n",
       "      <td>CA</td>\n",
       "    </tr>\n",
       "  </tbody>\n",
       "</table>\n",
       "</div>"
      ],
      "text/plain": [
       "                 address           city gpnt_location     id   latitude  \\\n",
       "3653  1501 CORTLAND AVE   San Francisco          None  70313  37.739764   \n",
       "2693     1306 FULTON ST   San Francisco          None  59986  37.776838   \n",
       "3416   1559 FRANKLIN ST   San Francisco          None  68160  37.789073   \n",
       "3548     958 GENEVA AVE   San Francisco          None  69026  37.715948   \n",
       "\n",
       "       longitude               name  phone_number  postal_code state  \n",
       "3653 -122.409475   SF LIVING GREENS  +14156029513      94110.0    CA  \n",
       "2693 -122.438563  TSUNAMI PANHANDLE                    94117.0    CA  \n",
       "3416 -122.423784   GOURMET CAROUSEL  +14157712044      94109.0    CA  \n",
       "3548 -122.440150     GM MARKET INC.                    94112.0    CA  "
      ]
     },
     "execution_count": 49,
     "metadata": {},
     "output_type": "execute_result"
    }
   ],
   "source": [
    "print(db.query_to_dataframe(select_business_valid).shape)\n",
    "db.query_to_dataframe(select_business_valid).sample(4)"
   ]
  },
  {
   "cell_type": "code",
   "execution_count": 50,
   "metadata": {},
   "outputs": [
    {
     "name": "stdout",
     "output_type": "stream",
     "text": [
      "(2426, 10)\n"
     ]
    },
    {
     "data": {
      "text/html": [
       "<div>\n",
       "<table border=\"1\" class=\"dataframe\">\n",
       "  <thead>\n",
       "    <tr style=\"text-align: right;\">\n",
       "      <th></th>\n",
       "      <th>address</th>\n",
       "      <th>city</th>\n",
       "      <th>gpnt_location</th>\n",
       "      <th>id</th>\n",
       "      <th>latitude</th>\n",
       "      <th>longitude</th>\n",
       "      <th>name</th>\n",
       "      <th>phone_number</th>\n",
       "      <th>postal_code</th>\n",
       "      <th>state</th>\n",
       "    </tr>\n",
       "  </thead>\n",
       "  <tbody>\n",
       "    <tr>\n",
       "      <th>2369</th>\n",
       "      <td>333 O'FARRELL ST</td>\n",
       "      <td>San Francisco</td>\n",
       "      <td>None</td>\n",
       "      <td>86619</td>\n",
       "      <td>NaN</td>\n",
       "      <td>NaN</td>\n",
       "      <td>HERB N' KITCHEN</td>\n",
       "      <td>+14157711400</td>\n",
       "      <td>94102.0</td>\n",
       "      <td>CA</td>\n",
       "    </tr>\n",
       "    <tr>\n",
       "      <th>698</th>\n",
       "      <td>3149 MISSION ST</td>\n",
       "      <td>San Francisco</td>\n",
       "      <td>None</td>\n",
       "      <td>75415</td>\n",
       "      <td>NaN</td>\n",
       "      <td>NaN</td>\n",
       "      <td>TROP BON</td>\n",
       "      <td>+14156136559</td>\n",
       "      <td>94110.0</td>\n",
       "      <td>CA</td>\n",
       "    </tr>\n",
       "    <tr>\n",
       "      <th>2183</th>\n",
       "      <td>500 HAYES ST</td>\n",
       "      <td>San Francisco</td>\n",
       "      <td>None</td>\n",
       "      <td>85164</td>\n",
       "      <td>NaN</td>\n",
       "      <td>NaN</td>\n",
       "      <td>LA BOULANGERIE DE SAN FRANCISCO</td>\n",
       "      <td>+14154400356</td>\n",
       "      <td>94102.0</td>\n",
       "      <td>CA</td>\n",
       "    </tr>\n",
       "    <tr>\n",
       "      <th>1814</th>\n",
       "      <td>531 JACKSON ST</td>\n",
       "      <td>San Francisco</td>\n",
       "      <td>None</td>\n",
       "      <td>82578</td>\n",
       "      <td>NaN</td>\n",
       "      <td>NaN</td>\n",
       "      <td>TRESTLE</td>\n",
       "      <td>+14156903783</td>\n",
       "      <td>94133.0</td>\n",
       "      <td>CA</td>\n",
       "    </tr>\n",
       "  </tbody>\n",
       "</table>\n",
       "</div>"
      ],
      "text/plain": [
       "                address           city gpnt_location     id  latitude  \\\n",
       "2369  333 O'FARRELL ST   San Francisco          None  86619       NaN   \n",
       "698    3149 MISSION ST   San Francisco          None  75415       NaN   \n",
       "2183      500 HAYES ST   San Francisco          None  85164       NaN   \n",
       "1814    531 JACKSON ST   San Francisco          None  82578       NaN   \n",
       "\n",
       "      longitude                             name  phone_number  postal_code  \\\n",
       "2369        NaN                  HERB N' KITCHEN  +14157711400      94102.0   \n",
       "698         NaN                         TROP BON  +14156136559      94110.0   \n",
       "2183        NaN  LA BOULANGERIE DE SAN FRANCISCO  +14154400356      94102.0   \n",
       "1814        NaN                          TRESTLE  +14156903783      94133.0   \n",
       "\n",
       "     state  \n",
       "2369    CA  \n",
       "698     CA  \n",
       "2183    CA  \n",
       "1814    CA  "
      ]
     },
     "execution_count": 50,
     "metadata": {},
     "output_type": "execute_result"
    }
   ],
   "source": [
    "print(db.query_to_dataframe(select_business_invalid).shape)\n",
    "db.query_to_dataframe(select_business_invalid).sample(4)"
   ]
  },
  {
   "cell_type": "markdown",
   "metadata": {},
   "source": [
    "### Explore Postal Code and Lat/Long"
   ]
  },
  {
   "cell_type": "markdown",
   "metadata": {},
   "source": [
    "First, let's get the postal codes with a count of less than 10. We will use a sub-query.\n",
    "\n",
    "Let's use these subqueries to help us to clean the data. "
   ]
  },
  {
   "cell_type": "markdown",
   "metadata": {},
   "source": [
    "Note that we re-use `select_count_by_postal_code`."
   ]
  },
  {
   "cell_type": "code",
   "execution_count": 51,
   "metadata": {},
   "outputs": [
    {
     "name": "stdout",
     "output_type": "stream",
     "text": [
      "\n",
      "SELECT postal_code, COUNT(*) FROM business\n",
      "GROUP BY postal_code\n",
      "ORDER BY postal_code\n",
      "\n"
     ]
    }
   ],
   "source": [
    "print(select_count_by_postal_code)"
   ]
  },
  {
   "cell_type": "code",
   "execution_count": 63,
   "metadata": {},
   "outputs": [
    {
     "data": {
      "text/plain": [
       "\"Hi I'm Happy and Blue.\""
      ]
     },
     "execution_count": 63,
     "metadata": {},
     "output_type": "execute_result"
    }
   ],
   "source": [
    "\"Hi I'm {} and {}.\".format(\"Happy\", \"Blue\")"
   ]
  },
  {
   "cell_type": "code",
   "execution_count": 70,
   "metadata": {},
   "outputs": [
    {
     "name": "stdout",
     "output_type": "stream",
     "text": [
      "\n",
      "SELECT postal_code FROM \n",
      "    (\n",
      "SELECT postal_code, COUNT(*) FROM business\n",
      "GROUP BY postal_code\n",
      "ORDER BY postal_code\n",
      ") counts_by_postal_code\n",
      "WHERE count < 10\n",
      "\n"
     ]
    }
   ],
   "source": [
    "select_postal_code_by_postal_code_less_than_10 = \"\"\"\n",
    "SELECT postal_code FROM \n",
    "    ({}) counts_by_postal_code\n",
    "WHERE count < 10\n",
    "\"\"\".format(select_count_by_postal_code)\n",
    "\n",
    "print(select_postal_code_by_postal_code_less_than_10)"
   ]
  },
  {
   "cell_type": "markdown",
   "metadata": {},
   "source": [
    "Note that we are using a subquery here. \n",
    "\n",
    "e.g. \n",
    "\n",
    "    SELECT * FROM (SUBQUERY) sub_query_name;\n",
    "    "
   ]
  },
  {
   "cell_type": "code",
   "execution_count": 59,
   "metadata": {},
   "outputs": [
    {
     "data": {
      "text/html": [
       "<div>\n",
       "<table border=\"1\" class=\"dataframe\">\n",
       "  <thead>\n",
       "    <tr style=\"text-align: right;\">\n",
       "      <th></th>\n",
       "      <th>postal_code</th>\n",
       "    </tr>\n",
       "  </thead>\n",
       "  <tbody>\n",
       "    <tr>\n",
       "      <th>0</th>\n",
       "      <td>0</td>\n",
       "    </tr>\n",
       "    <tr>\n",
       "      <th>1</th>\n",
       "      <td>84105</td>\n",
       "    </tr>\n",
       "    <tr>\n",
       "      <th>2</th>\n",
       "      <td>92672</td>\n",
       "    </tr>\n",
       "    <tr>\n",
       "      <th>3</th>\n",
       "      <td>94013</td>\n",
       "    </tr>\n",
       "    <tr>\n",
       "      <th>4</th>\n",
       "      <td>94014</td>\n",
       "    </tr>\n",
       "    <tr>\n",
       "      <th>5</th>\n",
       "      <td>94066</td>\n",
       "    </tr>\n",
       "    <tr>\n",
       "      <th>6</th>\n",
       "      <td>94101</td>\n",
       "    </tr>\n",
       "    <tr>\n",
       "      <th>7</th>\n",
       "      <td>94120</td>\n",
       "    </tr>\n",
       "    <tr>\n",
       "      <th>8</th>\n",
       "      <td>94129</td>\n",
       "    </tr>\n",
       "    <tr>\n",
       "      <th>9</th>\n",
       "      <td>94130</td>\n",
       "    </tr>\n",
       "    <tr>\n",
       "      <th>10</th>\n",
       "      <td>94140</td>\n",
       "    </tr>\n",
       "    <tr>\n",
       "      <th>11</th>\n",
       "      <td>94143</td>\n",
       "    </tr>\n",
       "    <tr>\n",
       "      <th>12</th>\n",
       "      <td>94188</td>\n",
       "    </tr>\n",
       "    <tr>\n",
       "      <th>13</th>\n",
       "      <td>94513</td>\n",
       "    </tr>\n",
       "    <tr>\n",
       "      <th>14</th>\n",
       "      <td>94545</td>\n",
       "    </tr>\n",
       "    <tr>\n",
       "      <th>15</th>\n",
       "      <td>94602</td>\n",
       "    </tr>\n",
       "    <tr>\n",
       "      <th>16</th>\n",
       "      <td>94609</td>\n",
       "    </tr>\n",
       "    <tr>\n",
       "      <th>17</th>\n",
       "      <td>94621</td>\n",
       "    </tr>\n",
       "    <tr>\n",
       "      <th>18</th>\n",
       "      <td>95105</td>\n",
       "    </tr>\n",
       "    <tr>\n",
       "      <th>19</th>\n",
       "      <td>941033148</td>\n",
       "    </tr>\n",
       "  </tbody>\n",
       "</table>\n",
       "</div>"
      ],
      "text/plain": [
       "    postal_code\n",
       "0             0\n",
       "1         84105\n",
       "2         92672\n",
       "3         94013\n",
       "4         94014\n",
       "5         94066\n",
       "6         94101\n",
       "7         94120\n",
       "8         94129\n",
       "9         94130\n",
       "10        94140\n",
       "11        94143\n",
       "12        94188\n",
       "13        94513\n",
       "14        94545\n",
       "15        94602\n",
       "16        94609\n",
       "17        94621\n",
       "18        95105\n",
       "19    941033148"
      ]
     },
     "execution_count": 59,
     "metadata": {},
     "output_type": "execute_result"
    }
   ],
   "source": [
    "db.query_to_dataframe(select_postal_code_by_postal_code_less_than_10)"
   ]
  },
  {
   "cell_type": "markdown",
   "metadata": {},
   "source": [
    "We'll think of these as our \"bad postal codes\". We can think of the query we defined as a list of these codes. That query was"
   ]
  },
  {
   "cell_type": "code",
   "execution_count": 71,
   "metadata": {},
   "outputs": [
    {
     "name": "stdout",
     "output_type": "stream",
     "text": [
      "\n",
      "SELECT postal_code FROM \n",
      "    (\n",
      "SELECT postal_code, COUNT(*) FROM business\n",
      "GROUP BY postal_code\n",
      "ORDER BY postal_code\n",
      ") counts_by_postal_code\n",
      "WHERE count < 10\n",
      "\n"
     ]
    }
   ],
   "source": [
    "print(select_postal_code_by_postal_code_less_than_10)"
   ]
  },
  {
   "cell_type": "markdown",
   "metadata": {},
   "source": [
    "Do we have (lat,long) pairs for these locations? Let's select all rows with one of these postal codes."
   ]
  },
  {
   "cell_type": "markdown",
   "metadata": {},
   "source": [
    "### `IN`"
   ]
  },
  {
   "cell_type": "markdown",
   "metadata": {},
   "source": [
    "To do this we will use the SQL keyword `IN`. `IN` checks a column against a list of items."
   ]
  },
  {
   "cell_type": "markdown",
   "metadata": {},
   "source": [
    "e.g. \n",
    "\n",
    "    SELECT * FROM my_table WHERE my_column IN ('1,2,3,4,5');"
   ]
  },
  {
   "cell_type": "markdown",
   "metadata": {},
   "source": [
    "# We will replace the list with our Sub-Query!! "
   ]
  },
  {
   "cell_type": "code",
   "execution_count": null,
   "metadata": {
    "collapsed": true
   },
   "outputs": [],
   "source": [
    "broken_query = \"\"\"\n",
    "SELECT * FROM business WHERE \n",
    "\"\"\""
   ]
  },
  {
   "cell_type": "markdown",
   "metadata": {},
   "source": [
    "    SELECT * FROM business WHERE postal_code IN (\n",
    "        SELECT postal_code FROM \n",
    "            (\n",
    "            SELECT postal_code, COUNT(*) FROM business\n",
    "            GROUP BY postal_code\n",
    "            ORDER BY postal_code\n",
    "        ) counts_by_postal_code\n",
    "    WHERE count < 10\n",
    "    ) "
   ]
  },
  {
   "cell_type": "code",
   "execution_count": 72,
   "metadata": {},
   "outputs": [
    {
     "name": "stdout",
     "output_type": "stream",
     "text": [
      "\n",
      "SELECT * FROM business WHERE postal_code IN (\n",
      "SELECT postal_code FROM \n",
      "    (\n",
      "SELECT postal_code, COUNT(*) FROM business\n",
      "GROUP BY postal_code\n",
      "ORDER BY postal_code\n",
      ") counts_by_postal_code\n",
      "WHERE count < 10\n",
      ")\n"
     ]
    }
   ],
   "source": [
    "select_business_where_bad_postal_code = \"\"\"\n",
    "SELECT * FROM business WHERE postal_code IN ({})\"\"\".format(select_postal_code_by_postal_code_less_than_10)\n",
    "print(select_business_where_bad_postal_code)"
   ]
  },
  {
   "cell_type": "code",
   "execution_count": 69,
   "metadata": {},
   "outputs": [
    {
     "data": {
      "text/html": [
       "<div>\n",
       "<table border=\"1\" class=\"dataframe\">\n",
       "  <thead>\n",
       "    <tr style=\"text-align: right;\">\n",
       "      <th></th>\n",
       "      <th>address</th>\n",
       "      <th>city</th>\n",
       "      <th>gpnt_location</th>\n",
       "      <th>id</th>\n",
       "      <th>latitude</th>\n",
       "      <th>longitude</th>\n",
       "      <th>name</th>\n",
       "      <th>phone_number</th>\n",
       "      <th>postal_code</th>\n",
       "      <th>state</th>\n",
       "    </tr>\n",
       "  </thead>\n",
       "  <tbody>\n",
       "    <tr>\n",
       "      <th>5</th>\n",
       "      <td>P.O. BOX 40381</td>\n",
       "      <td>San Francisco</td>\n",
       "      <td>None</td>\n",
       "      <td>37021</td>\n",
       "      <td>37.754018</td>\n",
       "      <td>-122.416439</td>\n",
       "      <td>GOZA-GOZA TACO</td>\n",
       "      <td>+14155746608</td>\n",
       "      <td>94140</td>\n",
       "      <td>CA</td>\n",
       "    </tr>\n",
       "    <tr>\n",
       "      <th>34</th>\n",
       "      <td>1900 MARKET ST</td>\n",
       "      <td>San Francisco</td>\n",
       "      <td>None</td>\n",
       "      <td>85459</td>\n",
       "      <td>NaN</td>\n",
       "      <td>NaN</td>\n",
       "      <td>ORBIT ROOM</td>\n",
       "      <td>+14153705584</td>\n",
       "      <td>94602</td>\n",
       "      <td>CA</td>\n",
       "    </tr>\n",
       "    <tr>\n",
       "      <th>8</th>\n",
       "      <td>2 AVE OF PALMS BLDG 146, TREASURE ISLAND</td>\n",
       "      <td>San Francisco</td>\n",
       "      <td>None</td>\n",
       "      <td>38139</td>\n",
       "      <td>37.824494</td>\n",
       "      <td>-122.371798</td>\n",
       "      <td>ISLAND MARKET &amp; DELI</td>\n",
       "      <td>+14158600303</td>\n",
       "      <td>94130</td>\n",
       "      <td>CA</td>\n",
       "    </tr>\n",
       "    <tr>\n",
       "      <th>22</th>\n",
       "      <td>101 BAYSHORE BLVD</td>\n",
       "      <td>San Francisco</td>\n",
       "      <td>None</td>\n",
       "      <td>74674</td>\n",
       "      <td>NaN</td>\n",
       "      <td>NaN</td>\n",
       "      <td>ELI'S HOT DOGS</td>\n",
       "      <td>+14158301168</td>\n",
       "      <td>94014</td>\n",
       "      <td>CA</td>\n",
       "    </tr>\n",
       "    <tr>\n",
       "      <th>19</th>\n",
       "      <td>HUNTER'S POINT SHIPYARD, BLDG.110</td>\n",
       "      <td>San Francisco</td>\n",
       "      <td>None</td>\n",
       "      <td>71471</td>\n",
       "      <td>NaN</td>\n",
       "      <td>NaN</td>\n",
       "      <td>O'CACAO</td>\n",
       "      <td>+14159062574</td>\n",
       "      <td>94188</td>\n",
       "      <td>CA</td>\n",
       "    </tr>\n",
       "  </tbody>\n",
       "</table>\n",
       "</div>"
      ],
      "text/plain": [
       "                                        address           city gpnt_location  \\\n",
       "5                              P.O. BOX 40381    San Francisco          None   \n",
       "34                              1900 MARKET ST   San Francisco          None   \n",
       "8    2 AVE OF PALMS BLDG 146, TREASURE ISLAND    San Francisco          None   \n",
       "22                           101 BAYSHORE BLVD   San Francisco          None   \n",
       "19          HUNTER'S POINT SHIPYARD, BLDG.110    San Francisco          None   \n",
       "\n",
       "       id   latitude   longitude                  name  phone_number  \\\n",
       "5   37021  37.754018 -122.416439        GOZA-GOZA TACO  +14155746608   \n",
       "34  85459        NaN         NaN            ORBIT ROOM  +14153705584   \n",
       "8   38139  37.824494 -122.371798  ISLAND MARKET & DELI  +14158600303   \n",
       "22  74674        NaN         NaN        ELI'S HOT DOGS  +14158301168   \n",
       "19  71471        NaN         NaN               O'CACAO  +14159062574   \n",
       "\n",
       "    postal_code state  \n",
       "5         94140    CA  \n",
       "34        94602    CA  \n",
       "8         94130    CA  \n",
       "22        94014    CA  \n",
       "19        94188    CA  "
      ]
     },
     "execution_count": 69,
     "metadata": {},
     "output_type": "execute_result"
    }
   ],
   "source": [
    "db.query_to_dataframe(select_business_where_bad_postal_code).sample(5)"
   ]
  },
  {
   "cell_type": "markdown",
   "metadata": {},
   "source": [
    "Note that some of these have a lat and long. "
   ]
  },
  {
   "cell_type": "markdown",
   "metadata": {},
   "source": [
    "What we want is rows that have \"bad postal codes\" and no (lat, long) pair. "
   ]
  },
  {
   "cell_type": "markdown",
   "metadata": {},
   "source": [
    "### A Nested Query\n",
    "\n",
    "To get these we will write a nested query that looks like this:\n",
    "\n",
    "    SELECT * FROM (invalid_lat_long) WHERE postal_code IN (bad_postal_code_str)"
   ]
  },
  {
   "cell_type": "code",
   "execution_count": 73,
   "metadata": {
    "collapsed": true
   },
   "outputs": [],
   "source": [
    "bad_postal_codes = select_postal_code_by_postal_code_less_than_10"
   ]
  },
  {
   "cell_type": "code",
   "execution_count": 74,
   "metadata": {},
   "outputs": [
    {
     "name": "stdout",
     "output_type": "stream",
     "text": [
      "\n",
      "SELECT * \n",
      "FROM (\n",
      "SELECT * FROM business\n",
      "WHERE \n",
      "    (latitude IS NULL\n",
      "     AND longitude IS NULL)\n",
      "OR \n",
      "    (latitude = 0 \n",
      "     AND longitude = 0)\n",
      ") invalid_business\n",
      "WHERE postal_code IN (\n",
      "SELECT postal_code FROM \n",
      "    (\n",
      "SELECT postal_code, COUNT(*) FROM business\n",
      "GROUP BY postal_code\n",
      "ORDER BY postal_code\n",
      ") counts_by_postal_code\n",
      "WHERE count < 10\n",
      ")\n",
      "\n"
     ]
    }
   ],
   "source": [
    "select_invalid_business_where_bad_postal_code = \"\"\"\n",
    "SELECT * \n",
    "FROM ({}) invalid_business\n",
    "WHERE postal_code IN ({})\n",
    "\"\"\".format(select_business_invalid, bad_postal_codes)\n",
    "print(select_invalid_business_where_bad_postal_code)"
   ]
  },
  {
   "cell_type": "code",
   "execution_count": 75,
   "metadata": {},
   "outputs": [
    {
     "data": {
      "text/html": [
       "<div>\n",
       "<table border=\"1\" class=\"dataframe\">\n",
       "  <thead>\n",
       "    <tr style=\"text-align: right;\">\n",
       "      <th></th>\n",
       "      <th>address</th>\n",
       "      <th>city</th>\n",
       "      <th>gpnt_location</th>\n",
       "      <th>id</th>\n",
       "      <th>latitude</th>\n",
       "      <th>longitude</th>\n",
       "      <th>name</th>\n",
       "      <th>phone_number</th>\n",
       "      <th>postal_code</th>\n",
       "      <th>state</th>\n",
       "    </tr>\n",
       "  </thead>\n",
       "  <tbody>\n",
       "    <tr>\n",
       "      <th>0</th>\n",
       "      <td>VARIOUS LOACATIONS (17)</td>\n",
       "      <td>San Francisco</td>\n",
       "      <td>None</td>\n",
       "      <td>5755</td>\n",
       "      <td>None</td>\n",
       "      <td>None</td>\n",
       "      <td>J &amp; J VENDING</td>\n",
       "      <td>+14156750910</td>\n",
       "      <td>94545</td>\n",
       "      <td>CA</td>\n",
       "    </tr>\n",
       "    <tr>\n",
       "      <th>1</th>\n",
       "      <td>VARIOUS LOCATIONS</td>\n",
       "      <td>San Francisco</td>\n",
       "      <td>None</td>\n",
       "      <td>5757</td>\n",
       "      <td>None</td>\n",
       "      <td>None</td>\n",
       "      <td>RICO VENDING, INC</td>\n",
       "      <td>+14155836723</td>\n",
       "      <td>94066</td>\n",
       "      <td>CA</td>\n",
       "    </tr>\n",
       "    <tr>\n",
       "      <th>2</th>\n",
       "      <td>390 CLEMENTINA ST</td>\n",
       "      <td>San Francisco</td>\n",
       "      <td>None</td>\n",
       "      <td>6029</td>\n",
       "      <td>None</td>\n",
       "      <td>None</td>\n",
       "      <td>ALEXIS APARTMENTS SR. MEALS PROGRAM</td>\n",
       "      <td>+14154959541</td>\n",
       "      <td>941033148</td>\n",
       "      <td>CA</td>\n",
       "    </tr>\n",
       "    <tr>\n",
       "      <th>3</th>\n",
       "      <td>TREASURE ISLAND  888 AVENUE H</td>\n",
       "      <td>San Francisco</td>\n",
       "      <td>None</td>\n",
       "      <td>63091</td>\n",
       "      <td>None</td>\n",
       "      <td>None</td>\n",
       "      <td>MAYA WATERS</td>\n",
       "      <td>+14156137162</td>\n",
       "      <td>94130</td>\n",
       "      <td>CA</td>\n",
       "    </tr>\n",
       "    <tr>\n",
       "      <th>4</th>\n",
       "      <td>150 04TH ST.,  TREASURE ISLAND  SUITE 1</td>\n",
       "      <td>San Francisco</td>\n",
       "      <td>None</td>\n",
       "      <td>69804</td>\n",
       "      <td>None</td>\n",
       "      <td>None</td>\n",
       "      <td>ISLAND COVE MARKET</td>\n",
       "      <td>+14153912299</td>\n",
       "      <td>94130</td>\n",
       "      <td>CA</td>\n",
       "    </tr>\n",
       "    <tr>\n",
       "      <th>5</th>\n",
       "      <td>HUNTER'S POINT SHIPYARD, BLDG.110</td>\n",
       "      <td>San Francisco</td>\n",
       "      <td>None</td>\n",
       "      <td>71471</td>\n",
       "      <td>None</td>\n",
       "      <td>None</td>\n",
       "      <td>O'CACAO</td>\n",
       "      <td>+14159062574</td>\n",
       "      <td>94188</td>\n",
       "      <td>CA</td>\n",
       "    </tr>\n",
       "    <tr>\n",
       "      <th>6</th>\n",
       "      <td>5383 CAPWELL</td>\n",
       "      <td>San Francisco</td>\n",
       "      <td>None</td>\n",
       "      <td>72127</td>\n",
       "      <td>None</td>\n",
       "      <td>None</td>\n",
       "      <td>REVOLUTION FOODS</td>\n",
       "      <td></td>\n",
       "      <td>94621</td>\n",
       "      <td>CA</td>\n",
       "    </tr>\n",
       "    <tr>\n",
       "      <th>7</th>\n",
       "      <td>150 04TH ST SUITE 1</td>\n",
       "      <td>San Francisco</td>\n",
       "      <td>None</td>\n",
       "      <td>73799</td>\n",
       "      <td>None</td>\n",
       "      <td>None</td>\n",
       "      <td>ISLAND COVE MARKET</td>\n",
       "      <td>+14153912299</td>\n",
       "      <td>94130</td>\n",
       "      <td>CA</td>\n",
       "    </tr>\n",
       "    <tr>\n",
       "      <th>8</th>\n",
       "      <td>101 BAYSHORE BLVD</td>\n",
       "      <td>San Francisco</td>\n",
       "      <td>None</td>\n",
       "      <td>74674</td>\n",
       "      <td>None</td>\n",
       "      <td>None</td>\n",
       "      <td>ELI'S HOT DOGS</td>\n",
       "      <td>+14158301168</td>\n",
       "      <td>94014</td>\n",
       "      <td>CA</td>\n",
       "    </tr>\n",
       "    <tr>\n",
       "      <th>9</th>\n",
       "      <td>2769 LOMBARD ST</td>\n",
       "      <td>San Francisco</td>\n",
       "      <td>None</td>\n",
       "      <td>77759</td>\n",
       "      <td>None</td>\n",
       "      <td>None</td>\n",
       "      <td>PIZZERIA AVELLINO</td>\n",
       "      <td>+14157762500</td>\n",
       "      <td>94129</td>\n",
       "      <td>CA</td>\n",
       "    </tr>\n",
       "    <tr>\n",
       "      <th>10</th>\n",
       "      <td>200 CALIFORNIA AVE., BLDG 180S, TREASURE ISLAND</td>\n",
       "      <td>San Francisco</td>\n",
       "      <td>None</td>\n",
       "      <td>78650</td>\n",
       "      <td>None</td>\n",
       "      <td>None</td>\n",
       "      <td>TREASURE BRANDS LLC</td>\n",
       "      <td>+14152919192</td>\n",
       "      <td>94130</td>\n",
       "      <td>CA</td>\n",
       "    </tr>\n",
       "    <tr>\n",
       "      <th>11</th>\n",
       "      <td>OFF THE GRID</td>\n",
       "      <td>San Francisco</td>\n",
       "      <td>None</td>\n",
       "      <td>79607</td>\n",
       "      <td>None</td>\n",
       "      <td>None</td>\n",
       "      <td>TAQUERIA ANGELICA'S #2</td>\n",
       "      <td>+14158343695</td>\n",
       "      <td>94129</td>\n",
       "      <td>CA</td>\n",
       "    </tr>\n",
       "    <tr>\n",
       "      <th>12</th>\n",
       "      <td>401 13TH ST</td>\n",
       "      <td>San Francisco</td>\n",
       "      <td>None</td>\n",
       "      <td>79829</td>\n",
       "      <td>None</td>\n",
       "      <td>None</td>\n",
       "      <td>ARACELY RESTAURANT</td>\n",
       "      <td>+14156940363</td>\n",
       "      <td>94130</td>\n",
       "      <td>CA</td>\n",
       "    </tr>\n",
       "    <tr>\n",
       "      <th>13</th>\n",
       "      <td>530 PARNASSUS AVE</td>\n",
       "      <td>San Francisco</td>\n",
       "      <td>None</td>\n",
       "      <td>80554</td>\n",
       "      <td>None</td>\n",
       "      <td>None</td>\n",
       "      <td>CAFFE CENTRAL</td>\n",
       "      <td>+14159565101</td>\n",
       "      <td>94143</td>\n",
       "      <td>CA</td>\n",
       "    </tr>\n",
       "    <tr>\n",
       "      <th>14</th>\n",
       "      <td>428 11TH ST</td>\n",
       "      <td>San Francisco</td>\n",
       "      <td>None</td>\n",
       "      <td>80829</td>\n",
       "      <td>None</td>\n",
       "      <td>None</td>\n",
       "      <td>KOREAN BOBCHA#2</td>\n",
       "      <td>+14157305897</td>\n",
       "      <td>94014</td>\n",
       "      <td>CA</td>\n",
       "    </tr>\n",
       "    <tr>\n",
       "      <th>15</th>\n",
       "      <td>500 PARNASSUS AVE</td>\n",
       "      <td>San Francisco</td>\n",
       "      <td>None</td>\n",
       "      <td>81134</td>\n",
       "      <td>None</td>\n",
       "      <td>None</td>\n",
       "      <td>CARMELINA'S TAQUERIA</td>\n",
       "      <td>+14155021121</td>\n",
       "      <td>94143</td>\n",
       "      <td>CA</td>\n",
       "    </tr>\n",
       "    <tr>\n",
       "      <th>16</th>\n",
       "      <td>401 CALIFORNIA AVE., TREASURE ISLAND</td>\n",
       "      <td>San Francisco</td>\n",
       "      <td>None</td>\n",
       "      <td>81885</td>\n",
       "      <td>None</td>\n",
       "      <td>None</td>\n",
       "      <td>SF EVENT VENUES</td>\n",
       "      <td>+14157358423</td>\n",
       "      <td>94130</td>\n",
       "      <td>CA</td>\n",
       "    </tr>\n",
       "    <tr>\n",
       "      <th>17</th>\n",
       "      <td>101 MONTGOMERY ST</td>\n",
       "      <td>San Francisco</td>\n",
       "      <td>None</td>\n",
       "      <td>83744</td>\n",
       "      <td>None</td>\n",
       "      <td>None</td>\n",
       "      <td>LA FROMAGERIE</td>\n",
       "      <td>+14153682943</td>\n",
       "      <td>94101</td>\n",
       "      <td>CA</td>\n",
       "    </tr>\n",
       "    <tr>\n",
       "      <th>18</th>\n",
       "      <td>2937 MISSION ST</td>\n",
       "      <td>San Francisco</td>\n",
       "      <td>None</td>\n",
       "      <td>83777</td>\n",
       "      <td>None</td>\n",
       "      <td>None</td>\n",
       "      <td>COCO FRIO</td>\n",
       "      <td>+14153751185</td>\n",
       "      <td>94101</td>\n",
       "      <td>CA</td>\n",
       "    </tr>\n",
       "    <tr>\n",
       "      <th>19</th>\n",
       "      <td>215 FREMONT ST SUITE 2B</td>\n",
       "      <td>San Francisco</td>\n",
       "      <td>None</td>\n",
       "      <td>84698</td>\n",
       "      <td>None</td>\n",
       "      <td>None</td>\n",
       "      <td>FAYALA</td>\n",
       "      <td>+14154206274</td>\n",
       "      <td>84105</td>\n",
       "      <td>CA</td>\n",
       "    </tr>\n",
       "    <tr>\n",
       "      <th>20</th>\n",
       "      <td>1900 MARKET ST</td>\n",
       "      <td>San Francisco</td>\n",
       "      <td>None</td>\n",
       "      <td>85459</td>\n",
       "      <td>None</td>\n",
       "      <td>None</td>\n",
       "      <td>ORBIT ROOM</td>\n",
       "      <td>+14153705584</td>\n",
       "      <td>94602</td>\n",
       "      <td>CA</td>\n",
       "    </tr>\n",
       "    <tr>\n",
       "      <th>21</th>\n",
       "      <td>2 KORET WAY</td>\n",
       "      <td>San Francisco</td>\n",
       "      <td>None</td>\n",
       "      <td>85506</td>\n",
       "      <td>None</td>\n",
       "      <td>None</td>\n",
       "      <td>LADLE &amp; LEAF</td>\n",
       "      <td>+14158691585</td>\n",
       "      <td>94143</td>\n",
       "      <td>CA</td>\n",
       "    </tr>\n",
       "    <tr>\n",
       "      <th>22</th>\n",
       "      <td>101 MONTGOMERY ST SUITE 101C</td>\n",
       "      <td>San Francisco</td>\n",
       "      <td>None</td>\n",
       "      <td>87059</td>\n",
       "      <td>None</td>\n",
       "      <td>None</td>\n",
       "      <td>COFFEE BAR MONTGOMERY</td>\n",
       "      <td>+14158158774</td>\n",
       "      <td>94014</td>\n",
       "      <td>CA</td>\n",
       "    </tr>\n",
       "  </tbody>\n",
       "</table>\n",
       "</div>"
      ],
      "text/plain": [
       "                                              address           city  \\\n",
       "0                             VARIOUS LOACATIONS (17)  San Francisco   \n",
       "1                                   VARIOUS LOCATIONS  San Francisco   \n",
       "2                                  390 CLEMENTINA ST   San Francisco   \n",
       "3                       TREASURE ISLAND  888 AVENUE H  San Francisco   \n",
       "4             150 04TH ST.,  TREASURE ISLAND  SUITE 1  San Francisco   \n",
       "5                 HUNTER'S POINT SHIPYARD, BLDG.110    San Francisco   \n",
       "6                                      5383 CAPWELL    San Francisco   \n",
       "7                                 150 04TH ST SUITE 1  San Francisco   \n",
       "8                                  101 BAYSHORE BLVD   San Francisco   \n",
       "9                                    2769 LOMBARD ST   San Francisco   \n",
       "10  200 CALIFORNIA AVE., BLDG 180S, TREASURE ISLAND    San Francisco   \n",
       "11                                     OFF THE GRID    San Francisco   \n",
       "12                                       401 13TH ST   San Francisco   \n",
       "13                                 530 PARNASSUS AVE   San Francisco   \n",
       "14                                       428 11TH ST   San Francisco   \n",
       "15                                 500 PARNASSUS AVE   San Francisco   \n",
       "16             401 CALIFORNIA AVE., TREASURE ISLAND    San Francisco   \n",
       "17                                 101 MONTGOMERY ST   San Francisco   \n",
       "18                                   2937 MISSION ST   San Francisco   \n",
       "19                            215 FREMONT ST SUITE 2B  San Francisco   \n",
       "20                                    1900 MARKET ST   San Francisco   \n",
       "21                                       2 KORET WAY   San Francisco   \n",
       "22                       101 MONTGOMERY ST SUITE 101C  San Francisco   \n",
       "\n",
       "   gpnt_location     id latitude longitude  \\\n",
       "0           None   5755     None      None   \n",
       "1           None   5757     None      None   \n",
       "2           None   6029     None      None   \n",
       "3           None  63091     None      None   \n",
       "4           None  69804     None      None   \n",
       "5           None  71471     None      None   \n",
       "6           None  72127     None      None   \n",
       "7           None  73799     None      None   \n",
       "8           None  74674     None      None   \n",
       "9           None  77759     None      None   \n",
       "10          None  78650     None      None   \n",
       "11          None  79607     None      None   \n",
       "12          None  79829     None      None   \n",
       "13          None  80554     None      None   \n",
       "14          None  80829     None      None   \n",
       "15          None  81134     None      None   \n",
       "16          None  81885     None      None   \n",
       "17          None  83744     None      None   \n",
       "18          None  83777     None      None   \n",
       "19          None  84698     None      None   \n",
       "20          None  85459     None      None   \n",
       "21          None  85506     None      None   \n",
       "22          None  87059     None      None   \n",
       "\n",
       "                                   name  phone_number  postal_code state  \n",
       "0                         J & J VENDING  +14156750910        94545    CA  \n",
       "1                     RICO VENDING, INC  +14155836723        94066    CA  \n",
       "2   ALEXIS APARTMENTS SR. MEALS PROGRAM  +14154959541    941033148    CA  \n",
       "3                           MAYA WATERS  +14156137162        94130    CA  \n",
       "4                    ISLAND COVE MARKET  +14153912299        94130    CA  \n",
       "5                               O'CACAO  +14159062574        94188    CA  \n",
       "6                      REVOLUTION FOODS                      94621    CA  \n",
       "7                    ISLAND COVE MARKET  +14153912299        94130    CA  \n",
       "8                        ELI'S HOT DOGS  +14158301168        94014    CA  \n",
       "9                     PIZZERIA AVELLINO  +14157762500        94129    CA  \n",
       "10                  TREASURE BRANDS LLC  +14152919192        94130    CA  \n",
       "11               TAQUERIA ANGELICA'S #2  +14158343695        94129    CA  \n",
       "12                   ARACELY RESTAURANT  +14156940363        94130    CA  \n",
       "13                        CAFFE CENTRAL  +14159565101        94143    CA  \n",
       "14                      KOREAN BOBCHA#2  +14157305897        94014    CA  \n",
       "15                 CARMELINA'S TAQUERIA  +14155021121        94143    CA  \n",
       "16                      SF EVENT VENUES  +14157358423        94130    CA  \n",
       "17                        LA FROMAGERIE  +14153682943        94101    CA  \n",
       "18                            COCO FRIO  +14153751185        94101    CA  \n",
       "19                               FAYALA  +14154206274        84105    CA  \n",
       "20                           ORBIT ROOM  +14153705584        94602    CA  \n",
       "21                         LADLE & LEAF  +14158691585        94143    CA  \n",
       "22                COFFEE BAR MONTGOMERY  +14158158774        94014    CA  "
      ]
     },
     "execution_count": 75,
     "metadata": {},
     "output_type": "execute_result"
    }
   ],
   "source": [
    "db.query_to_dataframe(select_invalid_business_where_bad_postal_code)"
   ]
  },
  {
   "cell_type": "markdown",
   "metadata": {},
   "source": [
    "#### Let's use `DELETE` to get rid of rows that have no lat, long and a bad zip"
   ]
  },
  {
   "cell_type": "markdown",
   "metadata": {},
   "source": [
    "First, let's collect a list of business `id`s. "
   ]
  },
  {
   "cell_type": "code",
   "execution_count": 76,
   "metadata": {},
   "outputs": [
    {
     "name": "stdout",
     "output_type": "stream",
     "text": [
      "\n",
      "SELECT id \n",
      "FROM (\n",
      "SELECT * FROM business\n",
      "WHERE \n",
      "    (latitude IS NULL\n",
      "     AND longitude IS NULL)\n",
      "OR \n",
      "    (latitude = 0 \n",
      "     AND longitude = 0)\n",
      ") q\n",
      "WHERE postal_code IN (\n",
      "SELECT postal_code FROM \n",
      "    (\n",
      "SELECT postal_code, COUNT(*) FROM business\n",
      "GROUP BY postal_code\n",
      "ORDER BY postal_code\n",
      ") counts_by_postal_code\n",
      "WHERE count < 10\n",
      ")\n",
      "\n"
     ]
    }
   ],
   "source": [
    "select_invalid_business_id_where_bad_postal_code = \"\"\"\n",
    "SELECT id \n",
    "FROM ({}) q\n",
    "WHERE postal_code IN ({})\n",
    "\"\"\".format(select_business_invalid, select_postal_code_by_postal_code_less_than_10)\n",
    "print(select_invalid_business_id_where_bad_postal_code)"
   ]
  },
  {
   "cell_type": "code",
   "execution_count": 77,
   "metadata": {},
   "outputs": [
    {
     "data": {
      "text/html": [
       "<div>\n",
       "<table border=\"1\" class=\"dataframe\">\n",
       "  <thead>\n",
       "    <tr style=\"text-align: right;\">\n",
       "      <th></th>\n",
       "      <th>id</th>\n",
       "    </tr>\n",
       "  </thead>\n",
       "  <tbody>\n",
       "    <tr>\n",
       "      <th>0</th>\n",
       "      <td>5755</td>\n",
       "    </tr>\n",
       "    <tr>\n",
       "      <th>1</th>\n",
       "      <td>5757</td>\n",
       "    </tr>\n",
       "    <tr>\n",
       "      <th>2</th>\n",
       "      <td>6029</td>\n",
       "    </tr>\n",
       "    <tr>\n",
       "      <th>3</th>\n",
       "      <td>63091</td>\n",
       "    </tr>\n",
       "    <tr>\n",
       "      <th>4</th>\n",
       "      <td>69804</td>\n",
       "    </tr>\n",
       "    <tr>\n",
       "      <th>5</th>\n",
       "      <td>71471</td>\n",
       "    </tr>\n",
       "    <tr>\n",
       "      <th>6</th>\n",
       "      <td>72127</td>\n",
       "    </tr>\n",
       "    <tr>\n",
       "      <th>7</th>\n",
       "      <td>73799</td>\n",
       "    </tr>\n",
       "    <tr>\n",
       "      <th>8</th>\n",
       "      <td>74674</td>\n",
       "    </tr>\n",
       "    <tr>\n",
       "      <th>9</th>\n",
       "      <td>77759</td>\n",
       "    </tr>\n",
       "    <tr>\n",
       "      <th>10</th>\n",
       "      <td>78650</td>\n",
       "    </tr>\n",
       "    <tr>\n",
       "      <th>11</th>\n",
       "      <td>79607</td>\n",
       "    </tr>\n",
       "    <tr>\n",
       "      <th>12</th>\n",
       "      <td>79829</td>\n",
       "    </tr>\n",
       "    <tr>\n",
       "      <th>13</th>\n",
       "      <td>80554</td>\n",
       "    </tr>\n",
       "    <tr>\n",
       "      <th>14</th>\n",
       "      <td>80829</td>\n",
       "    </tr>\n",
       "    <tr>\n",
       "      <th>15</th>\n",
       "      <td>81134</td>\n",
       "    </tr>\n",
       "    <tr>\n",
       "      <th>16</th>\n",
       "      <td>81885</td>\n",
       "    </tr>\n",
       "    <tr>\n",
       "      <th>17</th>\n",
       "      <td>83744</td>\n",
       "    </tr>\n",
       "    <tr>\n",
       "      <th>18</th>\n",
       "      <td>83777</td>\n",
       "    </tr>\n",
       "    <tr>\n",
       "      <th>19</th>\n",
       "      <td>84698</td>\n",
       "    </tr>\n",
       "    <tr>\n",
       "      <th>20</th>\n",
       "      <td>85459</td>\n",
       "    </tr>\n",
       "    <tr>\n",
       "      <th>21</th>\n",
       "      <td>85506</td>\n",
       "    </tr>\n",
       "    <tr>\n",
       "      <th>22</th>\n",
       "      <td>87059</td>\n",
       "    </tr>\n",
       "  </tbody>\n",
       "</table>\n",
       "</div>"
      ],
      "text/plain": [
       "       id\n",
       "0    5755\n",
       "1    5757\n",
       "2    6029\n",
       "3   63091\n",
       "4   69804\n",
       "5   71471\n",
       "6   72127\n",
       "7   73799\n",
       "8   74674\n",
       "9   77759\n",
       "10  78650\n",
       "11  79607\n",
       "12  79829\n",
       "13  80554\n",
       "14  80829\n",
       "15  81134\n",
       "16  81885\n",
       "17  83744\n",
       "18  83777\n",
       "19  84698\n",
       "20  85459\n",
       "21  85506\n",
       "22  87059"
      ]
     },
     "execution_count": 77,
     "metadata": {},
     "output_type": "execute_result"
    }
   ],
   "source": [
    "db.query_to_dataframe(select_invalid_business_id_where_bad_postal_code)"
   ]
  },
  {
   "cell_type": "code",
   "execution_count": 78,
   "metadata": {},
   "outputs": [
    {
     "name": "stdout",
     "output_type": "stream",
     "text": [
      "\n",
      "SELECT id \n",
      "FROM (\n",
      "SELECT * FROM business\n",
      "WHERE \n",
      "    (latitude IS NULL\n",
      "     AND longitude IS NULL)\n",
      "OR \n",
      "    (latitude = 0 \n",
      "     AND longitude = 0)\n",
      ") q\n",
      "WHERE postal_code IN (\n",
      "SELECT postal_code FROM \n",
      "    (\n",
      "SELECT postal_code, COUNT(*) FROM business\n",
      "GROUP BY postal_code\n",
      "ORDER BY postal_code\n",
      ") counts_by_postal_code\n",
      "WHERE count < 10\n",
      ")\n",
      "\n"
     ]
    }
   ],
   "source": [
    "print(select_invalid_business_id_where_bad_postal_code)"
   ]
  },
  {
   "cell_type": "markdown",
   "metadata": {},
   "source": [
    "We can use this subquery in our `DELETE` query."
   ]
  },
  {
   "cell_type": "markdown",
   "metadata": {},
   "source": [
    "Remember, that a **delete** action is a write action and needs to be handled as a transaction. We need to `BEGIN` and `COMMIT`. "
   ]
  },
  {
   "cell_type": "code",
   "execution_count": 79,
   "metadata": {},
   "outputs": [
    {
     "name": "stdout",
     "output_type": "stream",
     "text": [
      "\n",
      "BEGIN;\n",
      "DELETE \n",
      "FROM business\n",
      "WHERE id IN (\n",
      "SELECT id \n",
      "FROM (\n",
      "SELECT * FROM business\n",
      "WHERE \n",
      "    (latitude IS NULL\n",
      "     AND longitude IS NULL)\n",
      "OR \n",
      "    (latitude = 0 \n",
      "     AND longitude = 0)\n",
      ") q\n",
      "WHERE postal_code IN (\n",
      "SELECT postal_code FROM \n",
      "    (\n",
      "SELECT postal_code, COUNT(*) FROM business\n",
      "GROUP BY postal_code\n",
      "ORDER BY postal_code\n",
      ") counts_by_postal_code\n",
      "WHERE count < 10\n",
      ")\n",
      ");\n",
      "COMMIT;\n",
      "\n"
     ]
    }
   ],
   "source": [
    "delete_invalid_business_bad_postal_code = \"\"\"\n",
    "BEGIN;\n",
    "DELETE \n",
    "FROM business\n",
    "WHERE id IN ({});\n",
    "COMMIT;\n",
    "\"\"\".format(select_invalid_business_id_where_bad_postal_code)\n",
    "print(delete_invalid_business_bad_postal_code)"
   ]
  },
  {
   "cell_type": "markdown",
   "metadata": {},
   "source": [
    "Remember, when we execute this we do not need to fetch results so we should set `fetch_res` to `False`."
   ]
  },
  {
   "cell_type": "code",
   "execution_count": 80,
   "metadata": {},
   "outputs": [
    {
     "ename": "IntegrityError",
     "evalue": "update or delete on table \"business\" violates foreign key constraint \"fk_business_id\" on table \"inspection\"\nDETAIL:  Key (id)=(5755) is still referenced from table \"inspection\".\n",
     "output_type": "error",
     "traceback": [
      "\u001b[0;31m---------------------------------------------------------------------------\u001b[0m",
      "\u001b[0;31mIntegrityError\u001b[0m                            Traceback (most recent call last)",
      "\u001b[0;32m<ipython-input-80-d7eccfdf4705>\u001b[0m in \u001b[0;36m<module>\u001b[0;34m()\u001b[0m\n\u001b[0;32m----> 1\u001b[0;31m \u001b[0mdb\u001b[0m\u001b[0;34m.\u001b[0m\u001b[0mquery_to_dictionary\u001b[0m\u001b[0;34m(\u001b[0m\u001b[0mdelete_invalid_business_bad_postal_code\u001b[0m\u001b[0;34m,\u001b[0m \u001b[0mfetch_res\u001b[0m\u001b[0;34m=\u001b[0m\u001b[0;32mFalse\u001b[0m\u001b[0;34m)\u001b[0m\u001b[0;34m\u001b[0m\u001b[0m\n\u001b[0m",
      "\u001b[0;32m~/lib/db_helper.py\u001b[0m in \u001b[0;36mquery_to_dictionary\u001b[0;34m(query, fetch_res)\u001b[0m\n\u001b[1;32m     12\u001b[0m \u001b[0;32mdef\u001b[0m \u001b[0mquery_to_dictionary\u001b[0m\u001b[0;34m(\u001b[0m\u001b[0mquery\u001b[0m\u001b[0;34m,\u001b[0m \u001b[0mfetch_res\u001b[0m\u001b[0;34m=\u001b[0m\u001b[0;32mTrue\u001b[0m\u001b[0;34m)\u001b[0m\u001b[0;34m:\u001b[0m\u001b[0;34m\u001b[0m\u001b[0m\n\u001b[1;32m     13\u001b[0m     \u001b[0mcon\u001b[0m\u001b[0;34m,\u001b[0m \u001b[0mcur\u001b[0m \u001b[0;34m=\u001b[0m \u001b[0mconnect_to_db\u001b[0m\u001b[0;34m(\u001b[0m\u001b[0;34m)\u001b[0m\u001b[0;34m\u001b[0m\u001b[0m\n\u001b[0;32m---> 14\u001b[0;31m     \u001b[0mcur\u001b[0m\u001b[0;34m.\u001b[0m\u001b[0mexecute\u001b[0m\u001b[0;34m(\u001b[0m\u001b[0mquery\u001b[0m\u001b[0;34m)\u001b[0m\u001b[0;34m\u001b[0m\u001b[0m\n\u001b[0m\u001b[1;32m     15\u001b[0m     \u001b[0;32mif\u001b[0m \u001b[0mfetch_res\u001b[0m\u001b[0;34m:\u001b[0m\u001b[0;34m\u001b[0m\u001b[0m\n\u001b[1;32m     16\u001b[0m         \u001b[0mresults\u001b[0m \u001b[0;34m=\u001b[0m \u001b[0mcur\u001b[0m\u001b[0;34m.\u001b[0m\u001b[0mfetchall\u001b[0m\u001b[0;34m(\u001b[0m\u001b[0;34m)\u001b[0m\u001b[0;34m\u001b[0m\u001b[0m\n",
      "\u001b[0;32m/opt/conda/lib/python3.6/site-packages/psycopg2/extras.py\u001b[0m in \u001b[0;36mexecute\u001b[0;34m(self, query, vars)\u001b[0m\n\u001b[1;32m    247\u001b[0m         \u001b[0mself\u001b[0m\u001b[0;34m.\u001b[0m\u001b[0mcolumn_mapping\u001b[0m \u001b[0;34m=\u001b[0m \u001b[0;34m[\u001b[0m\u001b[0;34m]\u001b[0m\u001b[0;34m\u001b[0m\u001b[0m\n\u001b[1;32m    248\u001b[0m         \u001b[0mself\u001b[0m\u001b[0;34m.\u001b[0m\u001b[0m_query_executed\u001b[0m \u001b[0;34m=\u001b[0m \u001b[0;36m1\u001b[0m\u001b[0;34m\u001b[0m\u001b[0m\n\u001b[0;32m--> 249\u001b[0;31m         \u001b[0;32mreturn\u001b[0m \u001b[0msuper\u001b[0m\u001b[0;34m(\u001b[0m\u001b[0mRealDictCursor\u001b[0m\u001b[0;34m,\u001b[0m \u001b[0mself\u001b[0m\u001b[0;34m)\u001b[0m\u001b[0;34m.\u001b[0m\u001b[0mexecute\u001b[0m\u001b[0;34m(\u001b[0m\u001b[0mquery\u001b[0m\u001b[0;34m,\u001b[0m \u001b[0mvars\u001b[0m\u001b[0;34m)\u001b[0m\u001b[0;34m\u001b[0m\u001b[0m\n\u001b[0m\u001b[1;32m    250\u001b[0m \u001b[0;34m\u001b[0m\u001b[0m\n\u001b[1;32m    251\u001b[0m     \u001b[0;32mdef\u001b[0m \u001b[0mcallproc\u001b[0m\u001b[0;34m(\u001b[0m\u001b[0mself\u001b[0m\u001b[0;34m,\u001b[0m \u001b[0mprocname\u001b[0m\u001b[0;34m,\u001b[0m \u001b[0mvars\u001b[0m\u001b[0;34m=\u001b[0m\u001b[0;32mNone\u001b[0m\u001b[0;34m)\u001b[0m\u001b[0;34m:\u001b[0m\u001b[0;34m\u001b[0m\u001b[0m\n",
      "\u001b[0;31mIntegrityError\u001b[0m: update or delete on table \"business\" violates foreign key constraint \"fk_business_id\" on table \"inspection\"\nDETAIL:  Key (id)=(5755) is still referenced from table \"inspection\".\n"
     ]
    }
   ],
   "source": [
    "db.query_to_dictionary(delete_invalid_business_bad_postal_code, fetch_res=False)"
   ]
  },
  {
   "cell_type": "markdown",
   "metadata": {},
   "source": [
    "Let's have a look at the sql file used to define our database. "
   ]
  },
  {
   "cell_type": "markdown",
   "metadata": {},
   "source": [
    "```SQL\n",
    "CREATE TABLE business (\n",
    "    id INTEGER,\n",
    "    name TEXT,\n",
    "    address TEXT,\n",
    "    city TEXT,\n",
    "    state TEXT,\n",
    "    postal_code INTEGER,\n",
    "    latitude FLOAT,\n",
    "    longitude FLOAT,\n",
    "    phone_number TEXT,\n",
    "    PRIMARY KEY (id));\n",
    "\n",
    "CREATE TABLE inspection (\n",
    "    business_id INTEGER,\n",
    "    score INTEGER,\n",
    "    date TIMESTAMP,\n",
    "    type TEXT,\n",
    "    CONSTRAINT fk_business_id\n",
    "    FOREIGN KEY (business_id)\n",
    "    REFERENCES business (id));\n",
    "\n",
    "CREATE TABLE legend (\n",
    "    minimum_score INTEGER,\n",
    "    maximum_score INTEGER,\n",
    "    description TEXT);\n",
    "\n",
    "CREATE TABLE violation (\n",
    "    business_id INTEGER,\n",
    "    date TIMESTAMP,\n",
    "    description TEXT,\n",
    "    CONSTRAINT fk_business_id\n",
    "    FOREIGN KEY (business_id)\n",
    "    REFERENCES business (id));\n",
    "\n",
    "```"
   ]
  },
  {
   "cell_type": "markdown",
   "metadata": {},
   "source": [
    "Note that we have foreign key `CONSTRAINT`s on the `inspection` and `violation` tables.  "
   ]
  },
  {
   "cell_type": "markdown",
   "metadata": {},
   "source": [
    "This means that, in order to drop the businesses with \"bad\" data, we will need to drop any inspections and violations associated with these. "
   ]
  },
  {
   "cell_type": "markdown",
   "metadata": {},
   "source": [
    "### \"Bad\" Business Data"
   ]
  },
  {
   "cell_type": "code",
   "execution_count": 81,
   "metadata": {},
   "outputs": [
    {
     "data": {
      "text/html": [
       "<div>\n",
       "<table border=\"1\" class=\"dataframe\">\n",
       "  <thead>\n",
       "    <tr style=\"text-align: right;\">\n",
       "      <th></th>\n",
       "      <th>id</th>\n",
       "    </tr>\n",
       "  </thead>\n",
       "  <tbody>\n",
       "    <tr>\n",
       "      <th>0</th>\n",
       "      <td>5755</td>\n",
       "    </tr>\n",
       "    <tr>\n",
       "      <th>1</th>\n",
       "      <td>5757</td>\n",
       "    </tr>\n",
       "    <tr>\n",
       "      <th>2</th>\n",
       "      <td>6029</td>\n",
       "    </tr>\n",
       "    <tr>\n",
       "      <th>3</th>\n",
       "      <td>63091</td>\n",
       "    </tr>\n",
       "    <tr>\n",
       "      <th>4</th>\n",
       "      <td>69804</td>\n",
       "    </tr>\n",
       "    <tr>\n",
       "      <th>5</th>\n",
       "      <td>71471</td>\n",
       "    </tr>\n",
       "    <tr>\n",
       "      <th>6</th>\n",
       "      <td>72127</td>\n",
       "    </tr>\n",
       "    <tr>\n",
       "      <th>7</th>\n",
       "      <td>73799</td>\n",
       "    </tr>\n",
       "    <tr>\n",
       "      <th>8</th>\n",
       "      <td>74674</td>\n",
       "    </tr>\n",
       "    <tr>\n",
       "      <th>9</th>\n",
       "      <td>77759</td>\n",
       "    </tr>\n",
       "    <tr>\n",
       "      <th>10</th>\n",
       "      <td>78650</td>\n",
       "    </tr>\n",
       "    <tr>\n",
       "      <th>11</th>\n",
       "      <td>79607</td>\n",
       "    </tr>\n",
       "    <tr>\n",
       "      <th>12</th>\n",
       "      <td>79829</td>\n",
       "    </tr>\n",
       "    <tr>\n",
       "      <th>13</th>\n",
       "      <td>80554</td>\n",
       "    </tr>\n",
       "    <tr>\n",
       "      <th>14</th>\n",
       "      <td>80829</td>\n",
       "    </tr>\n",
       "    <tr>\n",
       "      <th>15</th>\n",
       "      <td>81134</td>\n",
       "    </tr>\n",
       "    <tr>\n",
       "      <th>16</th>\n",
       "      <td>81885</td>\n",
       "    </tr>\n",
       "    <tr>\n",
       "      <th>17</th>\n",
       "      <td>83744</td>\n",
       "    </tr>\n",
       "    <tr>\n",
       "      <th>18</th>\n",
       "      <td>83777</td>\n",
       "    </tr>\n",
       "    <tr>\n",
       "      <th>19</th>\n",
       "      <td>84698</td>\n",
       "    </tr>\n",
       "    <tr>\n",
       "      <th>20</th>\n",
       "      <td>85459</td>\n",
       "    </tr>\n",
       "    <tr>\n",
       "      <th>21</th>\n",
       "      <td>85506</td>\n",
       "    </tr>\n",
       "    <tr>\n",
       "      <th>22</th>\n",
       "      <td>87059</td>\n",
       "    </tr>\n",
       "  </tbody>\n",
       "</table>\n",
       "</div>"
      ],
      "text/plain": [
       "       id\n",
       "0    5755\n",
       "1    5757\n",
       "2    6029\n",
       "3   63091\n",
       "4   69804\n",
       "5   71471\n",
       "6   72127\n",
       "7   73799\n",
       "8   74674\n",
       "9   77759\n",
       "10  78650\n",
       "11  79607\n",
       "12  79829\n",
       "13  80554\n",
       "14  80829\n",
       "15  81134\n",
       "16  81885\n",
       "17  83744\n",
       "18  83777\n",
       "19  84698\n",
       "20  85459\n",
       "21  85506\n",
       "22  87059"
      ]
     },
     "execution_count": 81,
     "metadata": {},
     "output_type": "execute_result"
    }
   ],
   "source": [
    "db.query_to_dataframe(select_invalid_business_id_where_bad_postal_code)"
   ]
  },
  {
   "cell_type": "code",
   "execution_count": 82,
   "metadata": {},
   "outputs": [
    {
     "name": "stdout",
     "output_type": "stream",
     "text": [
      "\n",
      "SELECT id \n",
      "FROM (\n",
      "SELECT * FROM business\n",
      "WHERE \n",
      "    (latitude IS NULL\n",
      "     AND longitude IS NULL)\n",
      "OR \n",
      "    (latitude = 0 \n",
      "     AND longitude = 0)\n",
      ") q\n",
      "WHERE postal_code IN (\n",
      "SELECT postal_code FROM \n",
      "    (\n",
      "SELECT postal_code, COUNT(*) FROM business\n",
      "GROUP BY postal_code\n",
      "ORDER BY postal_code\n",
      ") counts_by_postal_code\n",
      "WHERE count < 10\n",
      ")\n",
      "\n"
     ]
    }
   ],
   "source": [
    "print(select_invalid_business_id_where_bad_postal_code)"
   ]
  },
  {
   "cell_type": "code",
   "execution_count": 83,
   "metadata": {
    "collapsed": true
   },
   "outputs": [],
   "source": [
    "select_violations_for_bad_biz = \"\"\"\n",
    "SELECT * FROM violation\n",
    "WHERE business_id IN ({})\n",
    "\"\"\".format(select_invalid_business_id_where_bad_postal_code)"
   ]
  },
  {
   "cell_type": "code",
   "execution_count": 84,
   "metadata": {},
   "outputs": [
    {
     "data": {
      "text/html": [
       "<div>\n",
       "<table border=\"1\" class=\"dataframe\">\n",
       "  <thead>\n",
       "    <tr style=\"text-align: right;\">\n",
       "      <th></th>\n",
       "      <th>business_id</th>\n",
       "      <th>date</th>\n",
       "      <th>description</th>\n",
       "    </tr>\n",
       "  </thead>\n",
       "  <tbody>\n",
       "    <tr>\n",
       "      <th>0</th>\n",
       "      <td>6029</td>\n",
       "      <td>2014-03-13</td>\n",
       "      <td>Food safety certificate or food handler card n...</td>\n",
       "    </tr>\n",
       "    <tr>\n",
       "      <th>1</th>\n",
       "      <td>6029</td>\n",
       "      <td>2014-03-13</td>\n",
       "      <td>Unapproved or unmaintained equipment or utensi...</td>\n",
       "    </tr>\n",
       "    <tr>\n",
       "      <th>2</th>\n",
       "      <td>69804</td>\n",
       "      <td>2015-06-17</td>\n",
       "      <td>Low risk vermin infestation</td>\n",
       "    </tr>\n",
       "    <tr>\n",
       "      <th>3</th>\n",
       "      <td>69804</td>\n",
       "      <td>2015-06-17</td>\n",
       "      <td>Moderate risk food holding temperature</td>\n",
       "    </tr>\n",
       "    <tr>\n",
       "      <th>4</th>\n",
       "      <td>69804</td>\n",
       "      <td>2013-09-26</td>\n",
       "      <td>No thermometers or uncalibrated thermometers  ...</td>\n",
       "    </tr>\n",
       "    <tr>\n",
       "      <th>5</th>\n",
       "      <td>69804</td>\n",
       "      <td>2013-09-26</td>\n",
       "      <td>Inadequate food safety knowledge or lack of ce...</td>\n",
       "    </tr>\n",
       "    <tr>\n",
       "      <th>6</th>\n",
       "      <td>71471</td>\n",
       "      <td>2013-05-02</td>\n",
       "      <td>Improper food storage</td>\n",
       "    </tr>\n",
       "    <tr>\n",
       "      <th>7</th>\n",
       "      <td>74674</td>\n",
       "      <td>2015-08-18</td>\n",
       "      <td>Inadequate and inaccessible handwashing facili...</td>\n",
       "    </tr>\n",
       "    <tr>\n",
       "      <th>8</th>\n",
       "      <td>74674</td>\n",
       "      <td>2015-08-18</td>\n",
       "      <td>Permit license or inspection report not posted...</td>\n",
       "    </tr>\n",
       "    <tr>\n",
       "      <th>9</th>\n",
       "      <td>74674</td>\n",
       "      <td>2015-08-18</td>\n",
       "      <td>Mobile food facility with unapproved operating...</td>\n",
       "    </tr>\n",
       "    <tr>\n",
       "      <th>10</th>\n",
       "      <td>74674</td>\n",
       "      <td>2015-08-18</td>\n",
       "      <td>Inadequate sewage or wastewater disposal  [ da...</td>\n",
       "    </tr>\n",
       "    <tr>\n",
       "      <th>11</th>\n",
       "      <td>74674</td>\n",
       "      <td>2015-08-18</td>\n",
       "      <td>No hot water or running water  [ date violatio...</td>\n",
       "    </tr>\n",
       "    <tr>\n",
       "      <th>12</th>\n",
       "      <td>74674</td>\n",
       "      <td>2015-08-18</td>\n",
       "      <td>High risk food holding temperature   [ date vi...</td>\n",
       "    </tr>\n",
       "    <tr>\n",
       "      <th>13</th>\n",
       "      <td>74674</td>\n",
       "      <td>2015-08-18</td>\n",
       "      <td>Unclean hands or improper use of gloves  [ dat...</td>\n",
       "    </tr>\n",
       "    <tr>\n",
       "      <th>14</th>\n",
       "      <td>74674</td>\n",
       "      <td>2015-08-18</td>\n",
       "      <td>Food safety certificate or food handler card n...</td>\n",
       "    </tr>\n",
       "    <tr>\n",
       "      <th>15</th>\n",
       "      <td>74674</td>\n",
       "      <td>2014-06-23</td>\n",
       "      <td>No hot water or running water  [ date violatio...</td>\n",
       "    </tr>\n",
       "    <tr>\n",
       "      <th>16</th>\n",
       "      <td>74674</td>\n",
       "      <td>2014-06-23</td>\n",
       "      <td>Inadequate and inaccessible handwashing facili...</td>\n",
       "    </tr>\n",
       "    <tr>\n",
       "      <th>17</th>\n",
       "      <td>74674</td>\n",
       "      <td>2013-12-02</td>\n",
       "      <td>Inadequate and inaccessible handwashing facili...</td>\n",
       "    </tr>\n",
       "    <tr>\n",
       "      <th>18</th>\n",
       "      <td>74674</td>\n",
       "      <td>2013-12-02</td>\n",
       "      <td>Wiping cloths not clean or properly stored or ...</td>\n",
       "    </tr>\n",
       "    <tr>\n",
       "      <th>19</th>\n",
       "      <td>74674</td>\n",
       "      <td>2013-07-10</td>\n",
       "      <td>Inadequate and inaccessible handwashing facili...</td>\n",
       "    </tr>\n",
       "    <tr>\n",
       "      <th>20</th>\n",
       "      <td>74674</td>\n",
       "      <td>2013-07-10</td>\n",
       "      <td>Wiping cloths not clean or properly stored or ...</td>\n",
       "    </tr>\n",
       "    <tr>\n",
       "      <th>21</th>\n",
       "      <td>74674</td>\n",
       "      <td>2013-07-10</td>\n",
       "      <td>No hot water or running water  [ date violatio...</td>\n",
       "    </tr>\n",
       "    <tr>\n",
       "      <th>22</th>\n",
       "      <td>77759</td>\n",
       "      <td>2014-11-25</td>\n",
       "      <td>Permit license or inspection report not posted...</td>\n",
       "    </tr>\n",
       "    <tr>\n",
       "      <th>23</th>\n",
       "      <td>77759</td>\n",
       "      <td>2014-11-25</td>\n",
       "      <td>Unclean or degraded floors walls or ceilings  ...</td>\n",
       "    </tr>\n",
       "    <tr>\n",
       "      <th>24</th>\n",
       "      <td>77759</td>\n",
       "      <td>2014-11-25</td>\n",
       "      <td>High risk vermin infestation  [ date violation...</td>\n",
       "    </tr>\n",
       "    <tr>\n",
       "      <th>25</th>\n",
       "      <td>77759</td>\n",
       "      <td>2014-11-25</td>\n",
       "      <td>No thermometers or uncalibrated thermometers  ...</td>\n",
       "    </tr>\n",
       "    <tr>\n",
       "      <th>26</th>\n",
       "      <td>77759</td>\n",
       "      <td>2014-11-25</td>\n",
       "      <td>Inadequate warewashing facilities or equipment...</td>\n",
       "    </tr>\n",
       "    <tr>\n",
       "      <th>27</th>\n",
       "      <td>77759</td>\n",
       "      <td>2014-11-25</td>\n",
       "      <td>Food safety certificate or food handler card n...</td>\n",
       "    </tr>\n",
       "    <tr>\n",
       "      <th>28</th>\n",
       "      <td>79607</td>\n",
       "      <td>2015-04-08</td>\n",
       "      <td>Inadequately cleaned or sanitized food contact...</td>\n",
       "    </tr>\n",
       "    <tr>\n",
       "      <th>29</th>\n",
       "      <td>79607</td>\n",
       "      <td>2015-04-08</td>\n",
       "      <td>Inadequate ventilation or lighting</td>\n",
       "    </tr>\n",
       "    <tr>\n",
       "      <th>30</th>\n",
       "      <td>80554</td>\n",
       "      <td>2015-10-30</td>\n",
       "      <td>Inadequately cleaned or sanitized food contact...</td>\n",
       "    </tr>\n",
       "    <tr>\n",
       "      <th>31</th>\n",
       "      <td>80829</td>\n",
       "      <td>2016-03-04</td>\n",
       "      <td>Moderate risk food holding temperature   [ dat...</td>\n",
       "    </tr>\n",
       "    <tr>\n",
       "      <th>32</th>\n",
       "      <td>81134</td>\n",
       "      <td>2016-01-27</td>\n",
       "      <td>Moderate risk vermin infestation</td>\n",
       "    </tr>\n",
       "    <tr>\n",
       "      <th>33</th>\n",
       "      <td>81134</td>\n",
       "      <td>2015-10-30</td>\n",
       "      <td>Foods not protected from contamination  [ date...</td>\n",
       "    </tr>\n",
       "    <tr>\n",
       "      <th>34</th>\n",
       "      <td>81134</td>\n",
       "      <td>2015-10-30</td>\n",
       "      <td>Unclean or unsanitary food contact surfaces  [...</td>\n",
       "    </tr>\n",
       "    <tr>\n",
       "      <th>35</th>\n",
       "      <td>81134</td>\n",
       "      <td>2015-10-30</td>\n",
       "      <td>Contaminated or adulterated food  [ date viola...</td>\n",
       "    </tr>\n",
       "    <tr>\n",
       "      <th>36</th>\n",
       "      <td>81134</td>\n",
       "      <td>2015-10-30</td>\n",
       "      <td>Unclean hands or improper use of gloves  [ dat...</td>\n",
       "    </tr>\n",
       "    <tr>\n",
       "      <th>37</th>\n",
       "      <td>81134</td>\n",
       "      <td>2015-09-14</td>\n",
       "      <td>Moderate risk food holding temperature</td>\n",
       "    </tr>\n",
       "    <tr>\n",
       "      <th>38</th>\n",
       "      <td>81134</td>\n",
       "      <td>2015-09-14</td>\n",
       "      <td>Wiping cloths not clean or properly stored or ...</td>\n",
       "    </tr>\n",
       "    <tr>\n",
       "      <th>39</th>\n",
       "      <td>81134</td>\n",
       "      <td>2015-09-14</td>\n",
       "      <td>Inadequate food safety knowledge or lack of ce...</td>\n",
       "    </tr>\n",
       "    <tr>\n",
       "      <th>40</th>\n",
       "      <td>81134</td>\n",
       "      <td>2014-11-19</td>\n",
       "      <td>High risk food holding temperature   [ date vi...</td>\n",
       "    </tr>\n",
       "    <tr>\n",
       "      <th>41</th>\n",
       "      <td>81885</td>\n",
       "      <td>2015-05-01</td>\n",
       "      <td>Unclean or degraded floors walls or ceilings</td>\n",
       "    </tr>\n",
       "    <tr>\n",
       "      <th>42</th>\n",
       "      <td>81885</td>\n",
       "      <td>2015-05-01</td>\n",
       "      <td>Improper or defective plumbing</td>\n",
       "    </tr>\n",
       "    <tr>\n",
       "      <th>43</th>\n",
       "      <td>81885</td>\n",
       "      <td>2015-05-01</td>\n",
       "      <td>Improper storage of equipment utensils or linens</td>\n",
       "    </tr>\n",
       "  </tbody>\n",
       "</table>\n",
       "</div>"
      ],
      "text/plain": [
       "    business_id       date                                        description\n",
       "0          6029 2014-03-13  Food safety certificate or food handler card n...\n",
       "1          6029 2014-03-13  Unapproved or unmaintained equipment or utensi...\n",
       "2         69804 2015-06-17                        Low risk vermin infestation\n",
       "3         69804 2015-06-17            Moderate risk food holding temperature \n",
       "4         69804 2013-09-26  No thermometers or uncalibrated thermometers  ...\n",
       "5         69804 2013-09-26  Inadequate food safety knowledge or lack of ce...\n",
       "6         71471 2013-05-02                              Improper food storage\n",
       "7         74674 2015-08-18  Inadequate and inaccessible handwashing facili...\n",
       "8         74674 2015-08-18  Permit license or inspection report not posted...\n",
       "9         74674 2015-08-18  Mobile food facility with unapproved operating...\n",
       "10        74674 2015-08-18  Inadequate sewage or wastewater disposal  [ da...\n",
       "11        74674 2015-08-18  No hot water or running water  [ date violatio...\n",
       "12        74674 2015-08-18  High risk food holding temperature   [ date vi...\n",
       "13        74674 2015-08-18  Unclean hands or improper use of gloves  [ dat...\n",
       "14        74674 2015-08-18  Food safety certificate or food handler card n...\n",
       "15        74674 2014-06-23  No hot water or running water  [ date violatio...\n",
       "16        74674 2014-06-23  Inadequate and inaccessible handwashing facili...\n",
       "17        74674 2013-12-02  Inadequate and inaccessible handwashing facili...\n",
       "18        74674 2013-12-02  Wiping cloths not clean or properly stored or ...\n",
       "19        74674 2013-07-10  Inadequate and inaccessible handwashing facili...\n",
       "20        74674 2013-07-10  Wiping cloths not clean or properly stored or ...\n",
       "21        74674 2013-07-10  No hot water or running water  [ date violatio...\n",
       "22        77759 2014-11-25  Permit license or inspection report not posted...\n",
       "23        77759 2014-11-25  Unclean or degraded floors walls or ceilings  ...\n",
       "24        77759 2014-11-25  High risk vermin infestation  [ date violation...\n",
       "25        77759 2014-11-25  No thermometers or uncalibrated thermometers  ...\n",
       "26        77759 2014-11-25  Inadequate warewashing facilities or equipment...\n",
       "27        77759 2014-11-25  Food safety certificate or food handler card n...\n",
       "28        79607 2015-04-08  Inadequately cleaned or sanitized food contact...\n",
       "29        79607 2015-04-08                 Inadequate ventilation or lighting\n",
       "30        80554 2015-10-30  Inadequately cleaned or sanitized food contact...\n",
       "31        80829 2016-03-04  Moderate risk food holding temperature   [ dat...\n",
       "32        81134 2016-01-27                   Moderate risk vermin infestation\n",
       "33        81134 2015-10-30  Foods not protected from contamination  [ date...\n",
       "34        81134 2015-10-30  Unclean or unsanitary food contact surfaces  [...\n",
       "35        81134 2015-10-30  Contaminated or adulterated food  [ date viola...\n",
       "36        81134 2015-10-30  Unclean hands or improper use of gloves  [ dat...\n",
       "37        81134 2015-09-14            Moderate risk food holding temperature \n",
       "38        81134 2015-09-14  Wiping cloths not clean or properly stored or ...\n",
       "39        81134 2015-09-14  Inadequate food safety knowledge or lack of ce...\n",
       "40        81134 2014-11-19  High risk food holding temperature   [ date vi...\n",
       "41        81885 2015-05-01       Unclean or degraded floors walls or ceilings\n",
       "42        81885 2015-05-01                     Improper or defective plumbing\n",
       "43        81885 2015-05-01   Improper storage of equipment utensils or linens"
      ]
     },
     "execution_count": 84,
     "metadata": {},
     "output_type": "execute_result"
    }
   ],
   "source": [
    "db.query_to_dataframe(select_violations_for_bad_biz)"
   ]
  },
  {
   "cell_type": "markdown",
   "metadata": {},
   "source": [
    "### Delete Violations"
   ]
  },
  {
   "cell_type": "code",
   "execution_count": 85,
   "metadata": {
    "collapsed": true
   },
   "outputs": [],
   "source": [
    "select_count_violation = \"\"\"\n",
    "SELECT COUNT(*) FROM violation\"\"\""
   ]
  },
  {
   "cell_type": "code",
   "execution_count": 86,
   "metadata": {},
   "outputs": [
    {
     "data": {
      "text/html": [
       "<div>\n",
       "<table border=\"1\" class=\"dataframe\">\n",
       "  <thead>\n",
       "    <tr style=\"text-align: right;\">\n",
       "      <th></th>\n",
       "      <th>count</th>\n",
       "    </tr>\n",
       "  </thead>\n",
       "  <tbody>\n",
       "    <tr>\n",
       "      <th>0</th>\n",
       "      <td>39907</td>\n",
       "    </tr>\n",
       "  </tbody>\n",
       "</table>\n",
       "</div>"
      ],
      "text/plain": [
       "   count\n",
       "0  39907"
      ]
     },
     "execution_count": 86,
     "metadata": {},
     "output_type": "execute_result"
    }
   ],
   "source": [
    "db.query_to_dataframe(select_count_violation)"
   ]
  },
  {
   "cell_type": "code",
   "execution_count": 87,
   "metadata": {
    "collapsed": true
   },
   "outputs": [],
   "source": [
    "delete_violations_for_bad_biz = \"\"\"\n",
    "BEGIN;\n",
    "DELETE FROM violation\n",
    "WHERE business_id IN ({});\n",
    "COMMIT;\"\"\".format(select_invalid_business_id_where_bad_postal_code)"
   ]
  },
  {
   "cell_type": "code",
   "execution_count": 88,
   "metadata": {
    "collapsed": true
   },
   "outputs": [],
   "source": [
    "db.query_to_dictionary(delete_violations_for_bad_biz, fetch_res=False)"
   ]
  },
  {
   "cell_type": "code",
   "execution_count": 89,
   "metadata": {},
   "outputs": [
    {
     "data": {
      "text/html": [
       "<div>\n",
       "<table border=\"1\" class=\"dataframe\">\n",
       "  <thead>\n",
       "    <tr style=\"text-align: right;\">\n",
       "      <th></th>\n",
       "      <th>count</th>\n",
       "    </tr>\n",
       "  </thead>\n",
       "  <tbody>\n",
       "    <tr>\n",
       "      <th>0</th>\n",
       "      <td>39863</td>\n",
       "    </tr>\n",
       "  </tbody>\n",
       "</table>\n",
       "</div>"
      ],
      "text/plain": [
       "   count\n",
       "0  39863"
      ]
     },
     "execution_count": 89,
     "metadata": {},
     "output_type": "execute_result"
    }
   ],
   "source": [
    "db.query_to_dataframe(select_count_violation)"
   ]
  },
  {
   "cell_type": "markdown",
   "metadata": {},
   "source": [
    "### Delete Inspections"
   ]
  },
  {
   "cell_type": "code",
   "execution_count": 90,
   "metadata": {
    "collapsed": true
   },
   "outputs": [],
   "source": [
    "select_count_inspections = \"\"\"\n",
    "SELECT COUNT(*) FROM inspection\"\"\""
   ]
  },
  {
   "cell_type": "code",
   "execution_count": 91,
   "metadata": {},
   "outputs": [
    {
     "data": {
      "text/html": [
       "<div>\n",
       "<table border=\"1\" class=\"dataframe\">\n",
       "  <thead>\n",
       "    <tr style=\"text-align: right;\">\n",
       "      <th></th>\n",
       "      <th>count</th>\n",
       "    </tr>\n",
       "  </thead>\n",
       "  <tbody>\n",
       "    <tr>\n",
       "      <th>0</th>\n",
       "      <td>15429</td>\n",
       "    </tr>\n",
       "  </tbody>\n",
       "</table>\n",
       "</div>"
      ],
      "text/plain": [
       "   count\n",
       "0  15429"
      ]
     },
     "execution_count": 91,
     "metadata": {},
     "output_type": "execute_result"
    }
   ],
   "source": [
    "db.query_to_dataframe(select_count_inspections)"
   ]
  },
  {
   "cell_type": "code",
   "execution_count": 92,
   "metadata": {
    "collapsed": true
   },
   "outputs": [],
   "source": [
    "delete_inspections_for_bad_biz = \"\"\"\n",
    "BEGIN;\n",
    "DELETE FROM inspection\n",
    "WHERE business_id IN ({});\n",
    "COMMIT;\"\"\".format(select_invalid_business_id_where_bad_postal_code)"
   ]
  },
  {
   "cell_type": "code",
   "execution_count": 93,
   "metadata": {
    "collapsed": true
   },
   "outputs": [],
   "source": [
    "db.query_to_dictionary(delete_inspections_for_bad_biz, fetch_res=False)"
   ]
  },
  {
   "cell_type": "code",
   "execution_count": 94,
   "metadata": {},
   "outputs": [
    {
     "data": {
      "text/html": [
       "<div>\n",
       "<table border=\"1\" class=\"dataframe\">\n",
       "  <thead>\n",
       "    <tr style=\"text-align: right;\">\n",
       "      <th></th>\n",
       "      <th>count</th>\n",
       "    </tr>\n",
       "  </thead>\n",
       "  <tbody>\n",
       "    <tr>\n",
       "      <th>0</th>\n",
       "      <td>15408</td>\n",
       "    </tr>\n",
       "  </tbody>\n",
       "</table>\n",
       "</div>"
      ],
      "text/plain": [
       "   count\n",
       "0  15408"
      ]
     },
     "execution_count": 94,
     "metadata": {},
     "output_type": "execute_result"
    }
   ],
   "source": [
    "db.query_to_dataframe(select_count_inspections)"
   ]
  },
  {
   "cell_type": "markdown",
   "metadata": {},
   "source": [
    "### Delete Businesses"
   ]
  },
  {
   "cell_type": "code",
   "execution_count": 95,
   "metadata": {},
   "outputs": [
    {
     "data": {
      "text/html": [
       "<div>\n",
       "<table border=\"1\" class=\"dataframe\">\n",
       "  <thead>\n",
       "    <tr style=\"text-align: right;\">\n",
       "      <th></th>\n",
       "      <th>count</th>\n",
       "    </tr>\n",
       "  </thead>\n",
       "  <tbody>\n",
       "    <tr>\n",
       "      <th>0</th>\n",
       "      <td>6161</td>\n",
       "    </tr>\n",
       "  </tbody>\n",
       "</table>\n",
       "</div>"
      ],
      "text/plain": [
       "   count\n",
       "0   6161"
      ]
     },
     "execution_count": 95,
     "metadata": {},
     "output_type": "execute_result"
    }
   ],
   "source": [
    "db.query_to_dataframe(select_count_business)"
   ]
  },
  {
   "cell_type": "code",
   "execution_count": 96,
   "metadata": {
    "collapsed": true
   },
   "outputs": [],
   "source": [
    "db.query_to_dictionary(delete_invalid_business_bad_postal_code, fetch_res=False)"
   ]
  },
  {
   "cell_type": "code",
   "execution_count": 97,
   "metadata": {},
   "outputs": [
    {
     "data": {
      "text/html": [
       "<div>\n",
       "<table border=\"1\" class=\"dataframe\">\n",
       "  <thead>\n",
       "    <tr style=\"text-align: right;\">\n",
       "      <th></th>\n",
       "      <th>count</th>\n",
       "    </tr>\n",
       "  </thead>\n",
       "  <tbody>\n",
       "    <tr>\n",
       "      <th>0</th>\n",
       "      <td>6138</td>\n",
       "    </tr>\n",
       "  </tbody>\n",
       "</table>\n",
       "</div>"
      ],
      "text/plain": [
       "   count\n",
       "0   6138"
      ]
     },
     "execution_count": 97,
     "metadata": {},
     "output_type": "execute_result"
    }
   ],
   "source": [
    "db.query_to_dataframe(select_count_business)"
   ]
  },
  {
   "cell_type": "markdown",
   "metadata": {},
   "source": [
    "### Pull Bad Postal Codes Again"
   ]
  },
  {
   "cell_type": "code",
   "execution_count": 98,
   "metadata": {},
   "outputs": [
    {
     "data": {
      "text/html": [
       "<div>\n",
       "<table border=\"1\" class=\"dataframe\">\n",
       "  <thead>\n",
       "    <tr style=\"text-align: right;\">\n",
       "      <th></th>\n",
       "      <th>postal_code</th>\n",
       "    </tr>\n",
       "  </thead>\n",
       "  <tbody>\n",
       "    <tr>\n",
       "      <th>0</th>\n",
       "      <td>0</td>\n",
       "    </tr>\n",
       "    <tr>\n",
       "      <th>1</th>\n",
       "      <td>92672</td>\n",
       "    </tr>\n",
       "    <tr>\n",
       "      <th>2</th>\n",
       "      <td>94013</td>\n",
       "    </tr>\n",
       "    <tr>\n",
       "      <th>3</th>\n",
       "      <td>94101</td>\n",
       "    </tr>\n",
       "    <tr>\n",
       "      <th>4</th>\n",
       "      <td>94120</td>\n",
       "    </tr>\n",
       "    <tr>\n",
       "      <th>5</th>\n",
       "      <td>94130</td>\n",
       "    </tr>\n",
       "    <tr>\n",
       "      <th>6</th>\n",
       "      <td>94140</td>\n",
       "    </tr>\n",
       "    <tr>\n",
       "      <th>7</th>\n",
       "      <td>94143</td>\n",
       "    </tr>\n",
       "    <tr>\n",
       "      <th>8</th>\n",
       "      <td>94513</td>\n",
       "    </tr>\n",
       "    <tr>\n",
       "      <th>9</th>\n",
       "      <td>94609</td>\n",
       "    </tr>\n",
       "    <tr>\n",
       "      <th>10</th>\n",
       "      <td>95105</td>\n",
       "    </tr>\n",
       "  </tbody>\n",
       "</table>\n",
       "</div>"
      ],
      "text/plain": [
       "    postal_code\n",
       "0             0\n",
       "1         92672\n",
       "2         94013\n",
       "3         94101\n",
       "4         94120\n",
       "5         94130\n",
       "6         94140\n",
       "7         94143\n",
       "8         94513\n",
       "9         94609\n",
       "10        95105"
      ]
     },
     "execution_count": 98,
     "metadata": {},
     "output_type": "execute_result"
    }
   ],
   "source": [
    "db.query_to_dataframe(select_postal_code_by_postal_code_less_than_10)"
   ]
  },
  {
   "cell_type": "markdown",
   "metadata": {},
   "source": [
    "## Repair Bad Zip Codes\n",
    "To repair the bad zip codes, we will attempt match the nearest points using GIS. \n",
    "\n",
    "To do this, we will first need to populate the `gpnt_location` column."
   ]
  },
  {
   "cell_type": "code",
   "execution_count": 99,
   "metadata": {},
   "outputs": [
    {
     "name": "stdout",
     "output_type": "stream",
     "text": [
      "\n",
      "SELECT * FROM business\n",
      "WHERE \n",
      "    (latitude IS NOT NULL\n",
      "     AND longitude IS NOT NULL)\n",
      "AND \n",
      "    (latitude != 0 \n",
      "     AND longitude != 0)\n",
      "\n"
     ]
    }
   ],
   "source": [
    "print(select_business_valid)"
   ]
  },
  {
   "cell_type": "code",
   "execution_count": 102,
   "metadata": {},
   "outputs": [
    {
     "data": {
      "text/html": [
       "<div>\n",
       "<table border=\"1\" class=\"dataframe\">\n",
       "  <thead>\n",
       "    <tr style=\"text-align: right;\">\n",
       "      <th></th>\n",
       "      <th>address</th>\n",
       "      <th>city</th>\n",
       "      <th>gpnt_location</th>\n",
       "      <th>id</th>\n",
       "      <th>latitude</th>\n",
       "      <th>longitude</th>\n",
       "      <th>name</th>\n",
       "      <th>phone_number</th>\n",
       "      <th>postal_code</th>\n",
       "      <th>state</th>\n",
       "    </tr>\n",
       "  </thead>\n",
       "  <tbody>\n",
       "    <tr>\n",
       "      <th>160</th>\n",
       "      <td>2228 IRVING ST</td>\n",
       "      <td>San Francisco</td>\n",
       "      <td>0101000020E6100000E36C3A02B8E1424093533BC3D49E...</td>\n",
       "      <td>552</td>\n",
       "      <td>37.763428</td>\n",
       "      <td>-122.481736</td>\n",
       "      <td>LOI'S VIETNAMESE RESTAURANT</td>\n",
       "      <td>+14156615936</td>\n",
       "      <td>94122.0</td>\n",
       "      <td>CA</td>\n",
       "    </tr>\n",
       "    <tr>\n",
       "      <th>1767</th>\n",
       "      <td>2956 24TH ST</td>\n",
       "      <td>San Francisco</td>\n",
       "      <td>0101000020E610000013EF004F5AE04240FB75A73B4F9A...</td>\n",
       "      <td>7771</td>\n",
       "      <td>37.752756</td>\n",
       "      <td>-122.411086</td>\n",
       "      <td>NEW SWEETHEART BAKERY</td>\n",
       "      <td>+14158260876</td>\n",
       "      <td>94110.0</td>\n",
       "      <td>CA</td>\n",
       "    </tr>\n",
       "    <tr>\n",
       "      <th>609</th>\n",
       "      <td>4780 MISSION ST</td>\n",
       "      <td>San Francisco</td>\n",
       "      <td>0101000020E6100000D5EC815660DC4240F73B1405FA9B...</td>\n",
       "      <td>2309</td>\n",
       "      <td>37.721690</td>\n",
       "      <td>-122.437135</td>\n",
       "      <td>BURGER KING</td>\n",
       "      <td>+14154695518</td>\n",
       "      <td>94112.0</td>\n",
       "      <td>CA</td>\n",
       "    </tr>\n",
       "    <tr>\n",
       "      <th>3601</th>\n",
       "      <td>1624 POWELL ST</td>\n",
       "      <td>San Francisco</td>\n",
       "      <td>0101000020E610000096CD1C925AE64240E7374C34489A...</td>\n",
       "      <td>69383</td>\n",
       "      <td>37.799639</td>\n",
       "      <td>-122.410657</td>\n",
       "      <td>LA MEDITERRANEE</td>\n",
       "      <td>+14159212956</td>\n",
       "      <td>94133.0</td>\n",
       "      <td>CA</td>\n",
       "    </tr>\n",
       "  </tbody>\n",
       "</table>\n",
       "</div>"
      ],
      "text/plain": [
       "               address           city  \\\n",
       "160    2228 IRVING ST   San Francisco   \n",
       "1767     2956 24TH ST   San Francisco   \n",
       "609   4780 MISSION ST   San Francisco   \n",
       "3601   1624 POWELL ST   San Francisco   \n",
       "\n",
       "                                          gpnt_location     id   latitude  \\\n",
       "160   0101000020E6100000E36C3A02B8E1424093533BC3D49E...    552  37.763428   \n",
       "1767  0101000020E610000013EF004F5AE04240FB75A73B4F9A...   7771  37.752756   \n",
       "609   0101000020E6100000D5EC815660DC4240F73B1405FA9B...   2309  37.721690   \n",
       "3601  0101000020E610000096CD1C925AE64240E7374C34489A...  69383  37.799639   \n",
       "\n",
       "       longitude                         name  phone_number  postal_code state  \n",
       "160  -122.481736  LOI'S VIETNAMESE RESTAURANT  +14156615936      94122.0    CA  \n",
       "1767 -122.411086        NEW SWEETHEART BAKERY  +14158260876      94110.0    CA  \n",
       "609  -122.437135                  BURGER KING  +14154695518      94112.0    CA  \n",
       "3601 -122.410657              LA MEDITERRANEE  +14159212956      94133.0    CA  "
      ]
     },
     "execution_count": 102,
     "metadata": {},
     "output_type": "execute_result"
    }
   ],
   "source": [
    "db.query_to_dataframe(select_business_valid).sample(4)"
   ]
  },
  {
   "cell_type": "code",
   "execution_count": 100,
   "metadata": {
    "collapsed": true
   },
   "outputs": [],
   "source": [
    "update_gpnt = \"\"\"\n",
    "BEGIN;\n",
    "UPDATE business SET \n",
    "gpnt_location = ST_SetSRID(ST_MakePoint(latitude, longitude),4326);\n",
    "COMMIT;\n",
    "\"\"\""
   ]
  },
  {
   "cell_type": "code",
   "execution_count": 101,
   "metadata": {
    "collapsed": true
   },
   "outputs": [],
   "source": [
    "db.query_to_dictionary(update_gpnt, fetch_res=False)"
   ]
  },
  {
   "cell_type": "code",
   "execution_count": null,
   "metadata": {
    "collapsed": true
   },
   "outputs": [],
   "source": []
  },
  {
   "cell_type": "markdown",
   "metadata": {},
   "source": [
    "### Match points to the points with bad zip codes using a given radius"
   ]
  },
  {
   "cell_type": "code",
   "execution_count": 103,
   "metadata": {},
   "outputs": [
    {
     "data": {
      "text/html": [
       "<div>\n",
       "<table border=\"1\" class=\"dataframe\">\n",
       "  <thead>\n",
       "    <tr style=\"text-align: right;\">\n",
       "      <th></th>\n",
       "      <th>postal_code</th>\n",
       "    </tr>\n",
       "  </thead>\n",
       "  <tbody>\n",
       "    <tr>\n",
       "      <th>0</th>\n",
       "      <td>0</td>\n",
       "    </tr>\n",
       "    <tr>\n",
       "      <th>1</th>\n",
       "      <td>92672</td>\n",
       "    </tr>\n",
       "    <tr>\n",
       "      <th>2</th>\n",
       "      <td>94013</td>\n",
       "    </tr>\n",
       "    <tr>\n",
       "      <th>3</th>\n",
       "      <td>94101</td>\n",
       "    </tr>\n",
       "    <tr>\n",
       "      <th>4</th>\n",
       "      <td>94120</td>\n",
       "    </tr>\n",
       "    <tr>\n",
       "      <th>5</th>\n",
       "      <td>94130</td>\n",
       "    </tr>\n",
       "    <tr>\n",
       "      <th>6</th>\n",
       "      <td>94140</td>\n",
       "    </tr>\n",
       "    <tr>\n",
       "      <th>7</th>\n",
       "      <td>94143</td>\n",
       "    </tr>\n",
       "    <tr>\n",
       "      <th>8</th>\n",
       "      <td>94513</td>\n",
       "    </tr>\n",
       "    <tr>\n",
       "      <th>9</th>\n",
       "      <td>94609</td>\n",
       "    </tr>\n",
       "    <tr>\n",
       "      <th>10</th>\n",
       "      <td>95105</td>\n",
       "    </tr>\n",
       "  </tbody>\n",
       "</table>\n",
       "</div>"
      ],
      "text/plain": [
       "    postal_code\n",
       "0             0\n",
       "1         92672\n",
       "2         94013\n",
       "3         94101\n",
       "4         94120\n",
       "5         94130\n",
       "6         94140\n",
       "7         94143\n",
       "8         94513\n",
       "9         94609\n",
       "10        95105"
      ]
     },
     "execution_count": 103,
     "metadata": {},
     "output_type": "execute_result"
    }
   ],
   "source": [
    "db.query_to_dataframe(select_postal_code_by_postal_code_less_than_10)"
   ]
  },
  {
   "cell_type": "code",
   "execution_count": 104,
   "metadata": {
    "collapsed": true
   },
   "outputs": [],
   "source": [
    "def select_postal_code(postal_code):\n",
    "    return \"\"\"SELECT * FROM business WHERE postal_code = {}\"\"\".format(postal_code)"
   ]
  },
  {
   "cell_type": "code",
   "execution_count": 109,
   "metadata": {},
   "outputs": [
    {
     "data": {
      "text/html": [
       "<div>\n",
       "<table border=\"1\" class=\"dataframe\">\n",
       "  <thead>\n",
       "    <tr style=\"text-align: right;\">\n",
       "      <th></th>\n",
       "      <th>address</th>\n",
       "      <th>city</th>\n",
       "      <th>gpnt_location</th>\n",
       "      <th>id</th>\n",
       "      <th>latitude</th>\n",
       "      <th>longitude</th>\n",
       "      <th>name</th>\n",
       "      <th>phone_number</th>\n",
       "      <th>postal_code</th>\n",
       "      <th>state</th>\n",
       "    </tr>\n",
       "  </thead>\n",
       "  <tbody>\n",
       "    <tr>\n",
       "      <th>0</th>\n",
       "      <td>1530 HAIGHT ST</td>\n",
       "      <td>San Francisco</td>\n",
       "      <td>0101000020E6100000C32973F38DE242405FB87361A49C...</td>\n",
       "      <td>64660</td>\n",
       "      <td>37.769957</td>\n",
       "      <td>-122.447533</td>\n",
       "      <td>HAIGHT STREET MARKET</td>\n",
       "      <td>+14152550643</td>\n",
       "      <td>92672</td>\n",
       "      <td>CA</td>\n",
       "    </tr>\n",
       "  </tbody>\n",
       "</table>\n",
       "</div>"
      ],
      "text/plain": [
       "           address           city  \\\n",
       "0  1530 HAIGHT ST   San Francisco   \n",
       "\n",
       "                                       gpnt_location     id   latitude  \\\n",
       "0  0101000020E6100000C32973F38DE242405FB87361A49C...  64660  37.769957   \n",
       "\n",
       "    longitude                  name  phone_number  postal_code state  \n",
       "0 -122.447533  HAIGHT STREET MARKET  +14152550643        92672    CA  "
      ]
     },
     "execution_count": 109,
     "metadata": {},
     "output_type": "execute_result"
    }
   ],
   "source": [
    "db.query_to_dataframe(select_postal_code(92672))"
   ]
  },
  {
   "cell_type": "code",
   "execution_count": 110,
   "metadata": {
    "collapsed": true
   },
   "outputs": [],
   "source": [
    "def select_gpnt_for_postal_code(postal_code):\n",
    "    return \"\"\"SELECT gpnt_location FROM business WHERE postal_code = {} LIMIT 1\"\"\".format(postal_code)"
   ]
  },
  {
   "cell_type": "code",
   "execution_count": 116,
   "metadata": {},
   "outputs": [
    {
     "data": {
      "text/plain": [
       "'SELECT gpnt_location FROM business WHERE postal_code = 92672 LIMIT 1'"
      ]
     },
     "execution_count": 116,
     "metadata": {},
     "output_type": "execute_result"
    }
   ],
   "source": [
    "select_gpnt_for_postal_code(92672)"
   ]
  },
  {
   "cell_type": "code",
   "execution_count": 117,
   "metadata": {
    "collapsed": true
   },
   "outputs": [],
   "source": [
    "def match_gpnt(postal_code, distance):\n",
    "    return \"\"\"\n",
    "            SELECT *\n",
    "            FROM business\n",
    "            WHERE ST_Distance_Sphere(gpnt_location, ({})) <= {}\n",
    "            \"\"\".format(select_gpnt_for_postal_code(postal_code), distance)"
   ]
  },
  {
   "cell_type": "code",
   "execution_count": 120,
   "metadata": {},
   "outputs": [
    {
     "name": "stdout",
     "output_type": "stream",
     "text": [
      "\n",
      "            SELECT *\n",
      "            FROM business\n",
      "            WHERE ST_Distance_Sphere(gpnt_location, (SELECT gpnt_location FROM business WHERE postal_code = 92672 LIMIT 1)) <= 100\n",
      "            \n"
     ]
    }
   ],
   "source": [
    "print(match_gpnt(92672, 100))"
   ]
  },
  {
   "cell_type": "code",
   "execution_count": 121,
   "metadata": {},
   "outputs": [
    {
     "data": {
      "text/html": [
       "<div>\n",
       "<table border=\"1\" class=\"dataframe\">\n",
       "  <thead>\n",
       "    <tr style=\"text-align: right;\">\n",
       "      <th></th>\n",
       "      <th>address</th>\n",
       "      <th>city</th>\n",
       "      <th>gpnt_location</th>\n",
       "      <th>id</th>\n",
       "      <th>latitude</th>\n",
       "      <th>longitude</th>\n",
       "      <th>name</th>\n",
       "      <th>phone_number</th>\n",
       "      <th>postal_code</th>\n",
       "      <th>state</th>\n",
       "    </tr>\n",
       "  </thead>\n",
       "  <tbody>\n",
       "    <tr>\n",
       "      <th>0</th>\n",
       "      <td>1476 HAIGHT ST</td>\n",
       "      <td>San Francisco</td>\n",
       "      <td>0101000020E61000001BD9959691E24240193DB7D0959C...</td>\n",
       "      <td>1048</td>\n",
       "      <td>37.770068</td>\n",
       "      <td>-122.446644</td>\n",
       "      <td>CREPE EXPRESS</td>\n",
       "      <td>+14158650264</td>\n",
       "      <td>94117</td>\n",
       "      <td>CA</td>\n",
       "    </tr>\n",
       "    <tr>\n",
       "      <th>1</th>\n",
       "      <td>1509 HAIGHT ST</td>\n",
       "      <td>San Francisco</td>\n",
       "      <td>0101000020E6100000B8AF03E78CE24240DFDDCA129D9C...</td>\n",
       "      <td>4257</td>\n",
       "      <td>37.769925</td>\n",
       "      <td>-122.447087</td>\n",
       "      <td>DELUXE</td>\n",
       "      <td>+14155526949</td>\n",
       "      <td>94117</td>\n",
       "      <td>CA</td>\n",
       "    </tr>\n",
       "    <tr>\n",
       "      <th>2</th>\n",
       "      <td>1480 HAIGHT ST</td>\n",
       "      <td>San Francisco</td>\n",
       "      <td>0101000020E61000001BD9959691E24240193DB7D0959C...</td>\n",
       "      <td>4896</td>\n",
       "      <td>37.770068</td>\n",
       "      <td>-122.446644</td>\n",
       "      <td>BEN &amp; JERRY'S HAIGHT-ASHBURY</td>\n",
       "      <td>+14154573140</td>\n",
       "      <td>94117</td>\n",
       "      <td>CA</td>\n",
       "    </tr>\n",
       "    <tr>\n",
       "      <th>3</th>\n",
       "      <td>1535 HAIGHT ST</td>\n",
       "      <td>San Francisco</td>\n",
       "      <td>0101000020E6100000AD3594DA8BE2424040852348A59C...</td>\n",
       "      <td>36635</td>\n",
       "      <td>37.769893</td>\n",
       "      <td>-122.447588</td>\n",
       "      <td>BIG SLICE PIZZA</td>\n",
       "      <td>+14155522520</td>\n",
       "      <td>94117</td>\n",
       "      <td>CA</td>\n",
       "    </tr>\n",
       "    <tr>\n",
       "      <th>4</th>\n",
       "      <td>1530 HAIGHT ST</td>\n",
       "      <td>San Francisco</td>\n",
       "      <td>0101000020E6100000C32973F38DE242405FB87361A49C...</td>\n",
       "      <td>64660</td>\n",
       "      <td>37.769957</td>\n",
       "      <td>-122.447533</td>\n",
       "      <td>HAIGHT STREET MARKET</td>\n",
       "      <td>+14152550643</td>\n",
       "      <td>92672</td>\n",
       "      <td>CA</td>\n",
       "    </tr>\n",
       "    <tr>\n",
       "      <th>5</th>\n",
       "      <td>1599 HAIGHT ST</td>\n",
       "      <td>San Francisco</td>\n",
       "      <td>0101000020E61000006DAE9AE788E24240B1FB8EE1B19C...</td>\n",
       "      <td>67587</td>\n",
       "      <td>37.769803</td>\n",
       "      <td>-122.448357</td>\n",
       "      <td>BURGER URGE</td>\n",
       "      <td>+14155220122</td>\n",
       "      <td>94117</td>\n",
       "      <td>CA</td>\n",
       "    </tr>\n",
       "    <tr>\n",
       "      <th>6</th>\n",
       "      <td>1568 HAIGHT ST</td>\n",
       "      <td>San Francisco</td>\n",
       "      <td>0101000020E61000009BCAA2B08BE242404224438EAD9C...</td>\n",
       "      <td>70970</td>\n",
       "      <td>37.769888</td>\n",
       "      <td>-122.448093</td>\n",
       "      <td>H.Q. BAR &amp; RESTAURANT</td>\n",
       "      <td></td>\n",
       "      <td>94117</td>\n",
       "      <td>CA</td>\n",
       "    </tr>\n",
       "  </tbody>\n",
       "</table>\n",
       "</div>"
      ],
      "text/plain": [
       "           address           city  \\\n",
       "0  1476 HAIGHT ST   San Francisco   \n",
       "1  1509 HAIGHT ST   San Francisco   \n",
       "2   1480 HAIGHT ST  San Francisco   \n",
       "3  1535 HAIGHT ST   San Francisco   \n",
       "4  1530 HAIGHT ST   San Francisco   \n",
       "5  1599 HAIGHT ST   San Francisco   \n",
       "6  1568 HAIGHT ST   San Francisco   \n",
       "\n",
       "                                       gpnt_location     id   latitude  \\\n",
       "0  0101000020E61000001BD9959691E24240193DB7D0959C...   1048  37.770068   \n",
       "1  0101000020E6100000B8AF03E78CE24240DFDDCA129D9C...   4257  37.769925   \n",
       "2  0101000020E61000001BD9959691E24240193DB7D0959C...   4896  37.770068   \n",
       "3  0101000020E6100000AD3594DA8BE2424040852348A59C...  36635  37.769893   \n",
       "4  0101000020E6100000C32973F38DE242405FB87361A49C...  64660  37.769957   \n",
       "5  0101000020E61000006DAE9AE788E24240B1FB8EE1B19C...  67587  37.769803   \n",
       "6  0101000020E61000009BCAA2B08BE242404224438EAD9C...  70970  37.769888   \n",
       "\n",
       "    longitude                          name  phone_number  postal_code state  \n",
       "0 -122.446644                 CREPE EXPRESS  +14158650264        94117    CA  \n",
       "1 -122.447087                        DELUXE  +14155526949        94117    CA  \n",
       "2 -122.446644  BEN & JERRY'S HAIGHT-ASHBURY  +14154573140        94117    CA  \n",
       "3 -122.447588               BIG SLICE PIZZA  +14155522520        94117    CA  \n",
       "4 -122.447533          HAIGHT STREET MARKET  +14152550643        92672    CA  \n",
       "5 -122.448357                   BURGER URGE  +14155220122        94117    CA  \n",
       "6 -122.448093         H.Q. BAR & RESTAURANT                      94117    CA  "
      ]
     },
     "execution_count": 121,
     "metadata": {},
     "output_type": "execute_result"
    }
   ],
   "source": [
    "db.query_to_dataframe(match_gpnt(92672, 100))"
   ]
  },
  {
   "cell_type": "code",
   "execution_count": 122,
   "metadata": {
    "collapsed": true
   },
   "outputs": [],
   "source": [
    "update_92672 = \"\"\"\n",
    "BEGIN;\n",
    "UPDATE business SET postal_code = 94117 WHERE postal_code = 92672;\n",
    "COMMIT;\n",
    "\"\"\""
   ]
  },
  {
   "cell_type": "code",
   "execution_count": 123,
   "metadata": {
    "collapsed": true
   },
   "outputs": [],
   "source": [
    "db.query_to_dictionary(update_92672, fetch_res=False)"
   ]
  },
  {
   "cell_type": "code",
   "execution_count": 124,
   "metadata": {},
   "outputs": [
    {
     "data": {
      "text/html": [
       "<div>\n",
       "<table border=\"1\" class=\"dataframe\">\n",
       "  <thead>\n",
       "    <tr style=\"text-align: right;\">\n",
       "      <th></th>\n",
       "      <th>address</th>\n",
       "      <th>city</th>\n",
       "      <th>gpnt_location</th>\n",
       "      <th>id</th>\n",
       "      <th>latitude</th>\n",
       "      <th>longitude</th>\n",
       "      <th>name</th>\n",
       "      <th>phone_number</th>\n",
       "      <th>postal_code</th>\n",
       "      <th>state</th>\n",
       "    </tr>\n",
       "  </thead>\n",
       "  <tbody>\n",
       "    <tr>\n",
       "      <th>0</th>\n",
       "      <td>1530 HAIGHT ST</td>\n",
       "      <td>San Francisco</td>\n",
       "      <td>0101000020E6100000C32973F38DE242405FB87361A49C...</td>\n",
       "      <td>64660</td>\n",
       "      <td>37.769957</td>\n",
       "      <td>-122.447533</td>\n",
       "      <td>HAIGHT STREET MARKET</td>\n",
       "      <td>+14152550643</td>\n",
       "      <td>94117</td>\n",
       "      <td>CA</td>\n",
       "    </tr>\n",
       "    <tr>\n",
       "      <th>1</th>\n",
       "      <td>1476 HAIGHT ST</td>\n",
       "      <td>San Francisco</td>\n",
       "      <td>0101000020E61000001BD9959691E24240193DB7D0959C...</td>\n",
       "      <td>1048</td>\n",
       "      <td>37.770068</td>\n",
       "      <td>-122.446644</td>\n",
       "      <td>CREPE EXPRESS</td>\n",
       "      <td>+14158650264</td>\n",
       "      <td>94117</td>\n",
       "      <td>CA</td>\n",
       "    </tr>\n",
       "    <tr>\n",
       "      <th>2</th>\n",
       "      <td>1509 HAIGHT ST</td>\n",
       "      <td>San Francisco</td>\n",
       "      <td>0101000020E6100000B8AF03E78CE24240DFDDCA129D9C...</td>\n",
       "      <td>4257</td>\n",
       "      <td>37.769925</td>\n",
       "      <td>-122.447087</td>\n",
       "      <td>DELUXE</td>\n",
       "      <td>+14155526949</td>\n",
       "      <td>94117</td>\n",
       "      <td>CA</td>\n",
       "    </tr>\n",
       "    <tr>\n",
       "      <th>3</th>\n",
       "      <td>1480 HAIGHT ST</td>\n",
       "      <td>San Francisco</td>\n",
       "      <td>0101000020E61000001BD9959691E24240193DB7D0959C...</td>\n",
       "      <td>4896</td>\n",
       "      <td>37.770068</td>\n",
       "      <td>-122.446644</td>\n",
       "      <td>BEN &amp; JERRY'S HAIGHT-ASHBURY</td>\n",
       "      <td>+14154573140</td>\n",
       "      <td>94117</td>\n",
       "      <td>CA</td>\n",
       "    </tr>\n",
       "    <tr>\n",
       "      <th>4</th>\n",
       "      <td>1535 HAIGHT ST</td>\n",
       "      <td>San Francisco</td>\n",
       "      <td>0101000020E6100000AD3594DA8BE2424040852348A59C...</td>\n",
       "      <td>36635</td>\n",
       "      <td>37.769893</td>\n",
       "      <td>-122.447588</td>\n",
       "      <td>BIG SLICE PIZZA</td>\n",
       "      <td>+14155522520</td>\n",
       "      <td>94117</td>\n",
       "      <td>CA</td>\n",
       "    </tr>\n",
       "    <tr>\n",
       "      <th>5</th>\n",
       "      <td>1599 HAIGHT ST</td>\n",
       "      <td>San Francisco</td>\n",
       "      <td>0101000020E61000006DAE9AE788E24240B1FB8EE1B19C...</td>\n",
       "      <td>67587</td>\n",
       "      <td>37.769803</td>\n",
       "      <td>-122.448357</td>\n",
       "      <td>BURGER URGE</td>\n",
       "      <td>+14155220122</td>\n",
       "      <td>94117</td>\n",
       "      <td>CA</td>\n",
       "    </tr>\n",
       "    <tr>\n",
       "      <th>6</th>\n",
       "      <td>1568 HAIGHT ST</td>\n",
       "      <td>San Francisco</td>\n",
       "      <td>0101000020E61000009BCAA2B08BE242404224438EAD9C...</td>\n",
       "      <td>70970</td>\n",
       "      <td>37.769888</td>\n",
       "      <td>-122.448093</td>\n",
       "      <td>H.Q. BAR &amp; RESTAURANT</td>\n",
       "      <td></td>\n",
       "      <td>94117</td>\n",
       "      <td>CA</td>\n",
       "    </tr>\n",
       "  </tbody>\n",
       "</table>\n",
       "</div>"
      ],
      "text/plain": [
       "           address           city  \\\n",
       "0  1530 HAIGHT ST   San Francisco   \n",
       "1  1476 HAIGHT ST   San Francisco   \n",
       "2  1509 HAIGHT ST   San Francisco   \n",
       "3   1480 HAIGHT ST  San Francisco   \n",
       "4  1535 HAIGHT ST   San Francisco   \n",
       "5  1599 HAIGHT ST   San Francisco   \n",
       "6  1568 HAIGHT ST   San Francisco   \n",
       "\n",
       "                                       gpnt_location     id   latitude  \\\n",
       "0  0101000020E6100000C32973F38DE242405FB87361A49C...  64660  37.769957   \n",
       "1  0101000020E61000001BD9959691E24240193DB7D0959C...   1048  37.770068   \n",
       "2  0101000020E6100000B8AF03E78CE24240DFDDCA129D9C...   4257  37.769925   \n",
       "3  0101000020E61000001BD9959691E24240193DB7D0959C...   4896  37.770068   \n",
       "4  0101000020E6100000AD3594DA8BE2424040852348A59C...  36635  37.769893   \n",
       "5  0101000020E61000006DAE9AE788E24240B1FB8EE1B19C...  67587  37.769803   \n",
       "6  0101000020E61000009BCAA2B08BE242404224438EAD9C...  70970  37.769888   \n",
       "\n",
       "    longitude                          name  phone_number  postal_code state  \n",
       "0 -122.447533          HAIGHT STREET MARKET  +14152550643        94117    CA  \n",
       "1 -122.446644                 CREPE EXPRESS  +14158650264        94117    CA  \n",
       "2 -122.447087                        DELUXE  +14155526949        94117    CA  \n",
       "3 -122.446644  BEN & JERRY'S HAIGHT-ASHBURY  +14154573140        94117    CA  \n",
       "4 -122.447588               BIG SLICE PIZZA  +14155522520        94117    CA  \n",
       "5 -122.448357                   BURGER URGE  +14155220122        94117    CA  \n",
       "6 -122.448093         H.Q. BAR & RESTAURANT                      94117    CA  "
      ]
     },
     "execution_count": 124,
     "metadata": {},
     "output_type": "execute_result"
    }
   ],
   "source": [
    "db.query_to_dataframe(match_gpnt(94117, 100))"
   ]
  },
  {
   "cell_type": "markdown",
   "metadata": {},
   "source": [
    "### Check the Status of our Bad Postal Codes"
   ]
  },
  {
   "cell_type": "code",
   "execution_count": 125,
   "metadata": {},
   "outputs": [
    {
     "data": {
      "text/html": [
       "<div>\n",
       "<table border=\"1\" class=\"dataframe\">\n",
       "  <thead>\n",
       "    <tr style=\"text-align: right;\">\n",
       "      <th></th>\n",
       "      <th>postal_code</th>\n",
       "    </tr>\n",
       "  </thead>\n",
       "  <tbody>\n",
       "    <tr>\n",
       "      <th>0</th>\n",
       "      <td>0</td>\n",
       "    </tr>\n",
       "    <tr>\n",
       "      <th>1</th>\n",
       "      <td>94013</td>\n",
       "    </tr>\n",
       "    <tr>\n",
       "      <th>2</th>\n",
       "      <td>94101</td>\n",
       "    </tr>\n",
       "    <tr>\n",
       "      <th>3</th>\n",
       "      <td>94120</td>\n",
       "    </tr>\n",
       "    <tr>\n",
       "      <th>4</th>\n",
       "      <td>94130</td>\n",
       "    </tr>\n",
       "    <tr>\n",
       "      <th>5</th>\n",
       "      <td>94140</td>\n",
       "    </tr>\n",
       "    <tr>\n",
       "      <th>6</th>\n",
       "      <td>94143</td>\n",
       "    </tr>\n",
       "    <tr>\n",
       "      <th>7</th>\n",
       "      <td>94513</td>\n",
       "    </tr>\n",
       "    <tr>\n",
       "      <th>8</th>\n",
       "      <td>94609</td>\n",
       "    </tr>\n",
       "    <tr>\n",
       "      <th>9</th>\n",
       "      <td>95105</td>\n",
       "    </tr>\n",
       "  </tbody>\n",
       "</table>\n",
       "</div>"
      ],
      "text/plain": [
       "   postal_code\n",
       "0            0\n",
       "1        94013\n",
       "2        94101\n",
       "3        94120\n",
       "4        94130\n",
       "5        94140\n",
       "6        94143\n",
       "7        94513\n",
       "8        94609\n",
       "9        95105"
      ]
     },
     "execution_count": 125,
     "metadata": {},
     "output_type": "execute_result"
    }
   ],
   "source": [
    "db.query_to_dataframe(select_postal_code_by_postal_code_less_than_10)"
   ]
  },
  {
   "cell_type": "code",
   "execution_count": 126,
   "metadata": {},
   "outputs": [
    {
     "data": {
      "text/html": [
       "<div>\n",
       "<table border=\"1\" class=\"dataframe\">\n",
       "  <thead>\n",
       "    <tr style=\"text-align: right;\">\n",
       "      <th></th>\n",
       "      <th>address</th>\n",
       "      <th>city</th>\n",
       "      <th>gpnt_location</th>\n",
       "      <th>id</th>\n",
       "      <th>latitude</th>\n",
       "      <th>longitude</th>\n",
       "      <th>name</th>\n",
       "      <th>phone_number</th>\n",
       "      <th>postal_code</th>\n",
       "      <th>state</th>\n",
       "    </tr>\n",
       "  </thead>\n",
       "  <tbody>\n",
       "    <tr>\n",
       "      <th>0</th>\n",
       "      <td>1555 MISSION ST</td>\n",
       "      <td>San Francisco</td>\n",
       "      <td>0101000020E610000082C476F700E34240F06B2409C29A...</td>\n",
       "      <td>1216</td>\n",
       "      <td>37.773467</td>\n",
       "      <td>-122.418093</td>\n",
       "      <td>ZAOH RESTAURANT</td>\n",
       "      <td>+14154313930</td>\n",
       "      <td>94103</td>\n",
       "      <td>CA</td>\n",
       "    </tr>\n",
       "    <tr>\n",
       "      <th>1</th>\n",
       "      <td>1455A MARKET ST</td>\n",
       "      <td>San Francisco</td>\n",
       "      <td>0101000020E6100000BEC1172653E34240962023A0C29A...</td>\n",
       "      <td>4661</td>\n",
       "      <td>37.775975</td>\n",
       "      <td>-122.418129</td>\n",
       "      <td>HAPPY DONUT</td>\n",
       "      <td>+14152528868</td>\n",
       "      <td>94103</td>\n",
       "      <td>CA</td>\n",
       "    </tr>\n",
       "    <tr>\n",
       "      <th>2</th>\n",
       "      <td>1455 MARKET ST 1/F</td>\n",
       "      <td>San Francisco</td>\n",
       "      <td>0101000020E61000005EB9DE3653E34240DEE68D93C29A...</td>\n",
       "      <td>5018</td>\n",
       "      <td>37.775977</td>\n",
       "      <td>-122.418126</td>\n",
       "      <td>MCDONALDS</td>\n",
       "      <td>+14154686990</td>\n",
       "      <td>94103</td>\n",
       "      <td>CA</td>\n",
       "    </tr>\n",
       "    <tr>\n",
       "      <th>3</th>\n",
       "      <td>1559 MISSION ST</td>\n",
       "      <td>San Francisco</td>\n",
       "      <td>0101000020E61000003B18B14F00E3424025ADF886C29A...</td>\n",
       "      <td>36745</td>\n",
       "      <td>37.773447</td>\n",
       "      <td>-122.418123</td>\n",
       "      <td>SHANGHAI CHINA RESTAURANT</td>\n",
       "      <td>+14156218188</td>\n",
       "      <td>94103</td>\n",
       "      <td>CA</td>\n",
       "    </tr>\n",
       "    <tr>\n",
       "      <th>4</th>\n",
       "      <td>41 MONTGOMERY ST</td>\n",
       "      <td>San Francisco</td>\n",
       "      <td>0101000020E6100000923B6C2233E34240C53C2B69C59A...</td>\n",
       "      <td>65856</td>\n",
       "      <td>37.774998</td>\n",
       "      <td>-122.418299</td>\n",
       "      <td>BAMBOO ASIA</td>\n",
       "      <td>+14156246790</td>\n",
       "      <td>94101</td>\n",
       "      <td>CA</td>\n",
       "    </tr>\n",
       "    <tr>\n",
       "      <th>5</th>\n",
       "      <td>1400 MARKET ST</td>\n",
       "      <td>San Francisco</td>\n",
       "      <td>0101000020E61000006D54A70359E3424008C89750C19A...</td>\n",
       "      <td>66219</td>\n",
       "      <td>37.776154</td>\n",
       "      <td>-122.418049</td>\n",
       "      <td>LITTLE GRIDDLE</td>\n",
       "      <td>+14158644292</td>\n",
       "      <td>94102</td>\n",
       "      <td>CA</td>\n",
       "    </tr>\n",
       "    <tr>\n",
       "      <th>6</th>\n",
       "      <td>1408 MARKET ST</td>\n",
       "      <td>San Francisco</td>\n",
       "      <td>0101000020E61000004A7EC4AF58E3424032755776C19A...</td>\n",
       "      <td>69121</td>\n",
       "      <td>37.776144</td>\n",
       "      <td>-122.418058</td>\n",
       "      <td>MAVELOUS, LLC</td>\n",
       "      <td>+14156268884</td>\n",
       "      <td>94102</td>\n",
       "      <td>CA</td>\n",
       "    </tr>\n",
       "  </tbody>\n",
       "</table>\n",
       "</div>"
      ],
      "text/plain": [
       "              address           city  \\\n",
       "0    1555 MISSION ST   San Francisco   \n",
       "1    1455A MARKET ST   San Francisco   \n",
       "2  1455 MARKET ST 1/F  San Francisco   \n",
       "3    1559 MISSION ST   San Francisco   \n",
       "4   41 MONTGOMERY ST   San Francisco   \n",
       "5     1400 MARKET ST   San Francisco   \n",
       "6     1408 MARKET ST   San Francisco   \n",
       "\n",
       "                                       gpnt_location     id   latitude  \\\n",
       "0  0101000020E610000082C476F700E34240F06B2409C29A...   1216  37.773467   \n",
       "1  0101000020E6100000BEC1172653E34240962023A0C29A...   4661  37.775975   \n",
       "2  0101000020E61000005EB9DE3653E34240DEE68D93C29A...   5018  37.775977   \n",
       "3  0101000020E61000003B18B14F00E3424025ADF886C29A...  36745  37.773447   \n",
       "4  0101000020E6100000923B6C2233E34240C53C2B69C59A...  65856  37.774998   \n",
       "5  0101000020E61000006D54A70359E3424008C89750C19A...  66219  37.776154   \n",
       "6  0101000020E61000004A7EC4AF58E3424032755776C19A...  69121  37.776144   \n",
       "\n",
       "    longitude                       name  phone_number  postal_code state  \n",
       "0 -122.418093            ZAOH RESTAURANT  +14154313930        94103    CA  \n",
       "1 -122.418129                HAPPY DONUT  +14152528868        94103    CA  \n",
       "2 -122.418126                  MCDONALDS  +14154686990        94103    CA  \n",
       "3 -122.418123  SHANGHAI CHINA RESTAURANT  +14156218188        94103    CA  \n",
       "4 -122.418299                BAMBOO ASIA  +14156246790        94101    CA  \n",
       "5 -122.418049             LITTLE GRIDDLE  +14158644292        94102    CA  \n",
       "6 -122.418058              MAVELOUS, LLC  +14156268884        94102    CA  "
      ]
     },
     "execution_count": 126,
     "metadata": {},
     "output_type": "execute_result"
    }
   ],
   "source": [
    "db.query_to_dataframe(match_gpnt(94101, 100))"
   ]
  },
  {
   "cell_type": "markdown",
   "metadata": {},
   "source": [
    "## Plot locations"
   ]
  },
  {
   "cell_type": "markdown",
   "metadata": {},
   "source": [
    "Next, we will use Folium to plot the businesses for which we have a latitude and a longitude. "
   ]
  },
  {
   "cell_type": "markdown",
   "metadata": {},
   "source": [
    "### `folium.Map` \n",
    "\n",
    "To build our `folium.Map` object we will need to center the map in a given location. We will use the `avg` aggregate function to do this. "
   ]
  },
  {
   "cell_type": "code",
   "execution_count": 127,
   "metadata": {
    "collapsed": true
   },
   "outputs": [],
   "source": [
    "import folium"
   ]
  },
  {
   "cell_type": "code",
   "execution_count": 128,
   "metadata": {
    "collapsed": true
   },
   "outputs": [],
   "source": [
    "avg_location_sf = \"\"\"\n",
    "SELECT avg(latitude) as avg_lat, \n",
    "       avg(longitude) as avg_lon FROM ({}) q;\n",
    "\"\"\".format(select_business_valid)"
   ]
  },
  {
   "cell_type": "code",
   "execution_count": 129,
   "metadata": {},
   "outputs": [
    {
     "data": {
      "text/html": [
       "<div>\n",
       "<table border=\"1\" class=\"dataframe\">\n",
       "  <thead>\n",
       "    <tr style=\"text-align: right;\">\n",
       "      <th></th>\n",
       "      <th>avg_lat</th>\n",
       "      <th>avg_lon</th>\n",
       "    </tr>\n",
       "  </thead>\n",
       "  <tbody>\n",
       "    <tr>\n",
       "      <th>0</th>\n",
       "      <td>37.774003</td>\n",
       "      <td>-122.425144</td>\n",
       "    </tr>\n",
       "  </tbody>\n",
       "</table>\n",
       "</div>"
      ],
      "text/plain": [
       "     avg_lat     avg_lon\n",
       "0  37.774003 -122.425144"
      ]
     },
     "execution_count": 129,
     "metadata": {},
     "output_type": "execute_result"
    }
   ],
   "source": [
    "db.query_to_dataframe(avg_location_sf)"
   ]
  },
  {
   "cell_type": "code",
   "execution_count": 130,
   "metadata": {
    "collapsed": true
   },
   "outputs": [],
   "source": [
    "avg_loc_df = db.query_to_dataframe(avg_location_sf)"
   ]
  },
  {
   "cell_type": "markdown",
   "metadata": {},
   "source": [
    "Then assign the result as a single list value."
   ]
  },
  {
   "cell_type": "code",
   "execution_count": 131,
   "metadata": {
    "collapsed": true
   },
   "outputs": [],
   "source": [
    "avg_loc = avg_loc_df.values.tolist()[0]"
   ]
  },
  {
   "cell_type": "code",
   "execution_count": 132,
   "metadata": {},
   "outputs": [
    {
     "data": {
      "text/plain": [
       "[37.7740031665327, -122.425144254083]"
      ]
     },
     "execution_count": 132,
     "metadata": {},
     "output_type": "execute_result"
    }
   ],
   "source": [
    "avg_loc"
   ]
  },
  {
   "cell_type": "code",
   "execution_count": 133,
   "metadata": {
    "collapsed": true
   },
   "outputs": [],
   "source": [
    "sf_map = folium.Map(location=avg_loc, zoom_start=13)"
   ]
  },
  {
   "cell_type": "code",
   "execution_count": 134,
   "metadata": {
    "collapsed": true
   },
   "outputs": [],
   "source": [
    "within_200_meters_of_94101 = db.query_to_dataframe(match_gpnt(94101, 200))"
   ]
  },
  {
   "cell_type": "code",
   "execution_count": 135,
   "metadata": {
    "collapsed": true
   },
   "outputs": [],
   "source": [
    "near_94101_lat_long = within_200_meters_of_94101[['latitude', 'longitude','postal_code']].values.tolist()"
   ]
  },
  {
   "cell_type": "code",
   "execution_count": 136,
   "metadata": {
    "collapsed": true
   },
   "outputs": [],
   "source": [
    "for loc in near_94101_lat_long:\n",
    "    try:\n",
    "        postal_code = str(int(loc[2]))\n",
    "    except:\n",
    "        postal_code = None\n",
    "    folium.Marker(loc[:2],postal_code).add_to(sf_map)"
   ]
  },
  {
   "cell_type": "code",
   "execution_count": 137,
   "metadata": {
    "scrolled": false
   },
   "outputs": [
    {
     "data": {
      "text/html": [
       "<div style=\"width:100%;\"><div style=\"position:relative;width:100%;height:0;padding-bottom:60%;\"><iframe src=\"data:text/html;charset=utf-8;base64,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\" style=\"position:absolute;width:100%;height:100%;left:0;top:0;border:none !important;\" allowfullscreen webkitallowfullscreen mozallowfullscreen></iframe></div></div>"
      ],
      "text/plain": [
       "<folium.folium.Map at 0x7fa9084dec50>"
      ]
     },
     "execution_count": 137,
     "metadata": {},
     "output_type": "execute_result"
    }
   ],
   "source": [
    "sf_map"
   ]
  },
  {
   "cell_type": "markdown",
   "metadata": {},
   "source": [
    "## Maybe that one is OK"
   ]
  },
  {
   "cell_type": "markdown",
   "metadata": {},
   "source": [
    "# Practice \n",
    "\n",
    "See if you can clean up the rest of the \"bad\" postal codes. If the postal codes are valid, keep them."
   ]
  },
  {
   "cell_type": "code",
   "execution_count": null,
   "metadata": {
    "collapsed": true
   },
   "outputs": [],
   "source": []
  },
  {
   "cell_type": "markdown",
   "metadata": {},
   "source": [
    "# What about those Postal Code `NaN`s?"
   ]
  },
  {
   "cell_type": "markdown",
   "metadata": {},
   "source": [
    "Train a K Nearest Neighbors Model to Predict the NaN values. \n",
    "\n",
    "1. Pull all of the data with a valid lat, long, and postal code.\n",
    "2. Perform a train test split on the data.\n",
    "3. Fit a K Nearest Neighbors Model on the training data.\n",
    "4. Validate the model using the test data. \n",
    "5. (optional) Performa Grid Search over the data to find the best number of neighbors to use.\n",
    "6. (optional) Plot a complexity curve showing your model's accuracy versus the number of neighbors.\n",
    "7. Pull all of the data with a valid lat, long, but no postal code. \n",
    "8. Use your model to assign a postal code to the data. "
   ]
  },
  {
   "cell_type": "code",
   "execution_count": null,
   "metadata": {
    "collapsed": true
   },
   "outputs": [],
   "source": []
  },
  {
   "cell_type": "markdown",
   "metadata": {},
   "source": [
    "# Data Analysis"
   ]
  },
  {
   "cell_type": "markdown",
   "metadata": {},
   "source": [
    "Consider the `violation` table.\n",
    "\n",
    "\n",
    "Answer these questions using sql:\n",
    "1. How many violations are there?\n",
    "- How many businesses committing violations?\n",
    "- What's the average number of violations per business?\n",
    "\n",
    "Answer these questions using python\n",
    "1. Draw a plot of the violations count\n",
    "- Is the average number of violations meaningful?\n",
    "> Not really, the distribution is quite skewed\n",
    "- draw a plot of the normalized cumulative violation counts. Can we discard the restaurants with few violations?\n",
    "- where would you draw a threshold if you were to keep 90% of the violations?"
   ]
  },
  {
   "cell_type": "markdown",
   "metadata": {},
   "source": [
    "Consider the `inspection` table.\n",
    "\n",
    "Answer these questions using SQL:\n",
    "1. What's the average score for the whole city?\n",
    "- What's the average score per business?\n",
    "- Does the score correlate with the number of inspections?\n",
    "- Create a dataframe from a table with the following columns:\n",
    "    business_id, average_score, number_of_inspections, number_of_violations\n",
    "- Use pandas to do a scatter matrix plot of average_score, number_of_inspections, number_of_violations to check for correlations"
   ]
  },
  {
   "cell_type": "markdown",
   "metadata": {},
   "source": [
    "### Postal Code Analysis"
   ]
  },
  {
   "cell_type": "markdown",
   "metadata": {},
   "source": [
    "The town administration would like to know which zip code are the ones where they should focus the inspections.\n",
    "\n",
    "Use the information contained in the `business` table as well as the previous tables to answer the following questions using SQL:\n",
    "\n",
    "1. Count the number of businesses per zipcode and sort them by descending order\n",
    "- Which are the top 5 zipcodes with the worst average score?\n",
    "    - Restrict your analysis to the zipcodes with at least 50 businesses\n",
    "    - Do a simple average of the inspections scores in the postal code\n",
    "- Which are the top 5 zipcodes with the highest number of violations per restaurant?\n",
    "    - Restrict your  analysis to the zipcodes with at least 50 businesses\n",
    "\n"
   ]
  },
  {
   "cell_type": "markdown",
   "metadata": {},
   "source": [
    "## Final recommendation\n",
    "Give a final recommendation on which 2 zipcodes should the administration focus and choose an appropriate plot to "
   ]
  },
  {
   "cell_type": "code",
   "execution_count": null,
   "metadata": {
    "collapsed": true
   },
   "outputs": [],
   "source": []
  }
 ],
 "metadata": {
  "kernelspec": {
   "display_name": "Python 3",
   "language": "python",
   "name": "python3"
  },
  "language_info": {
   "codemirror_mode": {
    "name": "ipython",
    "version": 3
   },
   "file_extension": ".py",
   "mimetype": "text/x-python",
   "name": "python",
   "nbconvert_exporter": "python",
   "pygments_lexer": "ipython3",
   "version": "3.6.1"
  }
 },
 "nbformat": 4,
 "nbformat_minor": 2
}
